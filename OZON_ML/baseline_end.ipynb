{
 "cells": [
  {
   "cell_type": "code",
   "execution_count": 2,
   "metadata": {
    "ExecuteTime": {
     "end_time": "2023-05-19T06:10:23.678400Z",
     "start_time": "2023-05-19T06:10:16.503064Z"
    },
    "id": "5c5JLiTYRi1p"
   },
   "outputs": [],
   "source": [
    "import json\n",
    "from functools import partial\n",
    "from typing import List\n",
    "\n",
    "import matplotlib.pyplot as plt\n",
    "import numpy as np\n",
    "import pandas as pd\n",
    "import seaborn as sns\n",
    "from catboost import CatBoostClassifier, Pool\n",
    "from catboost.utils import eval_metric\n",
    "from scipy.spatial.distance import cosine, euclidean\n",
    "from sklearn.metrics import pairwise_distances\n",
    "from sklearn.model_selection import train_test_split"
   ]
  },
  {
   "cell_type": "markdown",
   "metadata": {
    "id": "K17MnQ8KRi1s"
   },
   "source": [
    "### Load data"
   ]
  },
  {
   "cell_type": "code",
   "execution_count": 55,
   "metadata": {},
   "outputs": [
    {
     "data": {
      "text/html": [
       "<div>\n",
       "<style scoped>\n",
       "    .dataframe tbody tr th:only-of-type {\n",
       "        vertical-align: middle;\n",
       "    }\n",
       "\n",
       "    .dataframe tbody tr th {\n",
       "        vertical-align: top;\n",
       "    }\n",
       "\n",
       "    .dataframe thead th {\n",
       "        text-align: right;\n",
       "    }\n",
       "</style>\n",
       "<table border=\"1\" class=\"dataframe\">\n",
       "  <thead>\n",
       "    <tr style=\"text-align: right;\">\n",
       "      <th></th>\n",
       "      <th>Unnamed: 0</th>\n",
       "      <th>target</th>\n",
       "      <th>unique</th>\n",
       "      <th>variantid1</th>\n",
       "      <th>variantid2</th>\n",
       "      <th>Count_vec Similarity_characteristic_attributes_mapping</th>\n",
       "      <th>TF-idf Similarity_characteristic_attributes_mapping</th>\n",
       "      <th>Count_vec Similarity_name</th>\n",
       "      <th>TF-idf Similarity_name</th>\n",
       "      <th>Count_vec Similarity_categories</th>\n",
       "      <th>TF-idf Similarity_categories</th>\n",
       "      <th>Count_vec Similarity_color_parsed</th>\n",
       "      <th>TF-idf Similarity_color_parsed</th>\n",
       "      <th>Count_vec Similarity_all_text</th>\n",
       "      <th>TF-idf Similarity_all_text</th>\n",
       "      <th>cos_sim_main_pic_embeddings_resnet</th>\n",
       "    </tr>\n",
       "  </thead>\n",
       "  <tbody>\n",
       "    <tr>\n",
       "      <th>0</th>\n",
       "      <td>0</td>\n",
       "      <td>0.0</td>\n",
       "      <td>5119786251198054</td>\n",
       "      <td>51197862</td>\n",
       "      <td>51198054</td>\n",
       "      <td>1.000000</td>\n",
       "      <td>1.000000</td>\n",
       "      <td>0.857143</td>\n",
       "      <td>0.752320</td>\n",
       "      <td>1.0</td>\n",
       "      <td>1.0</td>\n",
       "      <td>1.0</td>\n",
       "      <td>1.0</td>\n",
       "      <td>0.989796</td>\n",
       "      <td>0.980042</td>\n",
       "      <td>0.999613</td>\n",
       "    </tr>\n",
       "    <tr>\n",
       "      <th>1</th>\n",
       "      <td>1</td>\n",
       "      <td>0.0</td>\n",
       "      <td>5119786251199884</td>\n",
       "      <td>51197862</td>\n",
       "      <td>51199884</td>\n",
       "      <td>1.000000</td>\n",
       "      <td>1.000000</td>\n",
       "      <td>0.857143</td>\n",
       "      <td>0.752320</td>\n",
       "      <td>1.0</td>\n",
       "      <td>1.0</td>\n",
       "      <td>1.0</td>\n",
       "      <td>1.0</td>\n",
       "      <td>0.989796</td>\n",
       "      <td>0.980042</td>\n",
       "      <td>0.999544</td>\n",
       "    </tr>\n",
       "    <tr>\n",
       "      <th>2</th>\n",
       "      <td>2</td>\n",
       "      <td>1.0</td>\n",
       "      <td>53062686536165289</td>\n",
       "      <td>53062686</td>\n",
       "      <td>536165289</td>\n",
       "      <td>0.416667</td>\n",
       "      <td>0.311807</td>\n",
       "      <td>0.750000</td>\n",
       "      <td>0.602975</td>\n",
       "      <td>1.0</td>\n",
       "      <td>1.0</td>\n",
       "      <td>0.0</td>\n",
       "      <td>0.0</td>\n",
       "      <td>0.583805</td>\n",
       "      <td>0.439611</td>\n",
       "      <td>0.987629</td>\n",
       "    </tr>\n",
       "  </tbody>\n",
       "</table>\n",
       "</div>"
      ],
      "text/plain": [
       "   Unnamed: 0  target             unique  variantid1  variantid2  \\\n",
       "0           0     0.0   5119786251198054    51197862    51198054   \n",
       "1           1     0.0   5119786251199884    51197862    51199884   \n",
       "2           2     1.0  53062686536165289    53062686   536165289   \n",
       "\n",
       "   Count_vec Similarity_characteristic_attributes_mapping  \\\n",
       "0                                           1.000000        \n",
       "1                                           1.000000        \n",
       "2                                           0.416667        \n",
       "\n",
       "   TF-idf Similarity_characteristic_attributes_mapping  \\\n",
       "0                                           1.000000     \n",
       "1                                           1.000000     \n",
       "2                                           0.311807     \n",
       "\n",
       "   Count_vec Similarity_name  TF-idf Similarity_name  \\\n",
       "0                   0.857143                0.752320   \n",
       "1                   0.857143                0.752320   \n",
       "2                   0.750000                0.602975   \n",
       "\n",
       "   Count_vec Similarity_categories  TF-idf Similarity_categories  \\\n",
       "0                              1.0                           1.0   \n",
       "1                              1.0                           1.0   \n",
       "2                              1.0                           1.0   \n",
       "\n",
       "   Count_vec Similarity_color_parsed  TF-idf Similarity_color_parsed  \\\n",
       "0                                1.0                             1.0   \n",
       "1                                1.0                             1.0   \n",
       "2                                0.0                             0.0   \n",
       "\n",
       "   Count_vec Similarity_all_text  TF-idf Similarity_all_text  \\\n",
       "0                       0.989796                    0.980042   \n",
       "1                       0.989796                    0.980042   \n",
       "2                       0.583805                    0.439611   \n",
       "\n",
       "   cos_sim_main_pic_embeddings_resnet  \n",
       "0                            0.999613  \n",
       "1                            0.999544  \n",
       "2                            0.987629  "
      ]
     },
     "execution_count": 55,
     "metadata": {},
     "output_type": "execute_result"
    }
   ],
   "source": [
    "data=pd.read_csv(r\"C:\\Users\\Lawye\\YandexDisk\\jupyter\\hackaton\\results_bes_pervonachalnyx_s_kartinkoy.csv\", encoding='utf-8')\n",
    "data.head(3)"
   ]
  },
  {
   "cell_type": "code",
   "execution_count": 56,
   "metadata": {},
   "outputs": [
    {
     "name": "stdout",
     "output_type": "stream",
     "text": [
      "<class 'pandas.core.frame.DataFrame'>\n",
      "RangeIndex: 306540 entries, 0 to 306539\n",
      "Data columns (total 6 columns):\n",
      " #   Column                               Non-Null Count   Dtype  \n",
      "---  ------                               --------------   -----  \n",
      " 0   Unnamed: 0                           306540 non-null  int64  \n",
      " 1   unique                               306540 non-null  int64  \n",
      " 2   similarity_pic_embeddings_resnet_v1  306540 non-null  float64\n",
      " 3   similarity_name_bert_64              306540 non-null  float64\n",
      " 4   cat3                                 306540 non-null  object \n",
      " 5   cat3_grouped                         306540 non-null  object \n",
      "dtypes: float64(2), int64(2), object(2)\n",
      "memory usage: 14.0+ MB\n"
     ]
    }
   ],
   "source": [
    "data2.info()"
   ]
  },
  {
   "cell_type": "code",
   "execution_count": 57,
   "metadata": {},
   "outputs": [
    {
     "data": {
      "text/html": [
       "<div>\n",
       "<style scoped>\n",
       "    .dataframe tbody tr th:only-of-type {\n",
       "        vertical-align: middle;\n",
       "    }\n",
       "\n",
       "    .dataframe tbody tr th {\n",
       "        vertical-align: top;\n",
       "    }\n",
       "\n",
       "    .dataframe thead th {\n",
       "        text-align: right;\n",
       "    }\n",
       "</style>\n",
       "<table border=\"1\" class=\"dataframe\">\n",
       "  <thead>\n",
       "    <tr style=\"text-align: right;\">\n",
       "      <th></th>\n",
       "      <th>Unnamed: 0</th>\n",
       "      <th>unique</th>\n",
       "      <th>similarity_pic_embeddings_resnet_v1</th>\n",
       "      <th>similarity_name_bert_64</th>\n",
       "      <th>cat3</th>\n",
       "      <th>cat3_grouped</th>\n",
       "    </tr>\n",
       "  </thead>\n",
       "  <tbody>\n",
       "    <tr>\n",
       "      <th>0</th>\n",
       "      <td>0</td>\n",
       "      <td>5119786251198054</td>\n",
       "      <td>0.999613</td>\n",
       "      <td>0.996394</td>\n",
       "      <td>Сетевые фильтры, разветвители и удлинители</td>\n",
       "      <td>Сетевые фильтры, разветвители и удлинители</td>\n",
       "    </tr>\n",
       "  </tbody>\n",
       "</table>\n",
       "</div>"
      ],
      "text/plain": [
       "   Unnamed: 0            unique  similarity_pic_embeddings_resnet_v1  \\\n",
       "0           0  5119786251198054                             0.999613   \n",
       "\n",
       "   similarity_name_bert_64                                        cat3  \\\n",
       "0                 0.996394  Сетевые фильтры, разветвители и удлинители   \n",
       "\n",
       "                                 cat3_grouped  \n",
       "0  Сетевые фильтры, разветвители и удлинители  "
      ]
     },
     "execution_count": 57,
     "metadata": {},
     "output_type": "execute_result"
    }
   ],
   "source": [
    "data2 = pd.read_csv(r\"C:\\Users\\Lawye\\YandexDisk\\jupyter\\hackaton\\results_image_add_bert_end.csv\", encoding ='utf-8')\n",
    "data2.head(1)"
   ]
  },
  {
   "cell_type": "code",
   "execution_count": 58,
   "metadata": {},
   "outputs": [],
   "source": [
    "copydata = data.merge(data2, left_on = 'unique', right_on = 'unique', how = 'inner')"
   ]
  },
  {
   "cell_type": "code",
   "execution_count": 59,
   "metadata": {},
   "outputs": [
    {
     "name": "stdout",
     "output_type": "stream",
     "text": [
      "<class 'pandas.core.frame.DataFrame'>\n",
      "Int64Index: 306540 entries, 0 to 306539\n",
      "Data columns (total 21 columns):\n",
      " #   Column                                                  Non-Null Count   Dtype  \n",
      "---  ------                                                  --------------   -----  \n",
      " 0   Unnamed: 0_x                                            306540 non-null  int64  \n",
      " 1   target                                                  306540 non-null  float64\n",
      " 2   unique                                                  306540 non-null  int64  \n",
      " 3   variantid1                                              306540 non-null  int64  \n",
      " 4   variantid2                                              306540 non-null  int64  \n",
      " 5   Count_vec Similarity_characteristic_attributes_mapping  306540 non-null  float64\n",
      " 6   TF-idf Similarity_characteristic_attributes_mapping     306540 non-null  float64\n",
      " 7   Count_vec Similarity_name                               306540 non-null  float64\n",
      " 8   TF-idf Similarity_name                                  306540 non-null  float64\n",
      " 9   Count_vec Similarity_categories                         306540 non-null  float64\n",
      " 10  TF-idf Similarity_categories                            306540 non-null  float64\n",
      " 11  Count_vec Similarity_color_parsed                       306540 non-null  float64\n",
      " 12  TF-idf Similarity_color_parsed                          306540 non-null  float64\n",
      " 13  Count_vec Similarity_all_text                           306540 non-null  float64\n",
      " 14  TF-idf Similarity_all_text                              306540 non-null  float64\n",
      " 15  cos_sim_main_pic_embeddings_resnet                      306540 non-null  float64\n",
      " 16  Unnamed: 0_y                                            306540 non-null  int64  \n",
      " 17  similarity_pic_embeddings_resnet_v1                     306540 non-null  float64\n",
      " 18  similarity_name_bert_64                                 306540 non-null  float64\n",
      " 19  cat3                                                    306540 non-null  object \n",
      " 20  cat3_grouped                                            306540 non-null  object \n",
      "dtypes: float64(14), int64(5), object(2)\n",
      "memory usage: 51.5+ MB\n"
     ]
    }
   ],
   "source": [
    "copydata.info()"
   ]
  },
  {
   "cell_type": "code",
   "execution_count": 60,
   "metadata": {
    "ExecuteTime": {
     "end_time": "2023-05-19T06:12:20.476738Z",
     "start_time": "2023-05-19T06:12:20.458918Z"
    },
    "id": "ifY2J5WDRi1u",
    "outputId": "e72b1a15-988a-423d-e0be-a922d6ccc039"
   },
   "outputs": [
    {
     "data": {
      "text/plain": [
       "0.0    171527\n",
       "1.0    135013\n",
       "Name: target, dtype: int64"
      ]
     },
     "execution_count": 60,
     "metadata": {},
     "output_type": "execute_result"
    }
   ],
   "source": [
    "copydata[\"target\"].value_counts()"
   ]
  },
  {
   "cell_type": "markdown",
   "metadata": {
    "id": "dIutnESLRi10"
   },
   "source": [
    "Choose features"
   ]
  },
  {
   "cell_type": "code",
   "execution_count": 61,
   "metadata": {},
   "outputs": [],
   "source": [
    "features = copydata.copy()"
   ]
  },
  {
   "cell_type": "code",
   "execution_count": 62,
   "metadata": {},
   "outputs": [
    {
     "data": {
      "text/html": [
       "<div>\n",
       "<style scoped>\n",
       "    .dataframe tbody tr th:only-of-type {\n",
       "        vertical-align: middle;\n",
       "    }\n",
       "\n",
       "    .dataframe tbody tr th {\n",
       "        vertical-align: top;\n",
       "    }\n",
       "\n",
       "    .dataframe thead th {\n",
       "        text-align: right;\n",
       "    }\n",
       "</style>\n",
       "<table border=\"1\" class=\"dataframe\">\n",
       "  <thead>\n",
       "    <tr style=\"text-align: right;\">\n",
       "      <th></th>\n",
       "      <th>Unnamed: 0_x</th>\n",
       "      <th>target</th>\n",
       "      <th>unique</th>\n",
       "      <th>variantid1</th>\n",
       "      <th>variantid2</th>\n",
       "      <th>Count_vec Similarity_characteristic_attributes_mapping</th>\n",
       "      <th>TF-idf Similarity_characteristic_attributes_mapping</th>\n",
       "      <th>Count_vec Similarity_name</th>\n",
       "      <th>TF-idf Similarity_name</th>\n",
       "      <th>Count_vec Similarity_categories</th>\n",
       "      <th>...</th>\n",
       "      <th>Count_vec Similarity_color_parsed</th>\n",
       "      <th>TF-idf Similarity_color_parsed</th>\n",
       "      <th>Count_vec Similarity_all_text</th>\n",
       "      <th>TF-idf Similarity_all_text</th>\n",
       "      <th>cos_sim_main_pic_embeddings_resnet</th>\n",
       "      <th>Unnamed: 0_y</th>\n",
       "      <th>similarity_pic_embeddings_resnet_v1</th>\n",
       "      <th>similarity_name_bert_64</th>\n",
       "      <th>cat3</th>\n",
       "      <th>cat3_grouped</th>\n",
       "    </tr>\n",
       "  </thead>\n",
       "  <tbody>\n",
       "    <tr>\n",
       "      <th>0</th>\n",
       "      <td>0</td>\n",
       "      <td>0.0</td>\n",
       "      <td>5119786251198054</td>\n",
       "      <td>51197862</td>\n",
       "      <td>51198054</td>\n",
       "      <td>1.000000</td>\n",
       "      <td>1.000000</td>\n",
       "      <td>0.857143</td>\n",
       "      <td>0.752320</td>\n",
       "      <td>1.0</td>\n",
       "      <td>...</td>\n",
       "      <td>1.0</td>\n",
       "      <td>1.0</td>\n",
       "      <td>0.989796</td>\n",
       "      <td>0.980042</td>\n",
       "      <td>0.999613</td>\n",
       "      <td>0</td>\n",
       "      <td>0.999613</td>\n",
       "      <td>0.996394</td>\n",
       "      <td>Сетевые фильтры, разветвители и удлинители</td>\n",
       "      <td>Сетевые фильтры, разветвители и удлинители</td>\n",
       "    </tr>\n",
       "    <tr>\n",
       "      <th>1</th>\n",
       "      <td>1</td>\n",
       "      <td>0.0</td>\n",
       "      <td>5119786251199884</td>\n",
       "      <td>51197862</td>\n",
       "      <td>51199884</td>\n",
       "      <td>1.000000</td>\n",
       "      <td>1.000000</td>\n",
       "      <td>0.857143</td>\n",
       "      <td>0.752320</td>\n",
       "      <td>1.0</td>\n",
       "      <td>...</td>\n",
       "      <td>1.0</td>\n",
       "      <td>1.0</td>\n",
       "      <td>0.989796</td>\n",
       "      <td>0.980042</td>\n",
       "      <td>0.999544</td>\n",
       "      <td>1</td>\n",
       "      <td>0.999544</td>\n",
       "      <td>0.992689</td>\n",
       "      <td>Сетевые фильтры, разветвители и удлинители</td>\n",
       "      <td>Сетевые фильтры, разветвители и удлинители</td>\n",
       "    </tr>\n",
       "    <tr>\n",
       "      <th>2</th>\n",
       "      <td>2</td>\n",
       "      <td>1.0</td>\n",
       "      <td>53062686536165289</td>\n",
       "      <td>53062686</td>\n",
       "      <td>536165289</td>\n",
       "      <td>0.416667</td>\n",
       "      <td>0.311807</td>\n",
       "      <td>0.750000</td>\n",
       "      <td>0.602975</td>\n",
       "      <td>1.0</td>\n",
       "      <td>...</td>\n",
       "      <td>0.0</td>\n",
       "      <td>0.0</td>\n",
       "      <td>0.583805</td>\n",
       "      <td>0.439611</td>\n",
       "      <td>0.987629</td>\n",
       "      <td>2</td>\n",
       "      <td>0.987629</td>\n",
       "      <td>0.989412</td>\n",
       "      <td>Расходник для печати</td>\n",
       "      <td>Расходник для печати</td>\n",
       "    </tr>\n",
       "    <tr>\n",
       "      <th>3</th>\n",
       "      <td>3</td>\n",
       "      <td>1.0</td>\n",
       "      <td>53602615587809782</td>\n",
       "      <td>53602615</td>\n",
       "      <td>587809782</td>\n",
       "      <td>0.376889</td>\n",
       "      <td>0.253590</td>\n",
       "      <td>0.750000</td>\n",
       "      <td>0.602975</td>\n",
       "      <td>1.0</td>\n",
       "      <td>...</td>\n",
       "      <td>0.0</td>\n",
       "      <td>0.0</td>\n",
       "      <td>0.551888</td>\n",
       "      <td>0.395801</td>\n",
       "      <td>0.988570</td>\n",
       "      <td>3</td>\n",
       "      <td>0.988570</td>\n",
       "      <td>0.992545</td>\n",
       "      <td>Расходник для печати</td>\n",
       "      <td>Расходник для печати</td>\n",
       "    </tr>\n",
       "    <tr>\n",
       "      <th>4</th>\n",
       "      <td>4</td>\n",
       "      <td>1.0</td>\n",
       "      <td>53602615615149925</td>\n",
       "      <td>53602615</td>\n",
       "      <td>615149925</td>\n",
       "      <td>0.452267</td>\n",
       "      <td>0.341524</td>\n",
       "      <td>0.875000</td>\n",
       "      <td>0.779915</td>\n",
       "      <td>1.0</td>\n",
       "      <td>...</td>\n",
       "      <td>1.0</td>\n",
       "      <td>1.0</td>\n",
       "      <td>0.697378</td>\n",
       "      <td>0.573843</td>\n",
       "      <td>0.989185</td>\n",
       "      <td>4</td>\n",
       "      <td>0.989185</td>\n",
       "      <td>0.993742</td>\n",
       "      <td>Расходник для печати</td>\n",
       "      <td>Расходник для печати</td>\n",
       "    </tr>\n",
       "  </tbody>\n",
       "</table>\n",
       "<p>5 rows × 21 columns</p>\n",
       "</div>"
      ],
      "text/plain": [
       "   Unnamed: 0_x  target             unique  variantid1  variantid2  \\\n",
       "0             0     0.0   5119786251198054    51197862    51198054   \n",
       "1             1     0.0   5119786251199884    51197862    51199884   \n",
       "2             2     1.0  53062686536165289    53062686   536165289   \n",
       "3             3     1.0  53602615587809782    53602615   587809782   \n",
       "4             4     1.0  53602615615149925    53602615   615149925   \n",
       "\n",
       "   Count_vec Similarity_characteristic_attributes_mapping  \\\n",
       "0                                           1.000000        \n",
       "1                                           1.000000        \n",
       "2                                           0.416667        \n",
       "3                                           0.376889        \n",
       "4                                           0.452267        \n",
       "\n",
       "   TF-idf Similarity_characteristic_attributes_mapping  \\\n",
       "0                                           1.000000     \n",
       "1                                           1.000000     \n",
       "2                                           0.311807     \n",
       "3                                           0.253590     \n",
       "4                                           0.341524     \n",
       "\n",
       "   Count_vec Similarity_name  TF-idf Similarity_name  \\\n",
       "0                   0.857143                0.752320   \n",
       "1                   0.857143                0.752320   \n",
       "2                   0.750000                0.602975   \n",
       "3                   0.750000                0.602975   \n",
       "4                   0.875000                0.779915   \n",
       "\n",
       "   Count_vec Similarity_categories  ...  Count_vec Similarity_color_parsed  \\\n",
       "0                              1.0  ...                                1.0   \n",
       "1                              1.0  ...                                1.0   \n",
       "2                              1.0  ...                                0.0   \n",
       "3                              1.0  ...                                0.0   \n",
       "4                              1.0  ...                                1.0   \n",
       "\n",
       "   TF-idf Similarity_color_parsed  Count_vec Similarity_all_text  \\\n",
       "0                             1.0                       0.989796   \n",
       "1                             1.0                       0.989796   \n",
       "2                             0.0                       0.583805   \n",
       "3                             0.0                       0.551888   \n",
       "4                             1.0                       0.697378   \n",
       "\n",
       "   TF-idf Similarity_all_text  cos_sim_main_pic_embeddings_resnet  \\\n",
       "0                    0.980042                            0.999613   \n",
       "1                    0.980042                            0.999544   \n",
       "2                    0.439611                            0.987629   \n",
       "3                    0.395801                            0.988570   \n",
       "4                    0.573843                            0.989185   \n",
       "\n",
       "   Unnamed: 0_y  similarity_pic_embeddings_resnet_v1  similarity_name_bert_64  \\\n",
       "0             0                             0.999613                 0.996394   \n",
       "1             1                             0.999544                 0.992689   \n",
       "2             2                             0.987629                 0.989412   \n",
       "3             3                             0.988570                 0.992545   \n",
       "4             4                             0.989185                 0.993742   \n",
       "\n",
       "                                         cat3  \\\n",
       "0  Сетевые фильтры, разветвители и удлинители   \n",
       "1  Сетевые фильтры, разветвители и удлинители   \n",
       "2                        Расходник для печати   \n",
       "3                        Расходник для печати   \n",
       "4                        Расходник для печати   \n",
       "\n",
       "                                 cat3_grouped  \n",
       "0  Сетевые фильтры, разветвители и удлинители  \n",
       "1  Сетевые фильтры, разветвители и удлинители  \n",
       "2                        Расходник для печати  \n",
       "3                        Расходник для печати  \n",
       "4                        Расходник для печати  \n",
       "\n",
       "[5 rows x 21 columns]"
      ]
     },
     "execution_count": 62,
     "metadata": {},
     "output_type": "execute_result"
    }
   ],
   "source": [
    "features.head(5)"
   ]
  },
  {
   "cell_type": "code",
   "execution_count": 63,
   "metadata": {},
   "outputs": [],
   "source": [
    "feats = ['cos_sim_main_pic_embeddings_resnet', 'similarity_pic_embeddings_resnet_v1',\n",
    "       'similarity_name_bert_64',\n",
    "       'Count_vec Similarity_characteristic_attributes_mapping',\n",
    "       'TF-idf Similarity_characteristic_attributes_mapping',\n",
    "       'Count_vec Similarity_name', 'TF-idf Similarity_name',\n",
    "       'Count_vec Similarity_categories', 'TF-idf Similarity_categories',\n",
    "       'Count_vec Similarity_all_text',  'TF-idf Similarity_all_text', 'Count_vec Similarity_color_parsed', 'TF-idf Similarity_color_parsed']"
   ]
  },
  {
   "cell_type": "markdown",
   "metadata": {
    "id": "vyj999W_Ri11"
   },
   "source": [
    "Split dataset"
   ]
  },
  {
   "cell_type": "code",
   "execution_count": 64,
   "metadata": {
    "ExecuteTime": {
     "end_time": "2023-05-19T06:29:01.923278Z",
     "start_time": "2023-05-19T06:28:54.101554Z"
    },
    "id": "GTW4RoskRi11"
   },
   "outputs": [],
   "source": [
    "X_train, X_test = train_test_split(\n",
    "    features[feats + [\"target\", \"variantid1\", \"variantid2\", \"cat3_grouped\"]], \n",
    "    test_size=0.1, random_state=42, stratify=features[[\"target\", \"cat3_grouped\"]], shuffle=True\n",
    ")\n",
    "\n",
    "X_train, X_val = train_test_split(\n",
    "    X_train[feats + [\"target\",  \"variantid1\", \"variantid2\", \"cat3_grouped\"]], \n",
    "    test_size=0.1, random_state=42, stratify=X_train[[\"target\", \"cat3_grouped\"]], shuffle=True\n",
    ")\n",
    "\n",
    "y_test = X_test[[\"target\", \"variantid1\", \"variantid2\"]]\n",
    "X_test = X_test.drop([\"target\"], axis=1)\n",
    "\n",
    "y_train = X_train[\"target\"]\n",
    "y_val = X_val[\"target\"]\n",
    "\n",
    "X_train = X_train.drop([\"target\"], axis=1)\n",
    "X_val = X_val.drop([\"target\"], axis=1)\n",
    "\n",
    "\n",
    "train_pool = Pool(\n",
    "    data=X_train[feats],\n",
    "    label=y_train,\n",
    ")\n",
    "eval_pool = Pool(\n",
    "    data=X_val[feats],\n",
    "    label=y_val,\n",
    ")"
   ]
  },
  {
   "cell_type": "markdown",
   "metadata": {
    "id": "FzgXyl9hRi11"
   },
   "source": [
    "Train model"
   ]
  },
  {
   "cell_type": "code",
   "execution_count": 66,
   "metadata": {
    "ExecuteTime": {
     "end_time": "2023-05-19T06:29:24.898318Z",
     "start_time": "2023-05-19T06:29:07.544816Z"
    },
    "colab": {
     "referenced_widgets": [
      "088d1c45de814c59b8d4746c2936c0f0"
     ]
    },
    "id": "StGKieqqRi11",
    "outputId": "40384082-703b-4ae6-a038-45d7ce6c4763",
    "scrolled": true
   },
   "outputs": [
    {
     "data": {
      "application/vnd.jupyter.widget-view+json": {
       "model_id": "918d7cec150546439a43bf9ef224e0f6",
       "version_major": 2,
       "version_minor": 0
      },
      "text/plain": [
       "MetricVisualizer(layout=Layout(align_self='stretch', height='500px'))"
      ]
     },
     "metadata": {},
     "output_type": "display_data"
    },
    {
     "name": "stdout",
     "output_type": "stream",
     "text": [
      "Learning rate set to 0.123728\n",
      "0:\tlearn: 0.6619461\ttest: 0.6614282\tbest: 0.6614282 (0)\ttotal: 31.6ms\tremaining: 31.6s\n"
     ]
    },
    {
     "name": "stderr",
     "output_type": "stream",
     "text": [
      "Warning: Overfitting detector is active, thus evaluation metric is calculated on every iteration. 'metric_period' is ignored for evaluation metric.\n"
     ]
    },
    {
     "name": "stdout",
     "output_type": "stream",
     "text": [
      "100:\tlearn: 0.5061030\ttest: 0.5013994\tbest: 0.5013994 (100)\ttotal: 3.31s\tremaining: 29.5s\n",
      "200:\tlearn: 0.4854016\ttest: 0.4834242\tbest: 0.4834242 (200)\ttotal: 6.66s\tremaining: 26.5s\n",
      "300:\tlearn: 0.4743438\ttest: 0.4748930\tbest: 0.4748930 (300)\ttotal: 10s\tremaining: 23.2s\n",
      "400:\tlearn: 0.4664807\ttest: 0.4699940\tbest: 0.4699940 (400)\ttotal: 13.4s\tremaining: 19.9s\n",
      "500:\tlearn: 0.4601038\ttest: 0.4664429\tbest: 0.4664429 (500)\ttotal: 16.7s\tremaining: 16.6s\n",
      "600:\tlearn: 0.4549171\ttest: 0.4639844\tbest: 0.4639844 (600)\ttotal: 20s\tremaining: 13.3s\n",
      "700:\tlearn: 0.4502829\ttest: 0.4618036\tbest: 0.4618036 (700)\ttotal: 23.4s\tremaining: 9.98s\n",
      "800:\tlearn: 0.4459258\ttest: 0.4600831\tbest: 0.4600831 (800)\ttotal: 26.8s\tremaining: 6.66s\n",
      "900:\tlearn: 0.4420240\ttest: 0.4587272\tbest: 0.4587272 (900)\ttotal: 30.1s\tremaining: 3.31s\n",
      "999:\tlearn: 0.4383257\ttest: 0.4576590\tbest: 0.4576475 (990)\ttotal: 33.5s\tremaining: 0us\n",
      "\n",
      "bestTest = 0.4576475401\n",
      "bestIteration = 990\n",
      "\n",
      "Shrink model to first 991 iterations.\n"
     ]
    },
    {
     "data": {
      "text/plain": [
       "<catboost.core.CatBoostClassifier at 0x1b142597670>"
      ]
     },
     "execution_count": 66,
     "metadata": {},
     "output_type": "execute_result"
    }
   ],
   "source": [
    "model = CatBoostClassifier()\n",
    "\n",
    "model.fit(\n",
    "    train_pool,\n",
    "    eval_set=eval_pool,\n",
    "    plot=True,\n",
    "    verbose=True,\n",
    "    use_best_model=True,\n",
    "    early_stopping_rounds=50,\n",
    "    metric_period=100\n",
    ")\n",
    "#model.save_model(f\"./models/baseline.cbm\")"
   ]
  },
  {
   "cell_type": "markdown",
   "metadata": {
    "id": "GD7JUvV6Ri11"
   },
   "source": [
    "### Metric"
   ]
  },
  {
   "cell_type": "code",
   "execution_count": 67,
   "metadata": {
    "ExecuteTime": {
     "end_time": "2023-05-19T06:30:10.884083Z",
     "start_time": "2023-05-19T06:30:10.873141Z"
    },
    "code_folding": [],
    "id": "H0wh4ECJRi11"
   },
   "outputs": [],
   "source": [
    "import numpy as np\n",
    "from sklearn.metrics import precision_recall_curve, auc\n",
    "\n",
    "\n",
    "def pr_auc_macro(\n",
    "    target_df: pd.DataFrame,\n",
    "    predictions_df: pd.DataFrame,\n",
    "    prec_level: float = 0.75,\n",
    "    cat_column: str = \"cat3_grouped\"\n",
    ") -> float:\n",
    "    \n",
    "    df = target_df.merge(predictions_df, on=[\"variantid1\", \"variantid2\"])\n",
    "    \n",
    "    y_true = df[\"target\"]\n",
    "    y_pred = df[\"scores\"]\n",
    "    categories = df[cat_column]\n",
    "    \n",
    "    weights = []\n",
    "    pr_aucs = []\n",
    "\n",
    "    unique_cats, counts = np.unique(categories, return_counts=True)\n",
    "\n",
    "    for i, category in enumerate(unique_cats):\n",
    "        cat_idx = np.where(categories == category)[0]\n",
    "        y_pred_cat = y_pred[cat_idx]\n",
    "        y_true_cat = y_true[cat_idx]\n",
    "\n",
    "        y, x, thr = precision_recall_curve(y_true_cat, y_pred_cat)\n",
    "        gt_prec_level_idx = np.where(y >= prec_level)[0]\n",
    "\n",
    "        try:\n",
    "            pr_auc_prec_level = auc(x[gt_prec_level_idx], y[gt_prec_level_idx])\n",
    "            if not np.isnan(pr_auc_prec_level):\n",
    "                pr_aucs.append(pr_auc_prec_level)\n",
    "                weights.append(counts[i] / len(categories))\n",
    "        except ValueError as err:\n",
    "            pr_aucs.append(0)\n",
    "            weights.append(0)\n",
    "    return np.average(pr_aucs, weights=weights)"
   ]
  },
  {
   "cell_type": "code",
   "execution_count": 68,
   "metadata": {
    "ExecuteTime": {
     "end_time": "2023-05-19T06:30:13.294341Z",
     "start_time": "2023-05-19T06:30:13.258507Z"
    },
    "id": "7W4iY1kQRi11"
   },
   "outputs": [],
   "source": [
    "X_test[\"scores\"] = model.predict_proba(X_test[feats])[:, 1]"
   ]
  },
  {
   "cell_type": "code",
   "execution_count": 69,
   "metadata": {
    "ExecuteTime": {
     "end_time": "2023-05-19T06:30:28.980002Z",
     "start_time": "2023-05-19T06:30:28.331803Z"
    },
    "id": "NGCV64MURi12",
    "outputId": "27c493cc-89c3-4d3b-c5d4-762e6b96f7c8"
   },
   "outputs": [
    {
     "data": {
      "text/plain": [
       "0.4823182959955993"
      ]
     },
     "execution_count": 69,
     "metadata": {},
     "output_type": "execute_result"
    }
   ],
   "source": [
    "pr_auc_macro_metr = pr_auc_macro(\n",
    "    target_df=y_test, \n",
    "    predictions_df=X_test,\n",
    "    prec_level=0.75,\n",
    "    cat_column=\"cat3_grouped\"\n",
    ")\n",
    "\n",
    "pr_auc_macro_metr"
   ]
  },
  {
   "cell_type": "code",
   "execution_count": 70,
   "metadata": {
    "ExecuteTime": {
     "end_time": "2023-05-19T06:30:42.074029Z",
     "start_time": "2023-05-19T06:30:41.619959Z"
    },
    "id": "lIG2AFT0Ri12",
    "outputId": "b3b8fa22-a30f-4c20-a455-0544c246eb66"
   },
   "outputs": [
    {
     "data": {
      "image/png": "[encoded data removed]",
      "text/plain": [
       "<Figure size 1500x700 with 1 Axes>"
      ]
     },
     "metadata": {},
     "output_type": "display_data"
    }
   ],
   "source": [
    "precision, recall, thrs = precision_recall_curve(y_test[\"target\"], X_test[\"scores\"])\n",
    "pr_auc = auc(recall, precision)\n",
    "\n",
    "fig, ax1 = plt.subplots(1, figsize=(15, 7))\n",
    "\n",
    "ax1.plot(recall, precision)\n",
    "ax1.axhline(y=0.75, color='grey', linestyle='-');"
   ]
  },
  {
   "cell_type": "markdown",
   "metadata": {
    "id": "RyLyGBFiRi12"
   },
   "source": [
    "### Submission"
   ]
  },
  {
   "cell_type": "code",
   "execution_count": 76,
   "metadata": {},
   "outputs": [],
   "source": [
    "test_data = pd.read_csv(r\"C:\\Users\\Lawye\\YandexDisk\\jupyter\\hackaton\\test_data_prepared_normal.csv\", encoding=\"utf-8-sig\")"
   ]
  },
  {
   "cell_type": "code",
   "execution_count": 77,
   "metadata": {},
   "outputs": [
    {
     "data": {
      "text/html": [
       "<div>\n",
       "<style scoped>\n",
       "    .dataframe tbody tr th:only-of-type {\n",
       "        vertical-align: middle;\n",
       "    }\n",
       "\n",
       "    .dataframe tbody tr th {\n",
       "        vertical-align: top;\n",
       "    }\n",
       "\n",
       "    .dataframe thead th {\n",
       "        text-align: right;\n",
       "    }\n",
       "</style>\n",
       "<table border=\"1\" class=\"dataframe\">\n",
       "  <thead>\n",
       "    <tr style=\"text-align: right;\">\n",
       "      <th></th>\n",
       "      <th>Unnamed: 0</th>\n",
       "      <th>unique</th>\n",
       "      <th>variantid1</th>\n",
       "      <th>variantid2</th>\n",
       "      <th>cat3</th>\n",
       "      <th>cat3_grouped</th>\n",
       "      <th>Count_vec Similarity_characteristic_attributes_mapping</th>\n",
       "      <th>TF-idf Similarity_characteristic_attributes_mapping</th>\n",
       "      <th>Count_vec Similarity_name</th>\n",
       "      <th>TF-idf Similarity_name</th>\n",
       "      <th>Count_vec Similarity_categories</th>\n",
       "      <th>TF-idf Similarity_categories</th>\n",
       "      <th>Count_vec Similarity_color_parsed</th>\n",
       "      <th>TF-idf Similarity_color_parsed</th>\n",
       "      <th>Count_vec Similarity_all_text</th>\n",
       "      <th>TF-idf Similarity_all_text</th>\n",
       "      <th>similarity_main_pic_embeddings_resnet_v1</th>\n",
       "      <th>similarity_pic_embeddings_resnet_v1</th>\n",
       "      <th>similarity_name_bert_64</th>\n",
       "    </tr>\n",
       "  </thead>\n",
       "  <tbody>\n",
       "    <tr>\n",
       "      <th>0</th>\n",
       "      <td>0</td>\n",
       "      <td>52076340290590137</td>\n",
       "      <td>52076340</td>\n",
       "      <td>290590137</td>\n",
       "      <td>Батарейки и аккумуляторы</td>\n",
       "      <td>rest</td>\n",
       "      <td>0.986754</td>\n",
       "      <td>0.974330</td>\n",
       "      <td>0.762770</td>\n",
       "      <td>0.620127</td>\n",
       "      <td>1.0</td>\n",
       "      <td>1.0</td>\n",
       "      <td>1.000000</td>\n",
       "      <td>1.000000</td>\n",
       "      <td>0.944444</td>\n",
       "      <td>0.901863</td>\n",
       "      <td>0.997061</td>\n",
       "      <td>0.660078</td>\n",
       "      <td>0.984255</td>\n",
       "    </tr>\n",
       "    <tr>\n",
       "      <th>1</th>\n",
       "      <td>1</td>\n",
       "      <td>64525522204128919</td>\n",
       "      <td>64525522</td>\n",
       "      <td>204128919</td>\n",
       "      <td>Смартфоны, планшеты, мобильные телефоны</td>\n",
       "      <td>rest</td>\n",
       "      <td>0.961910</td>\n",
       "      <td>0.931516</td>\n",
       "      <td>0.875000</td>\n",
       "      <td>0.779915</td>\n",
       "      <td>1.0</td>\n",
       "      <td>1.0</td>\n",
       "      <td>1.000000</td>\n",
       "      <td>1.000000</td>\n",
       "      <td>0.960534</td>\n",
       "      <td>0.928581</td>\n",
       "      <td>0.776353</td>\n",
       "      <td>0.717170</td>\n",
       "      <td>0.990931</td>\n",
       "    </tr>\n",
       "    <tr>\n",
       "      <th>2</th>\n",
       "      <td>2</td>\n",
       "      <td>77243372479860557</td>\n",
       "      <td>77243372</td>\n",
       "      <td>479860557</td>\n",
       "      <td>Кабели и переходники</td>\n",
       "      <td>Кабели и переходники</td>\n",
       "      <td>0.668259</td>\n",
       "      <td>0.519649</td>\n",
       "      <td>0.286039</td>\n",
       "      <td>0.168657</td>\n",
       "      <td>1.0</td>\n",
       "      <td>1.0</td>\n",
       "      <td>1.000000</td>\n",
       "      <td>1.000000</td>\n",
       "      <td>0.699268</td>\n",
       "      <td>0.556533</td>\n",
       "      <td>0.994726</td>\n",
       "      <td>0.785055</td>\n",
       "      <td>0.947975</td>\n",
       "    </tr>\n",
       "    <tr>\n",
       "      <th>3</th>\n",
       "      <td>3</td>\n",
       "      <td>86065820540678372</td>\n",
       "      <td>86065820</td>\n",
       "      <td>540678372</td>\n",
       "      <td>Устройство ручного ввода</td>\n",
       "      <td>rest</td>\n",
       "      <td>0.859757</td>\n",
       "      <td>0.761947</td>\n",
       "      <td>0.476731</td>\n",
       "      <td>0.315785</td>\n",
       "      <td>1.0</td>\n",
       "      <td>1.0</td>\n",
       "      <td>0.000000</td>\n",
       "      <td>0.000000</td>\n",
       "      <td>0.820028</td>\n",
       "      <td>0.709859</td>\n",
       "      <td>0.881459</td>\n",
       "      <td>0.261203</td>\n",
       "      <td>0.991292</td>\n",
       "    </tr>\n",
       "    <tr>\n",
       "      <th>4</th>\n",
       "      <td>4</td>\n",
       "      <td>91566575258840506</td>\n",
       "      <td>91566575</td>\n",
       "      <td>258840506</td>\n",
       "      <td>Смартфоны, планшеты, мобильные телефоны</td>\n",
       "      <td>rest</td>\n",
       "      <td>0.763913</td>\n",
       "      <td>0.648259</td>\n",
       "      <td>0.771517</td>\n",
       "      <td>0.632790</td>\n",
       "      <td>1.0</td>\n",
       "      <td>1.0</td>\n",
       "      <td>0.707107</td>\n",
       "      <td>0.579739</td>\n",
       "      <td>0.793687</td>\n",
       "      <td>0.684979</td>\n",
       "      <td>0.787680</td>\n",
       "      <td>0.943340</td>\n",
       "      <td>0.990265</td>\n",
       "    </tr>\n",
       "  </tbody>\n",
       "</table>\n",
       "</div>"
      ],
      "text/plain": [
       "   Unnamed: 0             unique  variantid1  variantid2  \\\n",
       "0           0  52076340290590137    52076340   290590137   \n",
       "1           1  64525522204128919    64525522   204128919   \n",
       "2           2  77243372479860557    77243372   479860557   \n",
       "3           3  86065820540678372    86065820   540678372   \n",
       "4           4  91566575258840506    91566575   258840506   \n",
       "\n",
       "                                      cat3          cat3_grouped  \\\n",
       "0                 Батарейки и аккумуляторы                  rest   \n",
       "1  Смартфоны, планшеты, мобильные телефоны                  rest   \n",
       "2                     Кабели и переходники  Кабели и переходники   \n",
       "3                 Устройство ручного ввода                  rest   \n",
       "4  Смартфоны, планшеты, мобильные телефоны                  rest   \n",
       "\n",
       "   Count_vec Similarity_characteristic_attributes_mapping  \\\n",
       "0                                           0.986754        \n",
       "1                                           0.961910        \n",
       "2                                           0.668259        \n",
       "3                                           0.859757        \n",
       "4                                           0.763913        \n",
       "\n",
       "   TF-idf Similarity_characteristic_attributes_mapping  \\\n",
       "0                                           0.974330     \n",
       "1                                           0.931516     \n",
       "2                                           0.519649     \n",
       "3                                           0.761947     \n",
       "4                                           0.648259     \n",
       "\n",
       "   Count_vec Similarity_name  TF-idf Similarity_name  \\\n",
       "0                   0.762770                0.620127   \n",
       "1                   0.875000                0.779915   \n",
       "2                   0.286039                0.168657   \n",
       "3                   0.476731                0.315785   \n",
       "4                   0.771517                0.632790   \n",
       "\n",
       "   Count_vec Similarity_categories  TF-idf Similarity_categories  \\\n",
       "0                              1.0                           1.0   \n",
       "1                              1.0                           1.0   \n",
       "2                              1.0                           1.0   \n",
       "3                              1.0                           1.0   \n",
       "4                              1.0                           1.0   \n",
       "\n",
       "   Count_vec Similarity_color_parsed  TF-idf Similarity_color_parsed  \\\n",
       "0                           1.000000                        1.000000   \n",
       "1                           1.000000                        1.000000   \n",
       "2                           1.000000                        1.000000   \n",
       "3                           0.000000                        0.000000   \n",
       "4                           0.707107                        0.579739   \n",
       "\n",
       "   Count_vec Similarity_all_text  TF-idf Similarity_all_text  \\\n",
       "0                       0.944444                    0.901863   \n",
       "1                       0.960534                    0.928581   \n",
       "2                       0.699268                    0.556533   \n",
       "3                       0.820028                    0.709859   \n",
       "4                       0.793687                    0.684979   \n",
       "\n",
       "   similarity_main_pic_embeddings_resnet_v1  \\\n",
       "0                                  0.997061   \n",
       "1                                  0.776353   \n",
       "2                                  0.994726   \n",
       "3                                  0.881459   \n",
       "4                                  0.787680   \n",
       "\n",
       "   similarity_pic_embeddings_resnet_v1  similarity_name_bert_64  \n",
       "0                             0.660078                 0.984255  \n",
       "1                             0.717170                 0.990931  \n",
       "2                             0.785055                 0.947975  \n",
       "3                             0.261203                 0.991292  \n",
       "4                             0.943340                 0.990265  "
      ]
     },
     "execution_count": 77,
     "metadata": {},
     "output_type": "execute_result"
    }
   ],
   "source": [
    "test_data.head(5)"
   ]
  },
  {
   "cell_type": "code",
   "execution_count": 78,
   "metadata": {},
   "outputs": [],
   "source": [
    "test_data = test_data.rename(columns = {'similarity_main_pic_embeddings_resnet_v1':'cos_sim_main_pic_embeddings_resnet'})"
   ]
  },
  {
   "cell_type": "code",
   "execution_count": 79,
   "metadata": {
    "ExecuteTime": {
     "end_time": "2023-05-19T06:34:11.446732Z",
     "start_time": "2023-05-19T06:34:11.382287Z"
    },
    "id": "ef4CtDo3Ri17"
   },
   "outputs": [],
   "source": [
    "submission_example = test_data.copy()"
   ]
  },
  {
   "cell_type": "code",
   "execution_count": 80,
   "metadata": {
    "ExecuteTime": {
     "end_time": "2023-05-19T06:34:14.146730Z",
     "start_time": "2023-05-19T06:34:14.086525Z"
    },
    "id": "h8BTFLA9Ri17"
   },
   "outputs": [],
   "source": [
    "submission_example[\"target\"] = model.predict_proba(submission_example[feats])[:, 1]"
   ]
  },
  {
   "cell_type": "code",
   "execution_count": 81,
   "metadata": {
    "ExecuteTime": {
     "end_time": "2023-05-19T06:34:17.373009Z",
     "start_time": "2023-05-19T06:34:17.357230Z"
    },
    "id": "Oto13bBvRi18"
   },
   "outputs": [],
   "source": [
    "submission_example = submission_example[[\"variantid1\", \"variantid2\", \"target\"]]"
   ]
  },
  {
   "cell_type": "code",
   "execution_count": 82,
   "metadata": {
    "ExecuteTime": {
     "end_time": "2023-05-19T06:35:41.877989Z",
     "start_time": "2023-05-19T06:35:41.794727Z"
    },
    "id": "g7A6bJnmRi18"
   },
   "outputs": [],
   "source": [
    "submission_example.drop_duplicates().merge(\n",
    "    test_data[[\"variantid1\", \"variantid2\"]].drop_duplicates([\"variantid1\", \"variantid2\"]),\n",
    "    on=[\"variantid1\", \"variantid2\"]\n",
    ").to_csv(\"submission_example_end1.csv\", index=False)"
   ]
  },
  {
   "cell_type": "code",
   "execution_count": 83,
   "metadata": {},
   "outputs": [
    {
     "data": {
      "text/html": [
       "<div>\n",
       "<style scoped>\n",
       "    .dataframe tbody tr th:only-of-type {\n",
       "        vertical-align: middle;\n",
       "    }\n",
       "\n",
       "    .dataframe tbody tr th {\n",
       "        vertical-align: top;\n",
       "    }\n",
       "\n",
       "    .dataframe thead th {\n",
       "        text-align: right;\n",
       "    }\n",
       "</style>\n",
       "<table border=\"1\" class=\"dataframe\">\n",
       "  <thead>\n",
       "    <tr style=\"text-align: right;\">\n",
       "      <th></th>\n",
       "      <th>variantid1</th>\n",
       "      <th>variantid2</th>\n",
       "      <th>target</th>\n",
       "    </tr>\n",
       "  </thead>\n",
       "  <tbody>\n",
       "    <tr>\n",
       "      <th>0</th>\n",
       "      <td>52076340</td>\n",
       "      <td>290590137</td>\n",
       "      <td>0.154085</td>\n",
       "    </tr>\n",
       "    <tr>\n",
       "      <th>1</th>\n",
       "      <td>64525522</td>\n",
       "      <td>204128919</td>\n",
       "      <td>0.223178</td>\n",
       "    </tr>\n",
       "    <tr>\n",
       "      <th>2</th>\n",
       "      <td>77243372</td>\n",
       "      <td>479860557</td>\n",
       "      <td>0.446810</td>\n",
       "    </tr>\n",
       "    <tr>\n",
       "      <th>3</th>\n",
       "      <td>86065820</td>\n",
       "      <td>540678372</td>\n",
       "      <td>0.156139</td>\n",
       "    </tr>\n",
       "    <tr>\n",
       "      <th>4</th>\n",
       "      <td>91566575</td>\n",
       "      <td>258840506</td>\n",
       "      <td>0.590024</td>\n",
       "    </tr>\n",
       "  </tbody>\n",
       "</table>\n",
       "</div>"
      ],
      "text/plain": [
       "   variantid1  variantid2    target\n",
       "0    52076340   290590137  0.154085\n",
       "1    64525522   204128919  0.223178\n",
       "2    77243372   479860557  0.446810\n",
       "3    86065820   540678372  0.156139\n",
       "4    91566575   258840506  0.590024"
      ]
     },
     "execution_count": 83,
     "metadata": {},
     "output_type": "execute_result"
    }
   ],
   "source": [
    "submission_example.head(5)"
   ]
  },
  {
   "cell_type": "code",
   "execution_count": null,
   "metadata": {},
   "outputs": [],
   "source": []
  }
 ],
 "metadata": {
  "colab": {
   "provenance": []
  },
  "kernelspec": {
   "display_name": "Python 3 (ipykernel)",
   "language": "python",
   "name": "python3"
  },
  "language_info": {
   "codemirror_mode": {
    "name": "ipython",
    "version": 3
   },
   "file_extension": ".py",
   "mimetype": "text/x-python",
   "name": "python",
   "nbconvert_exporter": "python",
   "pygments_lexer": "ipython3",
   "version": "3.10.9"
  }
 },
 "nbformat": 4,
 "nbformat_minor": 1
}
