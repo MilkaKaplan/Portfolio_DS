{
  "cells": [
    {
      "cell_type": "markdown",
      "id": "dalMQwxBzcKJ",
      "metadata": {
        "id": "dalMQwxBzcKJ"
      },
      "source": [
        "Для проведения атаки установим модуль, содержащий в том числе и готовые реализации атак: Adversarial Robustness Toolbox\n",
        "С документацией данного модуля вы можете ознакомиться дополнительно здесь: https://adversarial-robustness-toolbox.readthedocs.io/en/latest/index.html\n"
      ]
    },
    {
      "cell_type": "code",
      "execution_count": null,
      "id": "ZqaweIX2UsEE",
      "metadata": {
        "id": "ZqaweIX2UsEE",
        "colab": {
          "base_uri": "https://localhost:8080/"
        },
        "outputId": "d7cb957b-2180-4784-a1fc-1feb3b9730c5"
      },
      "outputs": [
        {
          "output_type": "stream",
          "name": "stdout",
          "text": [
            "Looking in indexes: https://pypi.org/simple, https://us-python.pkg.dev/colab-wheels/public/simple/\n",
            "Collecting adversarial-robustness-toolbox==1.10.2\n",
            "  Downloading adversarial_robustness_toolbox-1.10.2-py3-none-any.whl (1.3 MB)\n",
            "\u001b[K     |████████████████████████████████| 1.3 MB 30.5 MB/s \n",
            "\u001b[?25hRequirement already satisfied: scipy>=1.4.1 in /usr/local/lib/python3.7/dist-packages (from adversarial-robustness-toolbox==1.10.2) (1.7.3)\n",
            "Requirement already satisfied: tqdm in /usr/local/lib/python3.7/dist-packages (from adversarial-robustness-toolbox==1.10.2) (4.64.1)\n",
            "Requirement already satisfied: numba>=0.53.1 in /usr/local/lib/python3.7/dist-packages (from adversarial-robustness-toolbox==1.10.2) (0.56.3)\n",
            "Requirement already satisfied: numpy>=1.18.0 in /usr/local/lib/python3.7/dist-packages (from adversarial-robustness-toolbox==1.10.2) (1.21.6)\n",
            "Requirement already satisfied: setuptools in /usr/local/lib/python3.7/dist-packages (from adversarial-robustness-toolbox==1.10.2) (57.4.0)\n",
            "Requirement already satisfied: six in /usr/local/lib/python3.7/dist-packages (from adversarial-robustness-toolbox==1.10.2) (1.15.0)\n",
            "Requirement already satisfied: scikit-learn<1.1.0,>=0.22.2 in /usr/local/lib/python3.7/dist-packages (from adversarial-robustness-toolbox==1.10.2) (1.0.2)\n",
            "Requirement already satisfied: importlib-metadata in /usr/local/lib/python3.7/dist-packages (from numba>=0.53.1->adversarial-robustness-toolbox==1.10.2) (4.13.0)\n",
            "Requirement already satisfied: llvmlite<0.40,>=0.39.0dev0 in /usr/local/lib/python3.7/dist-packages (from numba>=0.53.1->adversarial-robustness-toolbox==1.10.2) (0.39.1)\n",
            "Requirement already satisfied: joblib>=0.11 in /usr/local/lib/python3.7/dist-packages (from scikit-learn<1.1.0,>=0.22.2->adversarial-robustness-toolbox==1.10.2) (1.2.0)\n",
            "Requirement already satisfied: threadpoolctl>=2.0.0 in /usr/local/lib/python3.7/dist-packages (from scikit-learn<1.1.0,>=0.22.2->adversarial-robustness-toolbox==1.10.2) (3.1.0)\n",
            "Requirement already satisfied: typing-extensions>=3.6.4 in /usr/local/lib/python3.7/dist-packages (from importlib-metadata->numba>=0.53.1->adversarial-robustness-toolbox==1.10.2) (4.1.1)\n",
            "Requirement already satisfied: zipp>=0.5 in /usr/local/lib/python3.7/dist-packages (from importlib-metadata->numba>=0.53.1->adversarial-robustness-toolbox==1.10.2) (3.9.0)\n",
            "Installing collected packages: adversarial-robustness-toolbox\n",
            "Successfully installed adversarial-robustness-toolbox-1.10.2\n"
          ]
        }
      ],
      "source": [
        "!pip install adversarial-robustness-toolbox==1.10.2"
      ]
    },
    {
      "cell_type": "markdown",
      "id": "v-ci3dM0z8Mn",
      "metadata": {
        "id": "v-ci3dM0z8Mn"
      },
      "source": [
        "Вы можете вручную загружать данные в рабочую область, а можете использовать свой смонтированный google-диск, для этого выполните следующий код:"
      ]
    },
    {
      "cell_type": "code",
      "execution_count": null,
      "id": "haBNGENqTlrO",
      "metadata": {
        "id": "haBNGENqTlrO",
        "colab": {
          "base_uri": "https://localhost:8080/"
        },
        "outputId": "e9d2b9aa-c87f-45dd-83b3-df7e2ca7da4b"
      },
      "outputs": [
        {
          "output_type": "stream",
          "name": "stdout",
          "text": [
            "Mounted at /content/drive\n"
          ]
        }
      ],
      "source": [
        "from google.colab import drive\n",
        "drive.mount('/content/drive')"
      ]
    },
    {
      "cell_type": "markdown",
      "source": [
        "# Новый раздел"
      ],
      "metadata": {
        "id": "MouSSHO0YkPA"
      },
      "id": "MouSSHO0YkPA"
    },
    {
      "cell_type": "markdown",
      "id": "9yD49UdZ0SZJ",
      "metadata": {
        "id": "9yD49UdZ0SZJ"
      },
      "source": [
        "Атака будет проводиться на OpenSource проект VoxCeleb, представляющий собой нейронную сеть, определяющую принадлежат ли две записи голоса одному и тому же или различным говорящим знаменитостям. Исходный код проекта располагается здесь: https://github.com/clovaai/voxceleb_trainer\n",
        "<br>Для удобства проведения атаки исходный код был частично модифицирован. Модифицированный для упрощенного проведения атаки код расположен в виде zip-архива, разархивируем его в рабочей области."
      ]
    },
    {
      "cell_type": "code",
      "execution_count": null,
      "id": "44a2142d",
      "metadata": {
        "id": "44a2142d",
        "colab": {
          "base_uri": "https://localhost:8080/"
        },
        "outputId": "74f1640b-8c7f-4304-916c-127f56a05054"
      },
      "outputs": [
        {
          "output_type": "stream",
          "name": "stdout",
          "text": [
            "Archive:  ./drive/MyDrive/Colab_Notebooks/Project_5/voice_attack.zip\n",
            "  inflating: DatasetLoader.py        \n",
            "  inflating: loss/angleproto.py      \n",
            "  inflating: main.py                 \n",
            "  inflating: models/ResNetBlocks.py  \n",
            "  inflating: models/ResNetSE34L.py   \n",
            "  inflating: optimizer/adam.py       \n",
            "  inflating: scheduler/steplr.py     \n",
            "  inflating: SpeakerNet.py           \n",
            "  inflating: tuneThreshold.py        \n",
            "  inflating: utils.py                \n"
          ]
        }
      ],
      "source": [
        "!unzip './drive/MyDrive/Colab_Notebooks/Project_5/voice_attack.zip'"
      ]
    },
    {
      "cell_type": "code",
      "source": [
        "!unzip './drive/MyDrive/Colab_Notebooks/Project_5/part_voxceleb.zip'"
      ],
      "metadata": {
        "colab": {
          "base_uri": "https://localhost:8080/"
        },
        "id": "Z0olTCvgftV_",
        "outputId": "a739c5be-1269-4178-8766-f9a56ac13778"
      },
      "id": "Z0olTCvgftV_",
      "execution_count": null,
      "outputs": [
        {
          "output_type": "stream",
          "name": "stdout",
          "text": [
            "Archive:  ./drive/MyDrive/Colab_Notebooks/Project_5/part_voxceleb.zip\n",
            "   creating: part_voxceleb/id10270/\n",
            "   creating: part_voxceleb/id10270/5r0dWxy17C8/\n",
            "  inflating: part_voxceleb/id10270/5r0dWxy17C8/00001.wav  \n",
            "  inflating: part_voxceleb/id10270/5r0dWxy17C8/00002.wav  \n",
            "  inflating: part_voxceleb/id10270/5r0dWxy17C8/00003.wav  \n",
            "  inflating: part_voxceleb/id10270/5r0dWxy17C8/00004.wav  \n",
            "  inflating: part_voxceleb/id10270/5r0dWxy17C8/00005.wav  \n",
            "  inflating: part_voxceleb/id10270/5r0dWxy17C8/00006.wav  \n",
            "  inflating: part_voxceleb/id10270/5r0dWxy17C8/00007.wav  \n",
            "  inflating: part_voxceleb/id10270/5r0dWxy17C8/00008.wav  \n",
            "  inflating: part_voxceleb/id10270/5r0dWxy17C8/00009.wav  \n",
            "  inflating: part_voxceleb/id10270/5r0dWxy17C8/00010.wav  \n",
            "  inflating: part_voxceleb/id10270/5r0dWxy17C8/00017.wav  \n",
            "  inflating: part_voxceleb/id10270/5r0dWxy17C8/00022.wav  \n",
            "  inflating: part_voxceleb/id10270/5r0dWxy17C8/00024.wav  \n",
            "  inflating: part_voxceleb/id10270/5r0dWxy17C8/00026.wav  \n",
            "  inflating: part_voxceleb/id10270/5r0dWxy17C8/00027.wav  \n",
            "   creating: part_voxceleb/id10270/8jEAjG6SegY/\n",
            "  inflating: part_voxceleb/id10270/8jEAjG6SegY/00001.wav  \n",
            "  inflating: part_voxceleb/id10270/8jEAjG6SegY/00008.wav  \n",
            "  inflating: part_voxceleb/id10270/8jEAjG6SegY/00012.wav  \n",
            "  inflating: part_voxceleb/id10270/8jEAjG6SegY/00018.wav  \n",
            "  inflating: part_voxceleb/id10270/8jEAjG6SegY/00019.wav  \n",
            "  inflating: part_voxceleb/id10270/8jEAjG6SegY/00022.wav  \n",
            "  inflating: part_voxceleb/id10270/8jEAjG6SegY/00026.wav  \n",
            "  inflating: part_voxceleb/id10270/8jEAjG6SegY/00027.wav  \n",
            "  inflating: part_voxceleb/id10270/8jEAjG6SegY/00030.wav  \n",
            "  inflating: part_voxceleb/id10270/8jEAjG6SegY/00032.wav  \n",
            "  inflating: part_voxceleb/id10270/8jEAjG6SegY/00033.wav  \n",
            "  inflating: part_voxceleb/id10270/8jEAjG6SegY/00035.wav  \n",
            "  inflating: part_voxceleb/id10270/8jEAjG6SegY/00038.wav  \n",
            "   creating: part_voxceleb/id10270/GWXujl-xAVM/\n",
            "  inflating: part_voxceleb/id10270/GWXujl-xAVM/00006.wav  \n",
            "  inflating: part_voxceleb/id10270/GWXujl-xAVM/00007.wav  \n",
            "  inflating: part_voxceleb/id10270/GWXujl-xAVM/00008.wav  \n",
            "  inflating: part_voxceleb/id10270/GWXujl-xAVM/00010.wav  \n",
            "  inflating: part_voxceleb/id10270/GWXujl-xAVM/00012.wav  \n",
            "  inflating: part_voxceleb/id10270/GWXujl-xAVM/00017.wav  \n",
            "  inflating: part_voxceleb/id10270/GWXujl-xAVM/00021.wav  \n",
            "  inflating: part_voxceleb/id10270/GWXujl-xAVM/00024.wav  \n",
            "  inflating: part_voxceleb/id10270/GWXujl-xAVM/00033.wav  \n",
            "  inflating: part_voxceleb/id10270/GWXujl-xAVM/00035.wav  \n",
            "  inflating: part_voxceleb/id10270/GWXujl-xAVM/00038.wav  \n",
            "  inflating: part_voxceleb/id10270/GWXujl-xAVM/00044.wav  \n",
            "  inflating: part_voxceleb/id10270/GWXujl-xAVM/00045.wav  \n",
            "   creating: part_voxceleb/id10270/OhfKF8FSq3Y/\n",
            "  inflating: part_voxceleb/id10270/OhfKF8FSq3Y/00001.wav  \n",
            "  inflating: part_voxceleb/id10270/OhfKF8FSq3Y/00003.wav  \n",
            "   creating: part_voxceleb/id10270/OXdd7Gmluts/\n",
            "  inflating: part_voxceleb/id10270/OXdd7Gmluts/00002.wav  \n",
            "  inflating: part_voxceleb/id10270/OXdd7Gmluts/00003.wav  \n",
            "   creating: part_voxceleb/id10270/x6uYqmx31kE/\n",
            "  inflating: part_voxceleb/id10270/x6uYqmx31kE/00001.wav  \n",
            "  inflating: part_voxceleb/id10270/x6uYqmx31kE/00002.wav  \n",
            "  inflating: part_voxceleb/id10270/x6uYqmx31kE/00003.wav  \n",
            "  inflating: part_voxceleb/id10270/x6uYqmx31kE/00004.wav  \n",
            "  inflating: part_voxceleb/id10270/x6uYqmx31kE/00005.wav  \n",
            "   creating: part_voxceleb/id10271/\n",
            "   creating: part_voxceleb/id10271/djK87iSSKQo/\n",
            "  inflating: part_voxceleb/id10271/djK87iSSKQo/00001.wav  \n",
            "   creating: part_voxceleb/id10272/\n",
            "   creating: part_voxceleb/id10272/wb6ligRbbZ4/\n",
            "  inflating: part_voxceleb/id10272/wb6ligRbbZ4/00001.wav  \n",
            "   creating: part_voxceleb/id10273/\n",
            "   creating: part_voxceleb/id10273/0OCW1HUxZyg/\n",
            "  inflating: part_voxceleb/id10273/0OCW1HUxZyg/00001.wav  \n",
            "   creating: part_voxceleb/id10273/58VB-LYIoRM/\n",
            "  inflating: part_voxceleb/id10273/58VB-LYIoRM/00002.wav  \n",
            "   creating: part_voxceleb/id10273/8cfyJEV7hP8/\n",
            "  inflating: part_voxceleb/id10273/8cfyJEV7hP8/00004.wav  \n",
            "   creating: part_voxceleb/id10273/hW0Q6eHqN-U/\n",
            "  inflating: part_voxceleb/id10273/hW0Q6eHqN-U/00003.wav  \n",
            "   creating: part_voxceleb/id10273/prqT1CcDqMc/\n",
            "  inflating: part_voxceleb/id10273/prqT1CcDqMc/00012.wav  \n",
            "  inflating: part_voxceleb/id10273/prqT1CcDqMc/00020.wav  \n",
            "   creating: part_voxceleb/id10275/\n",
            "   creating: part_voxceleb/id10275/Mdk1SXywHck/\n",
            "  inflating: part_voxceleb/id10275/Mdk1SXywHck/00024.wav  \n",
            "   creating: part_voxceleb/id10276/\n",
            "   creating: part_voxceleb/id10276/AeZoMAJ4Ejs/\n",
            "  inflating: part_voxceleb/id10276/AeZoMAJ4Ejs/00007.wav  \n",
            "   creating: part_voxceleb/id10278/\n",
            "   creating: part_voxceleb/id10278/DSGE2F5sTcg/\n",
            "  inflating: part_voxceleb/id10278/DSGE2F5sTcg/00002.wav  \n",
            "   creating: part_voxceleb/id10278/LVXvQzNatXI/\n",
            "  inflating: part_voxceleb/id10278/LVXvQzNatXI/00001.wav  \n",
            "   creating: part_voxceleb/id10280/\n",
            "   creating: part_voxceleb/id10280/NXjT3732Ekg/\n",
            "  inflating: part_voxceleb/id10280/NXjT3732Ekg/00001.wav  \n",
            "   creating: part_voxceleb/id10281/\n",
            "   creating: part_voxceleb/id10281/dX8RBKI2FKc/\n",
            "  inflating: part_voxceleb/id10281/dX8RBKI2FKc/00001.wav  \n",
            "   creating: part_voxceleb/id10281/NHARUN9OhSo/\n",
            "  inflating: part_voxceleb/id10281/NHARUN9OhSo/00002.wav  \n",
            "   creating: part_voxceleb/id10281/WUg4pRp5_Co/\n",
            "  inflating: part_voxceleb/id10281/WUg4pRp5_Co/00001.wav  \n",
            "   creating: part_voxceleb/id10282/\n",
            "   creating: part_voxceleb/id10282/nYsLbFOQfOI/\n",
            "  inflating: part_voxceleb/id10282/nYsLbFOQfOI/00002.wav  \n",
            "   creating: part_voxceleb/id10283/\n",
            "   creating: part_voxceleb/id10283/vaK4t1-WD4M/\n",
            "  inflating: part_voxceleb/id10283/vaK4t1-WD4M/00017.wav  \n",
            "  inflating: part_voxceleb/id10283/vaK4t1-WD4M/00028.wav  \n",
            "   creating: part_voxceleb/id10284/\n",
            "   creating: part_voxceleb/id10284/7yx9A0yzLYk/\n",
            "  inflating: part_voxceleb/id10284/7yx9A0yzLYk/00029.wav  \n",
            "   creating: part_voxceleb/id10284/Uzxv7Axh3Z8/\n",
            "  inflating: part_voxceleb/id10284/Uzxv7Axh3Z8/00001.wav  \n",
            "   creating: part_voxceleb/id10285/\n",
            "   creating: part_voxceleb/id10285/m-uILToQ9ss/\n",
            "  inflating: part_voxceleb/id10285/m-uILToQ9ss/00009.wav  \n",
            "   creating: part_voxceleb/id10286/\n",
            "   creating: part_voxceleb/id10286/isKyMAYUOgg/\n",
            "  inflating: part_voxceleb/id10286/isKyMAYUOgg/00006.wav  \n",
            "  inflating: part_voxceleb/id10286/isKyMAYUOgg/00007.wav  \n",
            "  inflating: part_voxceleb/id10286/isKyMAYUOgg/00012.wav  \n",
            "   creating: part_voxceleb/id10290/\n",
            "   creating: part_voxceleb/id10290/fVOTAQKIfY4/\n",
            "  inflating: part_voxceleb/id10290/fVOTAQKIfY4/00002.wav  \n",
            "   creating: part_voxceleb/id10292/\n",
            "   creating: part_voxceleb/id10292/3kzw8lTcUBU/\n",
            "  inflating: part_voxceleb/id10292/3kzw8lTcUBU/00028.wav  \n",
            "   creating: part_voxceleb/id10292/aVmHBUeThTQ/\n",
            "  inflating: part_voxceleb/id10292/aVmHBUeThTQ/00001.wav  \n",
            "   creating: part_voxceleb/id10292/gm6PJowclv0/\n",
            "  inflating: part_voxceleb/id10292/gm6PJowclv0/00027.wav  \n",
            "   creating: part_voxceleb/id10293/\n",
            "   creating: part_voxceleb/id10293/rZQMeH1FCvM/\n",
            "  inflating: part_voxceleb/id10293/rZQMeH1FCvM/00008.wav  \n",
            "   creating: part_voxceleb/id10293/TwfthltapLg/\n",
            "  inflating: part_voxceleb/id10293/TwfthltapLg/00004.wav  \n",
            "   creating: part_voxceleb/id10295/\n",
            "   creating: part_voxceleb/id10295/3tvnlmkCiTw/\n",
            "  inflating: part_voxceleb/id10295/3tvnlmkCiTw/00008.wav  \n",
            "  inflating: part_voxceleb/id10295/3tvnlmkCiTw/00011.wav  \n",
            "   creating: part_voxceleb/id10295/nt7dNRvlEHE/\n",
            "  inflating: part_voxceleb/id10295/nt7dNRvlEHE/00004.wav  \n",
            "   creating: part_voxceleb/id10296/\n",
            "   creating: part_voxceleb/id10296/LUFoMNPpdbY/\n",
            "  inflating: part_voxceleb/id10296/LUFoMNPpdbY/00007.wav  \n",
            "   creating: part_voxceleb/id10298/\n",
            "   creating: part_voxceleb/id10298/DWT9P35cXT4/\n",
            "  inflating: part_voxceleb/id10298/DWT9P35cXT4/00007.wav  \n",
            "   creating: part_voxceleb/id10298/VHtcwtdPjpE/\n",
            "  inflating: part_voxceleb/id10298/VHtcwtdPjpE/00002.wav  \n",
            "   creating: part_voxceleb/id10300/\n",
            "   creating: part_voxceleb/id10300/ize_eiCFEg0/\n",
            "  inflating: part_voxceleb/id10300/ize_eiCFEg0/00003.wav  \n",
            "   creating: part_voxceleb/id10300/SQzWyPhRqmk/\n",
            "  inflating: part_voxceleb/id10300/SQzWyPhRqmk/00012.wav  \n",
            "   creating: part_voxceleb/id10302/\n",
            "   creating: part_voxceleb/id10302/WAbHmvQ9zME/\n",
            "  inflating: part_voxceleb/id10302/WAbHmvQ9zME/00006.wav  \n",
            "   creating: part_voxceleb/id10303/\n",
            "   creating: part_voxceleb/id10303/R5JGtwc4o1M/\n",
            "  inflating: part_voxceleb/id10303/R5JGtwc4o1M/00005.wav  \n",
            "   creating: part_voxceleb/id10305/\n",
            "   creating: part_voxceleb/id10305/G50_Ix7IVjU/\n",
            "  inflating: part_voxceleb/id10305/G50_Ix7IVjU/00001.wav  \n",
            "   creating: part_voxceleb/id10306/\n",
            "   creating: part_voxceleb/id10306/2SaEbN8hYz4/\n",
            "  inflating: part_voxceleb/id10306/2SaEbN8hYz4/00011.wav  \n",
            "   creating: part_voxceleb/id10306/C3AhSlYJd3w/\n",
            "  inflating: part_voxceleb/id10306/C3AhSlYJd3w/00005.wav  \n",
            "   creating: part_voxceleb/id10306/uzt36PBzT2w/\n",
            "  inflating: part_voxceleb/id10306/uzt36PBzT2w/00001.wav  \n",
            "   creating: part_voxceleb/id10307/\n",
            "   creating: part_voxceleb/id10307/kp_GCjLq4qA/\n",
            "  inflating: part_voxceleb/id10307/kp_GCjLq4qA/00004.wav  \n",
            "   creating: part_voxceleb/id10307/yUv37vQWmzE/\n",
            "  inflating: part_voxceleb/id10307/yUv37vQWmzE/00014.wav  \n",
            "   creating: part_voxceleb/id10308/\n",
            "   creating: part_voxceleb/id10308/ygGJs_Rh7ds/\n",
            "  inflating: part_voxceleb/id10308/ygGJs_Rh7ds/00002.wav  \n",
            "   creating: part_voxceleb/id10309/\n",
            "   creating: part_voxceleb/id10309/0cYFdtyWVds/\n",
            "  inflating: part_voxceleb/id10309/0cYFdtyWVds/00002.wav  \n",
            "   creating: part_voxceleb/id10309/e-IdJ8a4gy4/\n",
            "  inflating: part_voxceleb/id10309/e-IdJ8a4gy4/00009.wav  \n"
          ]
        }
      ]
    },
    {
      "cell_type": "markdown",
      "id": "StlITPBJ2nGZ",
      "metadata": {
        "id": "StlITPBJ2nGZ"
      },
      "source": [
        "Загрузим необходимые стандартные модули и модули проекта нейронной сети"
      ]
    },
    {
      "cell_type": "code",
      "execution_count": null,
      "id": "z0FeVC91iHK4",
      "metadata": {
        "id": "z0FeVC91iHK4"
      },
      "outputs": [],
      "source": [
        "# импорт стандартных модулей\n",
        "import numpy as np\n",
        "import torch\n",
        "from torch.utils.data import Dataset, DataLoader\n",
        "import torch.nn.functional as F\n",
        "from art.attacks.evasion import HopSkipJump\n",
        "from art.estimators.classification import BlackBoxClassifierNeuralNetwork\n",
        "from tensorflow.keras.utils import to_categorical\n",
        "import soundfile\n",
        "\n",
        "# импорт модулей VoxCeleb\n",
        "from tuneThreshold import *\n",
        "from SpeakerNet import *\n",
        "from DatasetLoader import *"
      ]
    },
    {
      "cell_type": "markdown",
      "id": "OzjBWMXV3MKh",
      "metadata": {
        "id": "OzjBWMXV3MKh"
      },
      "source": [
        "Прежде чем начать атаку выполним функции вычисления точности и статистических ошибок первого и второго рода на основе значений выходных предсказаний нейронной сети и истинных меток."
      ]
    },
    {
      "cell_type": "code",
      "execution_count": null,
      "id": "zBWyteL0ijFE",
      "metadata": {
        "id": "zBWyteL0ijFE"
      },
      "outputs": [],
      "source": [
        "def calc_accuracy(scores, labels):\n",
        "    # scores - предсказания нейронной сети в категориальном виде\n",
        "    # labels - истинные метки\n",
        "\n",
        "    # вычисление предсказанных сетью меток\n",
        "    predictions = np.argmax(scores, axis=1)\n",
        "\n",
        "    labels = np.array(labels)\n",
        "\n",
        "    # вычисление точности как отношения количества совпавших предсказанных \n",
        "    # и истинных меток к общему числу предсказаний\n",
        "    accuracy = sum(predictions == labels) / len(predictions) * 100\n",
        "    print('accuracy =', accuracy, '%')\n",
        "    return accuracy\n",
        "\n",
        "\n",
        "def calc_errors(scores, labels):\n",
        "    # scores - предсказания нейронной сети в категориальном виде\n",
        "    # labels - истинные метки\n",
        "\n",
        "    # вычисление предсказанных сетью меток\n",
        "    predictions = np.argmax(scores, axis=1)\n",
        "\n",
        "    labels = np.array(labels)\n",
        "\n",
        "    first = 0\n",
        "    second = 0\n",
        "\n",
        "    # нахождение всех несовпадающих с истинными предсказанных меток\n",
        "    difference = np.where(predictions != labels)[0]\n",
        "\n",
        "    # для каждой несовпавшей с истинной предсказанной меткой определяем\n",
        "    # какого рода ошибка\n",
        "    for diff in difference:\n",
        "        # исходная посылка была истинной - результат ложно-отрицательный,\n",
        "        # ошибка первого рода\n",
        "        if labels[diff] == 1:\n",
        "            first += 1\n",
        "        # исходная посылка была ложной - результат ложно-положительный,\n",
        "        # ошибка второго рода\n",
        "        else:\n",
        "            second += 1\n",
        "\n",
        "    # вычисляем значение итоговых ошибок\n",
        "    # итоговая ошибка первого рода - отношение количества ложно-отрицательных результатов\n",
        "    # к общему числу истинных посылок\n",
        "    first /= np.sum(labels == 1)\n",
        "    # итоговая ошибка второго рода - отношение количества ложно-положительных результатов\n",
        "    # к общему числу ложных посылок\n",
        "    second /= np.sum(labels == 0)\n",
        "    print('first = ', first * 100, '%; second = ', second * 100, '%')\n",
        "    return first * 100, second * 100"
      ]
    },
    {
      "cell_type": "markdown",
      "id": "FdMm7fto6n3Q",
      "metadata": {
        "id": "FdMm7fto6n3Q"
      },
      "source": [
        "Исходная нейронная сеть возвращает предсказания в виде одного значения схожести между двумя входными записями голоса для каждой тестовой пары.\n",
        "Для проведения атаки, необходимо чтобы сеть возвращала результат предсказания в категориальном виде. Простыми словами категориальный вид предсказание - это представление предсказания нейронной сети не в виде одного числа, а в виде вектора значений, определяющих близость входных данных к каждому из классов. Это удобно при выполнении классификации данных, например, при распознавании изображений или рукописных подписей. В нашем случае также возможно выделить два класса: 0 - записи не принадлежат одному человеку и 1 - записи принадлежат одному человеку. Таким образом необходимо преобразовать одно значение, выдаваемое нейронной сетью к двум. Напишем функцию преобразования:"
      ]
    },
    {
      "cell_type": "code",
      "execution_count": null,
      "id": "QZZv_Wn8lYs6",
      "metadata": {
        "id": "QZZv_Wn8lYs6"
      },
      "outputs": [],
      "source": [
        "def get_one_hot(scores, threshold):\n",
        "    # scores - предсказания нейронной сети\n",
        "    # threshold - порог принятия решения. Если значение предсказания выше порога\n",
        "    # записи признаются принадлежащими одному человеку и не принадлежащими - в\n",
        "    # противном случае\n",
        "    result = []\n",
        "\n",
        "    for score in scores:\n",
        "        # преобразованное значение\n",
        "        value = [0, 0]\n",
        "        # степень уверенности сети в том, что записи не принадлежат одному человеку\n",
        "        # определяется как отношение предсказания нейронной сети к порогу\n",
        "        value[0] = score/threshold\n",
        "        # обратная ситуация определяется обратным отношением\n",
        "        value[1] = threshold/score\n",
        "        result.append(value)\n",
        "\n",
        "    return result"
      ]
    },
    {
      "cell_type": "markdown",
      "id": "bAC3vlyf_DsA",
      "metadata": {
        "id": "bAC3vlyf_DsA"
      },
      "source": [
        "В рамках проекта VoxCeleb был собран достаточно большой датасет, в рамках данной работы для проведения нам нужен лишь небольшая часть данного датасета, представленная в материалах курса. Папка part_voxceleb содержит в себе записи участников в формате \"идентификатор\"/\"ключ видео на youtube\"/\"файл записи в формате wav\", а файл test_list.txt содержит список пар файлов с меткой, определяющей являются ли данные записи принадлежащими одному человеку: 0 - не являются, 1 - являются. Напишем функцию, загружающую файлы из part_voxceleb по списку указанному в test_list.txt, и возвращающая загруженные данные и соответствующие им метки."
      ]
    },
    {
      "cell_type": "code",
      "execution_count": null,
      "id": "5Ee2mNxfkUBa",
      "metadata": {
        "id": "5Ee2mNxfkUBa"
      },
      "outputs": [],
      "source": [
        "def create_attacked_dataset(files_list):\n",
        "    # files_list - путь к файлу test_list.txt\n",
        "\n",
        "    dataset = []\n",
        "    all_labels = []\n",
        "\n",
        "    with open(files_list) as f:\n",
        "        lines = f.readlines()\n",
        "\n",
        "    print('dataset loading...')\n",
        "    for idx, line in enumerate(lines):\n",
        "        data = line.split()\n",
        "\n",
        "        # загрузка записей с помощью функции, определенной в проекте VoxCeleb\n",
        "        audio1 = loadWAV(os.path.join(test_path, data[1]), 400, evalmode=True, num_eval=10)\n",
        "        audio2 = loadWAV(os.path.join(test_path, data[2]), 400, evalmode=True, num_eval=10)\n",
        "        \n",
        "        voices = [audio1, audio2]\n",
        "        dataset.append(voices)\n",
        "        all_labels.append(int(data[0]))\n",
        "    print('finished!')\n",
        "\n",
        "    return np.array(dataset), np.array(all_labels)"
      ]
    },
    {
      "cell_type": "markdown",
      "id": "V8_lIXLEBts8",
      "metadata": {
        "id": "V8_lIXLEBts8"
      },
      "source": [
        "Для проведения атаки необходимо, чтобы нейронная функция вызывалась через функцию, принимающую на вход данные, которые нужно классифицировать, и возвращающую результат в категориальном виде. "
      ]
    },
    {
      "cell_type": "code",
      "execution_count": null,
      "id": "wx5gJ-etlQLe",
      "metadata": {
        "id": "wx5gJ-etlQLe"
      },
      "outputs": [],
      "source": [
        "def get_prediction(dataset):\n",
        "    # dataset - данные для классификации\n",
        "    global trainer # контейнер с обученной моделью\n",
        "\n",
        "    # рассчет предсказаний нейронной сети\n",
        "    all_scores = []\n",
        "    threshold = -1\n",
        "\n",
        "    for couple in dataset:\n",
        "        audio1 = torch.FloatTensor(couple[0])\n",
        "        audio2 = torch.FloatTensor(couple[1])\n",
        "        inp1 = audio1.cuda()\n",
        "        inp2 = audio2.cuda()\n",
        "        with torch.no_grad():\n",
        "            ref1 = trainer.__model__(inp1).detach().cpu()\n",
        "            ref2 = trainer.__model__(inp2).detach().cpu()\n",
        "\n",
        "        ref_feat = ref1.cuda()\n",
        "        com_feat = ref2.cuda()\n",
        "\n",
        "        if trainer.__model__.module.__L__.test_normalize:\n",
        "            ref_feat = F.normalize(ref_feat, p=2, dim=1)\n",
        "            com_feat = F.normalize(com_feat, p=2, dim=1)\n",
        "\n",
        "        dist = torch.cdist(ref_feat.reshape(10, -1), com_feat.reshape(10, -1)).detach().cpu().numpy()\n",
        "        score = -1 * numpy.mean(dist)\n",
        "        all_scores.append(score)\n",
        "\n",
        "    # преобразование результатов в категориальный вид\n",
        "    prediction = get_one_hot(all_scores, threshold)\n",
        "    return prediction"
      ]
    },
    {
      "cell_type": "markdown",
      "id": "Kb2uh-hsC6tB",
      "metadata": {
        "id": "Kb2uh-hsC6tB"
      },
      "source": [
        "Атака будет проводиться на предобученную модель baseline_lite_ap.model, относящуюся к классу ResNetSE34L. Исходное расположение сети: http://www.robots.ox.ac.uk/~joon/data/baseline_lite_ap.model\n",
        "Итак, проведем атаку HotSkipJump. Опыт показывает, что данная атака проста в проведении и эффективна, кроме того для ее реализации нет необходимости иметь доступ непосредственно ко внутренней структуре сети, она проводится по методологии \"черного ящика\". Подробнее: https://adversarial-robustness-toolbox.readthedocs.io/en/latest/modules/attacks/evasion.html#hopskipjump-attack\n"
      ]
    },
    {
      "cell_type": "code",
      "execution_count": null,
      "id": "T02NstmPuE6q",
      "metadata": {
        "id": "T02NstmPuE6q",
        "colab": {
          "base_uri": "https://localhost:8080/",
          "height": 399,
          "referenced_widgets": [
            "053806dd5471482f9285384172f0c458",
            "e5a524271ee343cdbee1c34925a7d879",
            "6f38c4ea37134705a8ebb943a32fb136",
            "dded878c596144bfa5e60254bcd6b1ac",
            "c718265413d04b898e981b59373bc9f7",
            "7109a1f5ff2740c78eec9a009d8377ed",
            "160e1fe034e64df490eee14244f7a29c",
            "6bc3d8bb6ed244fd8a803ab5d5a0302d",
            "dceda685cf0a415f9a2ba62ea536e8f0",
            "477fcc3d0c3b43a18eda5a283c6b8008",
            "489877a3e41b477c811d3d198b8e1f9b"
          ]
        },
        "outputId": "5bf82eac-16cf-408a-f342-202e31aa0769"
      },
      "outputs": [
        {
          "output_type": "stream",
          "name": "stdout",
          "text": [
            "Embedding size is 512, encoder SAP.\n",
            "Initialised AngleProto\n",
            "Initialised Adam optimizer\n",
            "Initialised step LR scheduler\n",
            "dataset loading...\n",
            "finished!\n",
            "(100, 2, 10, 64240)\n",
            "[[0.8417819738388062, 1.1879560635394304], [1.1556305885314941, 0.8653284275477165], [0.7540985345840454, 1.3260866506677298], [1.1917729377746582, 0.8390860106852679], [0.7770070433616638, 1.2869896206777915], [1.159084677696228, 0.8627497362725721], [0.675621509552002, 1.4801186549893746], [1.0778743028640747, 0.9277519626758418], [0.7178911566734314, 1.3929688236219628], [1.2804243564605713, 0.7809910792108503], [0.7799628973007202, 1.282112269007641], [1.1005735397338867, 0.9086171563254147], [0.7380216717720032, 1.3549737605929406], [1.0102360248565674, 0.9898676897232795], [0.7478116750717163, 1.337235073127333], [1.2656681537628174, 0.7900965170270036], [0.7328441143035889, 1.364546675728283], [1.3109630346298218, 0.7627980145774066], [0.8080918788909912, 1.2374830463243605], [1.2252274751663208, 0.8161749718061564], [0.6433665752410889, 1.5543238310527243], [1.212263822555542, 0.8249029471917473], [0.8631208539009094, 1.1585863039694382], [1.3916232585906982, 0.7185852879555229], [0.6973019242286682, 1.4340990111366265], [1.0815905332565308, 0.9245643053005724], [0.71663498878479, 1.3954105167202577], [1.1833748817443848, 0.8450407520277292], [0.7651581764221191, 1.3069193152662912], [1.3156780004501343, 0.7600643923953041], [0.711190938949585, 1.4060921550504852], [1.1257429122924805, 0.8883022838345785], [0.7629209756851196, 1.3107517447688186], [1.2297697067260742, 0.8131603783461432], [0.6981584429740906, 1.432339621562252], [1.2711877822875977, 0.7866658364198759], [0.7066590785980225, 1.415109534832485], [0.9597026705741882, 1.041989389694729], [0.6655420064926147, 1.5025347615095976], [1.2177382707595825, 0.8211945243178035], [0.6964062452316284, 1.435943469558339], [1.2817087173461914, 0.7802084720704123], [0.6988579034805298, 1.4309060468797574], [1.1317540407180786, 0.8835842100157355], [0.6779735088348389, 1.4749838850172685], [1.2386571168899536, 0.8073259228597669], [0.6948096752166748, 1.439243055572236], [1.2586520910263062, 0.7945007259191053], [0.7164116501808167, 1.3958455306353656], [1.068583369255066, 0.9358184197617853], [0.6675832271575928, 1.4979405702832844], [1.2684797048568726, 0.7883452893815387], [0.6826390027999878, 1.4649031126236403], [1.213180661201477, 0.8242795421826515], [0.7018448710441589, 1.4248162824247264], [1.249590277671814, 0.8002623082688828], [0.7924118638038635, 1.2619700002971161], [1.2813280820846558, 0.7804402431991116], [0.8218988180160522, 1.2166947780918567], [1.1541025638580322, 0.8664741170465083], [0.8734599351882935, 1.1448722027352383], [1.2440608739852905, 0.8038191867545412], [0.7907401323318481, 1.2646379753751162], [1.3118858337402344, 0.7622614516302562], [0.7052280902862549, 1.4179809536430916], [1.236767292022705, 0.808559545882332], [0.7216945886611938, 1.3856276820020044], [1.3025450706481934, 0.7677277527927413], [0.7802203893661499, 1.281689140183069], [1.2750495672225952, 0.7842832354966968], [0.779512345790863, 1.2828533190009181], [1.2846195697784424, 0.7784405776820521], [0.7597682476043701, 1.316190829444513], [1.1144587993621826, 0.8972965178903979], [0.7070841193199158, 1.4142588875589728], [1.168644905090332, 0.8556919177452826], [0.781708300113678, 1.2792495613191999], [1.1737792491912842, 0.8519489509539248], [0.8104033470153809, 1.233953442668865], [1.3397871255874634, 0.7463872289125967], [0.7507997155189514, 1.3319131311987802], [1.3130276203155518, 0.7615986019849881], [0.5796329975128174, 1.725229592329907], [1.243881344795227, 0.8039352018456585], [0.7220958471298218, 1.3848577082596285], [1.2473407983779907, 0.8017055172895602], [0.6706215739250183, 1.4911539367085873], [1.2054944038391113, 0.8295351656675652], [0.657016932964325, 1.5220307876818429], [1.1695083379745483, 0.8550601714664839], [0.6844059228897095, 1.4611211951202647], [1.3210002183914185, 0.7570021458570989], [0.7840301990509033, 1.2754610743445034], [1.2047500610351562, 0.8300476856923924], [0.7886505126953125, 1.2679887781754862], [1.2033885717391968, 0.8309867847213727], [0.7652934789657593, 1.3066882542255949], [1.223902940750122, 0.8170582541350105], [0.9869257211685181, 1.0132474800798605], [1.2906140089035034, 0.7748250004271943]]\n",
            "[1 0 1 0 1 0 1 0 1 0 1 0 1 0 1 0 1 0 1 0 1 0 1 0 1 0 1 0 1 0 1 0 1 0 1 0 1\n",
            " 1 1 0 1 0 1 0 1 0 1 0 1 0 1 0 1 0 1 0 1 0 1 0 1 0 1 0 1 0 1 0 1 0 1 0 1 0\n",
            " 1 0 1 0 1 0 1 0 1 0 1 0 1 0 1 0 1 0 1 0 1 0 1 0 1 0]\n",
            "accuracy = 99.0 %\n",
            "first =  0.0 %; second =  2.0 %\n"
          ]
        },
        {
          "output_type": "display_data",
          "data": {
            "text/plain": [
              "HopSkipJump:   0%|          | 0/100 [00:00<?, ?it/s]"
            ],
            "application/vnd.jupyter.widget-view+json": {
              "version_major": 2,
              "version_minor": 0,
              "model_id": "053806dd5471482f9285384172f0c458"
            }
          },
          "metadata": {}
        },
        {
          "output_type": "stream",
          "name": "stdout",
          "text": [
            "[[0.8417819738388062, 1.1879560635394304], [0.8418691158294678, 1.1878330980401042], [0.7540985345840454, 1.3260866506677298], [0.8860176801681519, 1.1286456493850283], [0.7770070433616638, 1.2869896206777915], [0.7642419934272766, 1.3084860667175018], [0.675621509552002, 1.4801186549893746], [0.799858033657074, 1.2502218617819543], [0.7178911566734314, 1.3929688236219628], [0.9305142760276794, 1.0746745383305152], [0.7799628973007202, 1.282112269007641], [0.9333901405334473, 1.0713633630504005], [0.7380216717720032, 1.3549737605929406], [0.9753320813179016, 1.0252918151208215], [0.7478116750717163, 1.337235073127333], [0.8760610818862915, 1.141472918585596], [0.7328441143035889, 1.364546675728283], [0.8404855132102966, 1.1897885023388755], [0.8080918788909912, 1.2374830463243605], [0.8736571669578552, 1.144613743033873], [0.6433665752410889, 1.5543238310527243], [0.7707356810569763, 1.297461664975227], [0.8631208539009094, 1.1585863039694382], [0.9128173589706421, 1.0955094030285217], [0.6973019242286682, 1.4340990111366265], [0.9576857686042786, 1.0441838364763316], [0.71663498878479, 1.3954105167202577], [0.9019486904144287, 1.1087105182674177], [0.7651581764221191, 1.3069193152662912], [0.814389705657959, 1.2279133602162657], [0.711190938949585, 1.4060921550504852], [0.9362891912460327, 1.0680460795122282], [0.7629209756851196, 1.3107517447688186], [0.8228654265403748, 1.2152655437285333], [0.6981584429740906, 1.432339621562252], [0.8133297562599182, 1.2295136041726562], [0.7066590785980225, 1.415109534832485], [0.9597026705741882, 1.041989389694729], [0.6655420064926147, 1.5025347615095976], [0.6193569302558899, 1.6145778809431355], [0.6964062452316284, 1.435943469558339], [0.8601114153862, 1.1626400744268561], [0.6988579034805298, 1.4309060468797574], [0.9066964983940125, 1.1029048879876029], [0.6779735088348389, 1.4749838850172685], [0.867638349533081, 1.1525539420176036], [0.6948096752166748, 1.439243055572236], [0.7937958240509033, 1.259769791804641], [0.7164116501808167, 1.3958455306353656], [0.9404484629631042, 1.0633224885596224], [0.6675832271575928, 1.4979405702832844], [0.8429450392723083, 1.1863169642273155], [0.6826390027999878, 1.4649031126236403], [0.7607823014259338, 1.3144364664184491], [0.7018448710441589, 1.4248162824247264], [0.72182297706604, 1.3853812247216803], [0.7924118638038635, 1.2619700002971161], [0.9165186285972595, 1.091085296902813], [0.8218988180160522, 1.2166947780918567], [0.8788729310035706, 1.1378209121290337], [0.8734599351882935, 1.1448722027352383], [0.8727571964263916, 1.1457940468375618], [0.7907401323318481, 1.2646379753751162], [0.8916623592376709, 1.1215007448054135], [0.7052280902862549, 1.4179809536430916], [0.8861232995986938, 1.1285111230602767], [0.7216945886611938, 1.3856276820020044], [0.9011622667312622, 1.1096780645590574], [0.7802203893661499, 1.281689140183069], [0.8755871057510376, 1.142090825038186], [0.779512345790863, 1.2828533190009181], [0.7223033308982849, 1.3844599037863505], [0.7597682476043701, 1.316190829444513], [0.9099740386009216, 1.0989324503559383], [0.7070841193199158, 1.4142588875589728], [0.9416413903236389, 1.0619754083412831], [0.781708300113678, 1.2792495613191999], [0.7484566569328308, 1.3360827119876142], [0.8104033470153809, 1.233953442668865], [0.7954575419425964, 1.2571381214865196], [0.7507997155189514, 1.3319131311987802], [0.8367773294448853, 1.1950610572389622], [0.5796329975128174, 1.725229592329907], [0.8670466542243958, 1.1533404749650245], [0.7220958471298218, 1.3848577082596285], [0.8988219499588013, 1.1125674000794443], [0.6706215739250183, 1.4911539367085873], [0.9302914142608643, 1.0749319886978863], [0.657016932964325, 1.5220307876818429], [0.9443297386169434, 1.058952142568962], [0.6844059228897095, 1.4611211951202647], [0.8730689287185669, 1.1453849370950977], [0.7840301990509033, 1.2754610743445034], [0.9042127728462219, 1.105934388487198], [0.7886505126953125, 1.2679887781754862], [0.750942051410675, 1.3316606762418746], [0.7652934789657593, 1.3066882542255949], [0.8793948292732239, 1.1371456446093164], [0.9869257211685181, 1.0132474800798605], [0.9197238087654114, 1.0872829326255533]]\n",
            "[1 1 1 1 1 1 1 1 1 1 1 1 1 1 1 1 1 1 1 1 1 1 1 1 1 1 1 1 1 1 1 1 1 1 1 1 1\n",
            " 1 1 1 1 1 1 1 1 1 1 1 1 1 1 1 1 1 1 1 1 1 1 1 1 1 1 1 1 1 1 1 1 1 1 1 1 1\n",
            " 1 1 1 1 1 1 1 1 1 1 1 1 1 1 1 1 1 1 1 1 1 1 1 1 1 1]\n",
            "accuracy = 50.0 %\n",
            "first =  0.0 %; second =  100.0 %\n"
          ]
        }
      ],
      "source": [
        "# отключим лишнее логирование действий атаки, чтобы не засорять вывод\n",
        "import logging\n",
        "logger = logging.getLogger('art.attacks.evasion.hop_skip_jump')\n",
        "logger.disabled = True\n",
        "\n",
        "# укажем расположение папки part_voxceleb и файла test_list.txt\n",
        "test_list = './drive/MyDrive/Colab_Notebooks/Project_5/test_list.txt'\n",
        "test_path = './part_voxceleb'\n",
        "\n",
        "def main():\n",
        "    global trainer\n",
        "\n",
        "    # инициализируем и загружаем предобученную модель\n",
        "    s = SpeakerNet('ResNetSE34L', 'adam', 'angleproto', nPerSpeaker=400, nOut=512)\n",
        "    s = WrappedModel(s).cuda(0)\n",
        "    trainer = ModelTrainer(s, 'adam', 'steplr', gpu=0, mixedprec=False, lr=0.001, lr_decay=0.95, weight_decay=0,\n",
        "                           test_interval=10, max_epoch=500)\n",
        "    trainer.loadParameters('./drive/MyDrive/Colab_Notebooks/Project_5/baseline_lite_ap.model')\n",
        "    trainer.__model__.eval()\n",
        "\n",
        "    # загружаем датасет для проведения атаки\n",
        "    dataset, labels = create_attacked_dataset(test_list)\n",
        "\n",
        "    # выведем форму загруженного датасета\n",
        "    print(dataset.shape)\n",
        "    \"\"\"\n",
        "    (100, 2, 10, 64240)\n",
        "    100 - количество сравнений, для которых будет вычисляться схожесть\n",
        "    2 - две аудиозаписи в каждом сравнении\n",
        "    10 - каждая запись загружается в виде десяти отрезков\n",
        "    64240 - каждый отрезок состоит из данного числа сэмплов\n",
        "    \"\"\"\n",
        "\n",
        "    # вычислим значения предсказания для неатакованных данных\n",
        "    pred = get_prediction(dataset)\n",
        "    print(pred)\n",
        "\n",
        "    # преобразуем предсказания к виду обычных меток\n",
        "    print(np.argmax(pred, axis=1))\n",
        "\n",
        "    # вычислим точность и значения ошибок\n",
        "    calc_accuracy(pred, labels)\n",
        "    calc_errors(pred, labels)\n",
        "\n",
        "    # проводим атаку\n",
        "    # создадим классификатор черного ящика, который позволяет проводить атаки\n",
        "    # \"черным ящиком\" на основе функции, возвращающей предсказания нейронной сети\n",
        "    classifier = BlackBoxClassifierNeuralNetwork(\n",
        "        predict_fn=get_prediction,   # функция, возвращающая предсказания нейронной сети\n",
        "        nb_classes=2,                # количество классов, в нашем случае их 2 - 0 - записи не принадлежат одному человеку и 1 - записи принадлежат одному человеку\n",
        "        input_shape=(2, 10, 64240))  # форма загруженного датасета - все метрики, за исключением количества сравнений\n",
        "\n",
        "    # атака будет проводиться только на одну аудиозапись из двух, таким образом\n",
        "    # атакованная запись будет сравниваться с неатакованной. Суть атаки состоит \n",
        "    # в том, что несмотря на незначительные изменения исходной записи\n",
        "    # нейронная сеть перестает адекватно воспринимать ее. Например, если две записи\n",
        "    # принадлежат одному человеку, то после атаки на одну из них нейронная сеть не сможет\n",
        "    # распознать их сходства и выдаст ложно-отрицательную метку, что приведет к общему\n",
        "    # снижению точности распознавания в возрастанию ошибки первого рода\n",
        "\n",
        "    # для того, что атаковывалась только одна запись из двух зададим маску\n",
        "    # на значения маскированные нулем атака проводиться не будет\n",
        "    # первая половина маски будет соответствовать первой аудиозаписи и будет состоять из 0\n",
        "    #mask_zeros = np.zeros((10, 64240,))\n",
        "    # вторая половина маски будет соответствовать второй аудиозаписи и будет состоять из 1\n",
        "    #mask_ones = np.ones((10, 64240,))\n",
        "    #mask = np.array([mask_zeros, mask_ones])\n",
        "\n",
        "    # инициализируем атаку HopSkipJump\n",
        "    attack = HopSkipJump(\n",
        "        classifier, # ранее созданный классификатор черного ящика\n",
        "        max_iter=1  # максимальное число итераций при генерации установлено в одну для того, чтобы генерация атакующих примеров не занимала слишком много времени\n",
        "        )\n",
        "    \n",
        "    # генерируем атакующие примеры\n",
        "    adv_dataset = attack.generate(x=dataset, y=labels)\n",
        "\n",
        "    # вычислим значения предсказания для атакующих данных и вычислим точность и ошибки\n",
        "    pred = get_prediction(adv_dataset)\n",
        "    print(pred)\n",
        "    print(np.argmax(pred, axis=1))\n",
        "    calc_accuracy(pred, labels)\n",
        "    calc_errors(pred, labels)\n",
        "    \"\"\"\n",
        "    Ожидаемый результат\n",
        "    \"\"\"\n",
        "\n",
        "    # сохраним один атакованный и не атакованный пример для сравнения данных до и \n",
        "    # после атаки\n",
        "    soundfile.write('clear.wav',    dataset[0][1][0],     16000)\n",
        "    soundfile.write('attacked.wav', adv_dataset[0][1][0], 16000)\n",
        "\n",
        "    soundfile.write('attacked1.wav', adv_dataset[1][0][0],     16000)\n",
        "    soundfile.write('attacked2.wav', adv_dataset[1][1][0], 16000)\n",
        "\n",
        "if __name__ == '__main__':\n",
        "    main()"
      ]
    }
  ],
  "metadata": {
    "accelerator": "GPU",
    "colab": {
      "provenance": []
    },
    "kernelspec": {
      "display_name": "Python 3",
      "language": "python",
      "name": "python3"
    },
    "language_info": {
      "codemirror_mode": {
        "name": "ipython",
        "version": 3
      },
      "file_extension": ".py",
      "mimetype": "text/x-python",
      "name": "python",
      "nbconvert_exporter": "python",
      "pygments_lexer": "ipython3",
      "version": "3.8.2"
    },
    "widgets": {
      "application/vnd.jupyter.widget-state+json": {
        "053806dd5471482f9285384172f0c458": {
          "model_module": "@jupyter-widgets/controls",
          "model_name": "HBoxModel",
          "model_module_version": "1.5.0",
          "state": {
            "_dom_classes": [],
            "_model_module": "@jupyter-widgets/controls",
            "_model_module_version": "1.5.0",
            "_model_name": "HBoxModel",
            "_view_count": null,
            "_view_module": "@jupyter-widgets/controls",
            "_view_module_version": "1.5.0",
            "_view_name": "HBoxView",
            "box_style": "",
            "children": [
              "IPY_MODEL_e5a524271ee343cdbee1c34925a7d879",
              "IPY_MODEL_6f38c4ea37134705a8ebb943a32fb136",
              "IPY_MODEL_dded878c596144bfa5e60254bcd6b1ac"
            ],
            "layout": "IPY_MODEL_c718265413d04b898e981b59373bc9f7"
          }
        },
        "e5a524271ee343cdbee1c34925a7d879": {
          "model_module": "@jupyter-widgets/controls",
          "model_name": "HTMLModel",
          "model_module_version": "1.5.0",
          "state": {
            "_dom_classes": [],
            "_model_module": "@jupyter-widgets/controls",
            "_model_module_version": "1.5.0",
            "_model_name": "HTMLModel",
            "_view_count": null,
            "_view_module": "@jupyter-widgets/controls",
            "_view_module_version": "1.5.0",
            "_view_name": "HTMLView",
            "description": "",
            "description_tooltip": null,
            "layout": "IPY_MODEL_7109a1f5ff2740c78eec9a009d8377ed",
            "placeholder": "​",
            "style": "IPY_MODEL_160e1fe034e64df490eee14244f7a29c",
            "value": "HopSkipJump: 100%"
          }
        },
        "6f38c4ea37134705a8ebb943a32fb136": {
          "model_module": "@jupyter-widgets/controls",
          "model_name": "FloatProgressModel",
          "model_module_version": "1.5.0",
          "state": {
            "_dom_classes": [],
            "_model_module": "@jupyter-widgets/controls",
            "_model_module_version": "1.5.0",
            "_model_name": "FloatProgressModel",
            "_view_count": null,
            "_view_module": "@jupyter-widgets/controls",
            "_view_module_version": "1.5.0",
            "_view_name": "ProgressView",
            "bar_style": "success",
            "description": "",
            "description_tooltip": null,
            "layout": "IPY_MODEL_6bc3d8bb6ed244fd8a803ab5d5a0302d",
            "max": 100,
            "min": 0,
            "orientation": "horizontal",
            "style": "IPY_MODEL_dceda685cf0a415f9a2ba62ea536e8f0",
            "value": 100
          }
        },
        "dded878c596144bfa5e60254bcd6b1ac": {
          "model_module": "@jupyter-widgets/controls",
          "model_name": "HTMLModel",
          "model_module_version": "1.5.0",
          "state": {
            "_dom_classes": [],
            "_model_module": "@jupyter-widgets/controls",
            "_model_module_version": "1.5.0",
            "_model_name": "HTMLModel",
            "_view_count": null,
            "_view_module": "@jupyter-widgets/controls",
            "_view_module_version": "1.5.0",
            "_view_name": "HTMLView",
            "description": "",
            "description_tooltip": null,
            "layout": "IPY_MODEL_477fcc3d0c3b43a18eda5a283c6b8008",
            "placeholder": "​",
            "style": "IPY_MODEL_489877a3e41b477c811d3d198b8e1f9b",
            "value": " 100/100 [11:00&lt;00:00,  7.21s/it]"
          }
        },
        "c718265413d04b898e981b59373bc9f7": {
          "model_module": "@jupyter-widgets/base",
          "model_name": "LayoutModel",
          "model_module_version": "1.2.0",
          "state": {
            "_model_module": "@jupyter-widgets/base",
            "_model_module_version": "1.2.0",
            "_model_name": "LayoutModel",
            "_view_count": null,
            "_view_module": "@jupyter-widgets/base",
            "_view_module_version": "1.2.0",
            "_view_name": "LayoutView",
            "align_content": null,
            "align_items": null,
            "align_self": null,
            "border": null,
            "bottom": null,
            "display": null,
            "flex": null,
            "flex_flow": null,
            "grid_area": null,
            "grid_auto_columns": null,
            "grid_auto_flow": null,
            "grid_auto_rows": null,
            "grid_column": null,
            "grid_gap": null,
            "grid_row": null,
            "grid_template_areas": null,
            "grid_template_columns": null,
            "grid_template_rows": null,
            "height": null,
            "justify_content": null,
            "justify_items": null,
            "left": null,
            "margin": null,
            "max_height": null,
            "max_width": null,
            "min_height": null,
            "min_width": null,
            "object_fit": null,
            "object_position": null,
            "order": null,
            "overflow": null,
            "overflow_x": null,
            "overflow_y": null,
            "padding": null,
            "right": null,
            "top": null,
            "visibility": null,
            "width": null
          }
        },
        "7109a1f5ff2740c78eec9a009d8377ed": {
          "model_module": "@jupyter-widgets/base",
          "model_name": "LayoutModel",
          "model_module_version": "1.2.0",
          "state": {
            "_model_module": "@jupyter-widgets/base",
            "_model_module_version": "1.2.0",
            "_model_name": "LayoutModel",
            "_view_count": null,
            "_view_module": "@jupyter-widgets/base",
            "_view_module_version": "1.2.0",
            "_view_name": "LayoutView",
            "align_content": null,
            "align_items": null,
            "align_self": null,
            "border": null,
            "bottom": null,
            "display": null,
            "flex": null,
            "flex_flow": null,
            "grid_area": null,
            "grid_auto_columns": null,
            "grid_auto_flow": null,
            "grid_auto_rows": null,
            "grid_column": null,
            "grid_gap": null,
            "grid_row": null,
            "grid_template_areas": null,
            "grid_template_columns": null,
            "grid_template_rows": null,
            "height": null,
            "justify_content": null,
            "justify_items": null,
            "left": null,
            "margin": null,
            "max_height": null,
            "max_width": null,
            "min_height": null,
            "min_width": null,
            "object_fit": null,
            "object_position": null,
            "order": null,
            "overflow": null,
            "overflow_x": null,
            "overflow_y": null,
            "padding": null,
            "right": null,
            "top": null,
            "visibility": null,
            "width": null
          }
        },
        "160e1fe034e64df490eee14244f7a29c": {
          "model_module": "@jupyter-widgets/controls",
          "model_name": "DescriptionStyleModel",
          "model_module_version": "1.5.0",
          "state": {
            "_model_module": "@jupyter-widgets/controls",
            "_model_module_version": "1.5.0",
            "_model_name": "DescriptionStyleModel",
            "_view_count": null,
            "_view_module": "@jupyter-widgets/base",
            "_view_module_version": "1.2.0",
            "_view_name": "StyleView",
            "description_width": ""
          }
        },
        "6bc3d8bb6ed244fd8a803ab5d5a0302d": {
          "model_module": "@jupyter-widgets/base",
          "model_name": "LayoutModel",
          "model_module_version": "1.2.0",
          "state": {
            "_model_module": "@jupyter-widgets/base",
            "_model_module_version": "1.2.0",
            "_model_name": "LayoutModel",
            "_view_count": null,
            "_view_module": "@jupyter-widgets/base",
            "_view_module_version": "1.2.0",
            "_view_name": "LayoutView",
            "align_content": null,
            "align_items": null,
            "align_self": null,
            "border": null,
            "bottom": null,
            "display": null,
            "flex": null,
            "flex_flow": null,
            "grid_area": null,
            "grid_auto_columns": null,
            "grid_auto_flow": null,
            "grid_auto_rows": null,
            "grid_column": null,
            "grid_gap": null,
            "grid_row": null,
            "grid_template_areas": null,
            "grid_template_columns": null,
            "grid_template_rows": null,
            "height": null,
            "justify_content": null,
            "justify_items": null,
            "left": null,
            "margin": null,
            "max_height": null,
            "max_width": null,
            "min_height": null,
            "min_width": null,
            "object_fit": null,
            "object_position": null,
            "order": null,
            "overflow": null,
            "overflow_x": null,
            "overflow_y": null,
            "padding": null,
            "right": null,
            "top": null,
            "visibility": null,
            "width": null
          }
        },
        "dceda685cf0a415f9a2ba62ea536e8f0": {
          "model_module": "@jupyter-widgets/controls",
          "model_name": "ProgressStyleModel",
          "model_module_version": "1.5.0",
          "state": {
            "_model_module": "@jupyter-widgets/controls",
            "_model_module_version": "1.5.0",
            "_model_name": "ProgressStyleModel",
            "_view_count": null,
            "_view_module": "@jupyter-widgets/base",
            "_view_module_version": "1.2.0",
            "_view_name": "StyleView",
            "bar_color": null,
            "description_width": ""
          }
        },
        "477fcc3d0c3b43a18eda5a283c6b8008": {
          "model_module": "@jupyter-widgets/base",
          "model_name": "LayoutModel",
          "model_module_version": "1.2.0",
          "state": {
            "_model_module": "@jupyter-widgets/base",
            "_model_module_version": "1.2.0",
            "_model_name": "LayoutModel",
            "_view_count": null,
            "_view_module": "@jupyter-widgets/base",
            "_view_module_version": "1.2.0",
            "_view_name": "LayoutView",
            "align_content": null,
            "align_items": null,
            "align_self": null,
            "border": null,
            "bottom": null,
            "display": null,
            "flex": null,
            "flex_flow": null,
            "grid_area": null,
            "grid_auto_columns": null,
            "grid_auto_flow": null,
            "grid_auto_rows": null,
            "grid_column": null,
            "grid_gap": null,
            "grid_row": null,
            "grid_template_areas": null,
            "grid_template_columns": null,
            "grid_template_rows": null,
            "height": null,
            "justify_content": null,
            "justify_items": null,
            "left": null,
            "margin": null,
            "max_height": null,
            "max_width": null,
            "min_height": null,
            "min_width": null,
            "object_fit": null,
            "object_position": null,
            "order": null,
            "overflow": null,
            "overflow_x": null,
            "overflow_y": null,
            "padding": null,
            "right": null,
            "top": null,
            "visibility": null,
            "width": null
          }
        },
        "489877a3e41b477c811d3d198b8e1f9b": {
          "model_module": "@jupyter-widgets/controls",
          "model_name": "DescriptionStyleModel",
          "model_module_version": "1.5.0",
          "state": {
            "_model_module": "@jupyter-widgets/controls",
            "_model_module_version": "1.5.0",
            "_model_name": "DescriptionStyleModel",
            "_view_count": null,
            "_view_module": "@jupyter-widgets/base",
            "_view_module_version": "1.2.0",
            "_view_name": "StyleView",
            "description_width": ""
          }
        }
      }
    }
  },
  "nbformat": 4,
  "nbformat_minor": 5
}