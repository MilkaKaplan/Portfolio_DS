{
  "nbformat": 4,
  "nbformat_minor": 0,
  "metadata": {
    "colab": {
      "provenance": []
    },
    "kernelspec": {
      "name": "python3",
      "display_name": "Python 3"
    },
    "language_info": {
      "name": "python"
    }
  },
  "cells": [
    {
      "cell_type": "code",
      "execution_count": 1,
      "metadata": {
        "id": "TKiijqCpVTkH"
      },
      "outputs": [],
      "source": [
        "!pip install gspread oauth2client wordcloud matplotlib --quiet\n",
        "\n",
        "import pandas as pd\n",
        "import matplotlib.pyplot as plt\n",
        "from wordcloud import WordCloud, STOPWORDS\n",
        "import gspread\n",
        "from oauth2client.service_account import ServiceAccountCredentials\n",
        "import time\n",
        "import re\n",
        "from IPython.display import clear_output\n",
        "\n"
      ]
    },
    {
      "cell_type": "code",
      "source": [
        "import json\n",
        "\n",
        "with open(\"credentials.json\") as f:\n",
        "    creds = json.load(f)\n",
        "    print(\"Email service account:\", creds[\"client_email\"])"
      ],
      "metadata": {
        "colab": {
          "base_uri": "https://localhost:8080/"
        },
        "id": "Xb0wX-DeZt8d",
        "outputId": "4e33fa76-c4d9-488f-e5a4-eead7d78eabb"
      },
      "execution_count": 2,
      "outputs": [
        {
          "output_type": "stream",
          "name": "stdout",
          "text": [
            "Email service account: wordcloud-service@wordcloud-455309.iam.gserviceaccount.com\n"
          ]
        }
      ]
    },
    {
      "cell_type": "code",
      "source": [
        "#\n",
        "# https://console.cloud.google.com/apis/credentials → Service Account Key → JSON\n",
        "# `credentials.json`\n",
        "\n",
        "scope = [\"https://spreadsheets.google.com/feeds\", \"https://www.googleapis.com/auth/drive\"]\n",
        "creds = ServiceAccountCredentials.from_json_keyfile_name(\"credentials.json\", scope)\n",
        "client = gspread.authorize(creds)\n",
        "\n",
        "# 🔗 Table\n",
        "spreadsheet_url = \"https://docs.google.com/spreadsheets/d/1Sw5-evFZCtmEUygScHljHp3y4B7Gxh-pw2Izu-cK0Kg/edit?resourcekey#gid=1732050705\"\n",
        "sheet = client.open_by_url(spreadsheet_url).sheet1\n",
        "\n",
        "# 🔁 Update\n",
        "while True:\n",
        "    clear_output(wait=True)\n",
        "    data = sheet.get_all_records()\n",
        "    df = pd.DataFrame(data)\n",
        "\n",
        "    if df.empty:\n",
        "        print(\"Waiting responses...\")\n",
        "    else:\n",
        "        text_data = df.iloc[:, 1:].astype(str).values.flatten()\n",
        "        text = ' '.join(text_data).strip()\n",
        "        words = re.findall(r'\\b\\w+\\b', text)\n",
        "        cleaned_words = [word for word in words if word.lower() not in STOPWORDS and word.isalpha()]\n",
        "\n",
        "\n",
        "        if not cleaned_words:\n",
        "          print(\" Form is ready, but is no sutable words for cloud\")\n",
        "\n",
        "        else:\n",
        "          cleaned_text = ' '.join(cleaned_words)\n",
        "          wordcloud = WordCloud(width=800, height=400, background_color='white', colormap='viridis').generate(cleaned_text)\n",
        "\n",
        "          plt.figure(figsize=(12, 6))\n",
        "          plt.imshow(wordcloud, interpolation='bilinear')\n",
        "          plt.axis(\"off\")\n",
        "          plt.title(\"Word cloud: AI\")\n",
        "          plt.show()\n",
        "\n",
        "    time.sleep(10)"
      ],
      "metadata": {
        "colab": {
          "base_uri": "https://localhost:8080/"
        },
        "id": "9zyYlVD_VYoz",
        "outputId": "5ac7f839-9c06-4f7d-d13d-fc10a8a0ab6f"
      },
      "execution_count": null,
      "outputs": [
        {
          "output_type": "stream",
          "name": "stdout",
          "text": [
            "Waiting responses...\n"
          ]
        }
      ]
    }
  ]
}