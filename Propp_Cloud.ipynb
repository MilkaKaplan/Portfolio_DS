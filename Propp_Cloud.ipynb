{
  "cells": [
    {
      "cell_type": "markdown",
      "metadata": {
        "id": "Gwei4Y-SJNER"
      },
      "source": [
        "1. Let's clear the text from stop words"
      ]
    },
    {
      "cell_type": "code",
      "execution_count": null,
      "metadata": {
        "id": "G0qlEqFPF7qL"
      },
      "outputs": [],
      "source": [
        "from pathlib import Path\n",
        "from textblob import TextBlob\n"
      ]
    },
    {
      "cell_type": "code",
      "execution_count": null,
      "metadata": {
        "id": "IstgvC8Co9BI",
        "colab": {
          "base_uri": "https://localhost:8080/"
        },
        "outputId": "89027f8b-bf20-42b4-8a2c-90ad3dd44ff5"
      },
      "outputs": [
        {
          "output_type": "stream",
          "name": "stdout",
          "text": [
            "Drive already mounted at /content/gdrive; to attempt to forcibly remount, call drive.mount(\"/content/gdrive\", force_remount=True).\n"
          ]
        }
      ],
      "source": [
        "from google.colab import drive\n",
        "drive.mount('/content/gdrive')"
      ]
    },
    {
      "cell_type": "code",
      "execution_count": null,
      "metadata": {
        "id": "ufIQtP8Ip0Q4"
      },
      "outputs": [],
      "source": [
        "! touch \"/content/gdrive/My Drive/Propp/Proppfunc.txt\""
      ]
    },
    {
      "cell_type": "code",
      "execution_count": null,
      "metadata": {
        "id": "Ni1Y7xeLIPH5"
      },
      "outputs": [],
      "source": [
        "blob = TextBlob(Path('/content/gdrive/My Drive/Propp/Proppfunc.txt').read_text())"
      ]
    },
    {
      "cell_type": "code",
      "execution_count": null,
      "metadata": {
        "colab": {
          "base_uri": "https://localhost:8080/"
        },
        "id": "T70Xc8tGISu-",
        "outputId": "0f9a9c02-ee07-46f2-fe23-bb4f0fc4da9d"
      },
      "outputs": [
        {
          "output_type": "stream",
          "name": "stderr",
          "text": [
            "[nltk_data] Downloading package punkt to /root/nltk_data...\n",
            "[nltk_data]   Package punkt is already up-to-date!\n",
            "[nltk_data] Downloading package stopwords to /root/nltk_data...\n",
            "[nltk_data]   Package stopwords is already up-to-date!\n"
          ]
        }
      ],
      "source": [
        "import nltk\n",
        "nltk.download('punkt')\n",
        "nltk.download('stopwords')\n",
        "from nltk.corpus import stopwords\n",
        "stop_words = stopwords.words('english')"
      ]
    },
    {
      "cell_type": "markdown",
      "metadata": {
        "id": "el1dvdwuJR2S"
      },
      "source": [
        "2. Creating a set of top 10 functions in the text"
      ]
    },
    {
      "cell_type": "code",
      "execution_count": null,
      "metadata": {
        "id": "YJzdk-_UJpiU"
      },
      "outputs": [],
      "source": [
        "items = blob.word_counts.items()\n",
        "items = [item for item in items if item [0] not in stop_words]\n",
        "from operator import itemgetter\n",
        "sorted_items = sorted(items, key=itemgetter(1), reverse=True)\n",
        "top10 = sorted_items[1:11]"
      ]
    },
    {
      "cell_type": "markdown",
      "metadata": {
        "id": "er_LI5WULIQk"
      },
      "source": [
        "3. Creating a dataframe of stop 10 functions in the text"
      ]
    },
    {
      "cell_type": "code",
      "execution_count": null,
      "metadata": {
        "id": "fQZcsqdULJj0"
      },
      "outputs": [],
      "source": [
        "import pandas as pd\n",
        "df = pd.DataFrame (top10, columns=['word', 'count'])"
      ]
    },
    {
      "cell_type": "markdown",
      "metadata": {
        "id": "ivJ_jZthLnbi"
      },
      "source": [
        "4. Creating a histogram (listing)"
      ]
    },
    {
      "cell_type": "code",
      "execution_count": null,
      "metadata": {
        "colab": {
          "base_uri": "https://localhost:8080/",
          "height": 487
        },
        "id": "sWEjDarWLov2",
        "outputId": "73a1772c-b28e-4268-c178-764f5e39be4b"
      },
      "outputs": [
        {
          "output_type": "display_data",
          "data": {
            "text/plain": [
              "<Figure size 640x480 with 1 Axes>"
            ],
            "image/png": "[encoded data removed]"
          },
          "metadata": {}
        }
      ],
      "source": [
        "%matplotlib inline\n",
        "axes = df.plot.bar(x='word', y='count', legend=False)\n",
        "import matplotlib.pyplot as plt\n",
        "plt.gcf().tight_layout()"
      ]
    },
    {
      "cell_type": "markdown",
      "metadata": {
        "id": "1HrAq1vGMfn8"
      },
      "source": [
        "5. Creating a dictionary cloud (listing)"
      ]
    },
    {
      "cell_type": "code",
      "execution_count": null,
      "metadata": {
        "id": "HvAXorg-Mg09"
      },
      "outputs": [],
      "source": [
        "from pathlib import Path\n",
        "text = Path('/content/gdrive/My Drive/Propp/Proppfunc.txt').read_text()\n",
        "import imageio"
      ]
    },
    {
      "cell_type": "code",
      "source": [
        "# mask for creating a cloud\n",
        "mask_image = imageio.imread('/content/gdrive/My Drive/Propp/mask.jpeg')\n",
        "\n",
        "from wordcloud import WordCloud\n",
        "wordcloud = WordCloud(width=1000, height=1000, colormap='prism', mask=mask_image, stopwords=stop_words, max_words= 10, background_color='white')\n",
        "wordcloud = wordcloud.generate(text)\n",
        "wordcloud = wordcloud.to_file('/content/gdrive/My Drive/Propp/mask_2.jpeg')\n"
      ],
      "metadata": {
        "colab": {
          "base_uri": "https://localhost:8080/"
        },
        "id": "vTQo5vbTaUpu",
        "outputId": "95af659c-147b-4389-8cdd-039de91ddd41"
      },
      "execution_count": null,
      "outputs": [
        {
          "output_type": "stream",
          "name": "stderr",
          "text": [
            "<ipython-input-89-42c98c4477b1>:2: DeprecationWarning: Starting with ImageIO v3 the behavior of this function will switch to that of iio.v3.imread. To keep the current behavior (and make this warning disappear) use `import imageio.v2 as imageio` or call `imageio.v2.imread` directly.\n",
            "  mask_image = imageio.imread('/content/gdrive/My Drive/Propp/mask.jpeg')\n"
          ]
        }
      ]
    },
    {
      "cell_type": "markdown",
      "metadata": {
        "id": "3iJh9zS0vhZ4"
      },
      "source": []
    }
  ],
  "metadata": {
    "colab": {
      "provenance": []
    },
    "kernelspec": {
      "display_name": "Python 3",
      "name": "python3"
    },
    "language_info": {
      "name": "python"
    }
  },
  "nbformat": 4,
  "nbformat_minor": 0
}