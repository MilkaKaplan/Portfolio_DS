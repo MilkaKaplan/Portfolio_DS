{
  "cells": [
    {
      "cell_type": "code",
      "execution_count": null,
      "metadata": {
        "id": "hIl4h1mBwspl"
      },
      "outputs": [],
      "source": []
    },
    {
      "cell_type": "markdown",
      "metadata": {
        "id": "WhOVAb8-xkPD"
      },
      "source": [
        "Данная работа посвящена отработке навыков использования методов эмбединга узлов графа, на примере социального графа, полученного из социальной сети. Социальный граф, который используется для отработки, представляет участников ЛОКАЛЬНОГО (регионального) спортивного сообщества с открытым входом, это значит, что в данное сообщество могли вступать любые пользователи социальной сети.\n",
        "\n",
        "Социальный граф предварительно был очищен от случайных пользователей. Разметка пользователей сделана по ролям: Организатор, тренер, Спортмен-pro (проф. спортсмен), Спортсмен-любитель, Активный участник, спортсмен из другого региона.\n",
        "____\n",
        "This work is devoted to the development of skills in using **embedding methods** of graph nodes, using the example of a social graph obtained from a social network. The social graph, which is used for testing, represents the participants of the LOCAL (regional) sports community with an open entrance, which means that any users of the social network could join this community.\n",
        "\n",
        "The social graph was previously cleared of random users. The user markup is made by roles: Organizer, coach, Sportman-pro (prof. athlete), Amateur athlete, Active participant, athlete from another region."
      ]
    },
    {
      "cell_type": "code",
      "execution_count": null,
      "metadata": {
        "id": "jmbPHZkSyEke"
      },
      "outputs": [],
      "source": [
        "#connecting libraries\n",
        "import networkx #graph\n",
        "\n",
        "import random\n",
        "from random import randint\n",
        "\n",
        "from gensim.models import Word2Vec #word2vec\n",
        "import warnings\n",
        "\n",
        "#dimensionality reduction for visualization\n",
        "from sklearn.manifold import TSNE\n",
        "from sklearn.decomposition import PCA\n",
        "import matplotlib.pyplot as plt\n",
        "%matplotlib inline\n"
      ]
    },
    {
      "cell_type": "code",
      "execution_count": null,
      "metadata": {
        "id": "t67q6CB70zQK"
      },
      "outputs": [],
      "source": [
        "#file upload\n",
        "from google.colab import files\n",
        "uploaded = files.upload()\n",
        "#the data from the file is converted into a graph\n",
        "G = networkx.readwrite.graphml.read_graphml(\"Filtered_graph.graphml\")\n",
        "G"
      ]
    },
    {
      "cell_type": "markdown",
      "metadata": {
        "id": "u_bmofhQ4-Go"
      },
      "source": [
        "**1.** Visualize the graph (gephi/cytoscape package). \n",
        "\n",
        "**2.** Estimation of the main parameters of graph nodes - centrality metrics, diameter, density, page rank, modularity. \n",
        "\n",
        "**3.** Coloring of graph nodes by modularity. \n",
        "\n",
        "**4.** Defining groups within a community by modularity"
      ]
    },
    {
      "cell_type": "markdown",
      "metadata": {
        "id": "ahM-9zSc61b7"
      },
      "source": [
        "**Step 1**\n",
        "\n",
        "We define a **function** that performs random walks on the graph G. \n",
        "\n",
        "The parameters are passed, the ID of the starting node, and the length of the list of random walks, \n",
        "\n",
        "G - graph\n",
        "\n",
        "node - id of the starting node\n",
        "\n",
        "t is the number of steps in each walk.\n",
        "\n",
        "The output of the function is an array consisting of chains (arrays) of random walks."
      ]
    },
    {
      "cell_type": "code",
      "execution_count": null,
      "metadata": {
        "id": "EFsw-Bqa5Mx2"
      },
      "outputs": [],
      "source": [
        "# path_lengh - corresponds to the parameter t\n",
        "def get_randomwalk(G, node, t):\n",
        "    \n",
        "    random_walk = [node]\n",
        "    #print ('Start with the node', random_walk)\n",
        "    for i in range(t -1):\n",
        "        temp = list(G.neighbors(node))\n",
        "        # print('Neighbors', temp)\n",
        "        temp = list(set(temp) - set(random_walk))    \n",
        "        if len(temp) == 0:\n",
        "            break\n",
        "\n",
        "        random_node = random.choice(temp)\n",
        "        random_walk.append(random_node)\n",
        "        node = random_node\n",
        "        \n",
        "    return random_walk"
      ]
    },
    {
      "cell_type": "markdown",
      "metadata": {
        "id": "YH7h8pT253an"
      },
      "source": [
        "Next, we implement a given number of random walks for each node of the graph. \n",
        "\n",
        "This number is set in the gamma variable.\n",
        "\n",
        "tqdm to track the progress of the cycle."
      ]
    },
    {
      "cell_type": "code",
      "execution_count": null,
      "metadata": {
        "colab": {
          "base_uri": "https://localhost:8080/",
          "height": 248
        },
        "id": "6cCwNSBZ7nUY",
        "outputId": "e8e4d7f0-a235-4c53-a295-88c0260fc87b"
      },
      "outputs": [
        {
          "ename": "NameError",
          "evalue": "ignored",
          "output_type": "error",
          "traceback": [
            "\u001b[0;31m---------------------------------------------------------------------------\u001b[0m",
            "\u001b[0;31mNameError\u001b[0m                                 Traceback (most recent call last)",
            "\u001b[0;32m<ipython-input-2-d71022238217>\u001b[0m in \u001b[0;36m<module>\u001b[0;34m\u001b[0m\n\u001b[1;32m      2\u001b[0m \u001b[0;32mimport\u001b[0m \u001b[0mrandom\u001b[0m\u001b[0;34m\u001b[0m\u001b[0;34m\u001b[0m\u001b[0m\n\u001b[1;32m      3\u001b[0m \u001b[0;34m\u001b[0m\u001b[0m\n\u001b[0;32m----> 4\u001b[0;31m \u001b[0mall_nodes\u001b[0m \u001b[0;34m=\u001b[0m \u001b[0mlist\u001b[0m\u001b[0;34m(\u001b[0m\u001b[0mG\u001b[0m\u001b[0;34m.\u001b[0m\u001b[0mnodes\u001b[0m\u001b[0;34m(\u001b[0m\u001b[0;34m)\u001b[0m\u001b[0;34m)\u001b[0m\u001b[0;34m\u001b[0m\u001b[0;34m\u001b[0m\u001b[0m\n\u001b[0m\u001b[1;32m      5\u001b[0m \u001b[0mgamma\u001b[0m \u001b[0;34m=\u001b[0m \u001b[0;36m80\u001b[0m\u001b[0;34m\u001b[0m\u001b[0;34m\u001b[0m\u001b[0m\n\u001b[1;32m      6\u001b[0m \u001b[0mt\u001b[0m \u001b[0;34m=\u001b[0m \u001b[0;36m80\u001b[0m\u001b[0;34m\u001b[0m\u001b[0;34m\u001b[0m\u001b[0m\n",
            "\u001b[0;31mNameError\u001b[0m: name 'G' is not defined"
          ]
        }
      ],
      "source": [
        "from tqdm import tqdm \n",
        "import random \n",
        "\n",
        "all_nodes = list(G.nodes())\n",
        "gamma = 80\n",
        "t = 80\n",
        "random_walks = []\n",
        "for n in tqdm(all_nodes):\n",
        "  for i in range (gamma):\n",
        "    random_walks.append(get_randomwalk(G, n, t))\n",
        "\n",
        "#count random walks\n",
        "len(random_walks)"
      ]
    },
    {
      "cell_type": "markdown",
      "metadata": {
        "id": "BkEOLI0_7IUg"
      },
      "source": [
        "Next, we will train the algorithm on the formed chains of random walks. \n",
        "\n",
        "word2vec method to do this, we use the algorithm already implemented in the gensim library. \n",
        "\n",
        " Function Parameters:\n",
        "\n",
        " window - window size\n",
        "\n",
        " sg = 1 - this means the skipgrapm model will be used\n",
        "\n",
        "\n",
        "hs {0, 1}, optional parameter) – If 1, hierarchical softmax will be used, if 0 - negative sampling.\n",
        "\n",
        "alpha - initial(start) value;\n",
        "\n",
        "min_alpha - algorithm stop condition;\n",
        "\n",
        "seed - random seed. (value 14 when doing work)"
      ]
    },
    {
      "cell_type": "code",
      "execution_count": null,
      "metadata": {
        "colab": {
          "background_save": true
        },
        "id": "x5h9eTaEA-MC"
      },
      "outputs": [],
      "source": [
        "from gensim.models import Word2Vec\n",
        "import warnings\n",
        "warnings.filterwarnings('ignore')"
      ]
    },
    {
      "cell_type": "code",
      "execution_count": null,
      "metadata": {
        "colab": {
          "background_save": true,
          "base_uri": "https://localhost:8080/"
        },
        "id": "eAlgtmy4A-V5",
        "outputId": "71ea3a1c-5f5f-463b-ed45-6045d3a69aff"
      },
      "outputs": [
        {
          "data": {
            "text/plain": [
              "(20635, 86100)"
            ]
          },
          "execution_count": 8,
          "metadata": {},
          "output_type": "execute_result"
        }
      ],
      "source": [
        "model = Word2Vec(window = 10, sg = 1, hs = 0, batch_words=3000,\n",
        "                 negative = 10, #for negative sampling\n",
        "                 alpha=0.03, min_alpha=0.005,\n",
        "                 seed = 14)\n",
        "\n",
        "model.build_vocab(random_walks, progress_per=2)\n",
        "\n",
        "model.train(random_walks, total_examples = model.corpus_count, epochs=3, report_delay=1)"
      ]
    },
    {
      "cell_type": "code",
      "execution_count": null,
      "metadata": {
        "colab": {
          "base_uri": "https://localhost:8080/"
        },
        "id": "JvFHVg4yA-b9",
        "outputId": "bcf6e4bc-3685-4211-d33b-329e76527519"
      },
      "outputs": [
        {
          "data": {
            "text/plain": [
              "array([[-9.14424658e-03,  1.63128331e-01, -1.77658170e-01, ...,\n",
              "        -5.45452200e-02, -4.90961969e-02,  4.75132726e-02],\n",
              "       [ 8.53980018e-05,  1.40428811e-01, -1.34489611e-01, ...,\n",
              "        -3.21474075e-02, -5.17409593e-02,  6.07034117e-02],\n",
              "       [-1.28238695e-02,  1.35084897e-01, -1.27137467e-01, ...,\n",
              "        -1.62618831e-02, -4.16153520e-02,  3.10536399e-02],\n",
              "       ...,\n",
              "       [-1.52232638e-02,  4.39340696e-02, -1.15499772e-01, ...,\n",
              "         2.74484921e-02,  3.07556894e-02, -6.30137101e-02],\n",
              "       [-1.78411473e-02,  3.85010019e-02, -1.07908867e-01, ...,\n",
              "         4.24115136e-02,  3.02005298e-02, -7.45572001e-02],\n",
              "       [-1.83634423e-02,  1.18662929e-02, -1.01608701e-01, ...,\n",
              "         5.52928969e-02,  3.87490839e-02, -9.01922286e-02]], dtype=float32)"
            ]
          },
          "execution_count": 48,
          "metadata": {},
          "output_type": "execute_result"
        }
      ],
      "source": [
        "model[model.wv.vocab] #embeddings"
      ]
    },
    {
      "cell_type": "markdown",
      "metadata": {
        "id": "77mqtxl_Giqu"
      },
      "source": [
        "We output embeds of nodes of the graph"
      ]
    },
    {
      "cell_type": "code",
      "execution_count": null,
      "metadata": {
        "colab": {
          "base_uri": "https://localhost:8080/"
        },
        "id": "rOps722DA-ev",
        "outputId": "2bbc24ba-1496-400a-e368-f86dbd65c45c"
      },
      "outputs": [
        {
          "data": {
            "text/plain": [
              "{'0': <gensim.models.keyedvectors.Vocab at 0x7fed47e81190>,\n",
              " '8': <gensim.models.keyedvectors.Vocab at 0x7fed4f2f2b10>,\n",
              " '10': <gensim.models.keyedvectors.Vocab at 0x7fed4f2eb290>,\n",
              " '7': <gensim.models.keyedvectors.Vocab at 0x7fed4f304810>,\n",
              " '9': <gensim.models.keyedvectors.Vocab at 0x7fed4f3045d0>,\n",
              " '5': <gensim.models.keyedvectors.Vocab at 0x7fed4f304250>,\n",
              " '23': <gensim.models.keyedvectors.Vocab at 0x7fed4f304ed0>,\n",
              " '26': <gensim.models.keyedvectors.Vocab at 0x7fed47e7efd0>,\n",
              " '25': <gensim.models.keyedvectors.Vocab at 0x7fed4f304310>,\n",
              " '24': <gensim.models.keyedvectors.Vocab at 0x7fed4f304910>,\n",
              " '27': <gensim.models.keyedvectors.Vocab at 0x7fed47e7ef90>,\n",
              " '22': <gensim.models.keyedvectors.Vocab at 0x7fed47e7ef50>,\n",
              " '1': <gensim.models.keyedvectors.Vocab at 0x7fed47e7eed0>,\n",
              " '17': <gensim.models.keyedvectors.Vocab at 0x7fed47e7ee10>,\n",
              " '21': <gensim.models.keyedvectors.Vocab at 0x7fed47e7edd0>,\n",
              " '18': <gensim.models.keyedvectors.Vocab at 0x7fed47e7ee50>,\n",
              " '20': <gensim.models.keyedvectors.Vocab at 0x7fed47e7ee90>,\n",
              " '19': <gensim.models.keyedvectors.Vocab at 0x7fed47e7ed50>,\n",
              " '6': <gensim.models.keyedvectors.Vocab at 0x7fed47e7ec50>,\n",
              " '4': <gensim.models.keyedvectors.Vocab at 0x7fed47e7ecd0>,\n",
              " '2': <gensim.models.keyedvectors.Vocab at 0x7fed47e7ec90>,\n",
              " '34': <gensim.models.keyedvectors.Vocab at 0x7fed47e7ed10>,\n",
              " '32': <gensim.models.keyedvectors.Vocab at 0x7fed47e7ebd0>,\n",
              " '30': <gensim.models.keyedvectors.Vocab at 0x7fed47e7ead0>,\n",
              " '28': <gensim.models.keyedvectors.Vocab at 0x7fed47e7eb10>,\n",
              " '29': <gensim.models.keyedvectors.Vocab at 0x7fed47e7eb50>,\n",
              " '38': <gensim.models.keyedvectors.Vocab at 0x7fed47e7ea50>,\n",
              " '14': <gensim.models.keyedvectors.Vocab at 0x7fed47e7eb90>,\n",
              " '13': <gensim.models.keyedvectors.Vocab at 0x7fed47e7e950>,\n",
              " '15': <gensim.models.keyedvectors.Vocab at 0x7fed47e7e9d0>,\n",
              " '12': <gensim.models.keyedvectors.Vocab at 0x7fed47e7e990>,\n",
              " '16': <gensim.models.keyedvectors.Vocab at 0x7fed47e7ea10>,\n",
              " '11': <gensim.models.keyedvectors.Vocab at 0x7fed47e7e8d0>,\n",
              " '33': <gensim.models.keyedvectors.Vocab at 0x7fed47e7e7d0>,\n",
              " '40': <gensim.models.keyedvectors.Vocab at 0x7fed47e7e850>,\n",
              " '3': <gensim.models.keyedvectors.Vocab at 0x7fed47e7e810>,\n",
              " '36': <gensim.models.keyedvectors.Vocab at 0x7fed47e7e750>,\n",
              " '35': <gensim.models.keyedvectors.Vocab at 0x7fed47e7e650>,\n",
              " '31': <gensim.models.keyedvectors.Vocab at 0x7fed47e7e890>,\n",
              " '39': <gensim.models.keyedvectors.Vocab at 0x7fed47e7e6d0>,\n",
              " '37': <gensim.models.keyedvectors.Vocab at 0x7fed47e7e690>}"
            ]
          },
          "execution_count": 49,
          "metadata": {},
          "output_type": "execute_result"
        }
      ],
      "source": [
        "import numpy as np\n",
        "X = model[model.wv.vocab] #embeddings\n",
        "model.wv.vocab #the keys themselves are node numbers"
      ]
    },
    {
      "cell_type": "markdown",
      "metadata": {
        "id": "oFdr3HAnHtK2"
      },
      "source": [
        "In order to visually evaluate the result - use the methods of reducing the dimensions of PCA and T-SNE. \n",
        "\n",
        "Naturally, when the number of measurements is reduced to 2x, information is lost, but using these methods is a good way to evaluate the results if necessary."
      ]
    },
    {
      "cell_type": "code",
      "execution_count": null,
      "metadata": {
        "id": "_jahRokbHZXJ"
      },
      "outputs": [],
      "source": [
        "# libraries\n",
        "#from random import randint\n",
        "#from sklearn.manifold import TSNE\n",
        "\n",
        "# ----- Function Parameters -----------------------\n",
        "#labels - cluster labels\n",
        "#node_list- ids of graph nodes list\n",
        "#X_embedding - feature description of each object (matrix) \n",
        "#annotate - whether to display the signatures of node names on the graph\n",
        "#annotate_labes  - dictionary with node names\n",
        "def plot_nodes(node_list, X_embedding, labels = [], annotate = False, annotate_labes = {}):\n",
        "    X = X_embedding\n",
        "\n",
        "    #цвет, при отсутствии меток кластера\n",
        "    colors = ['#6495ED' for i in node_list]\n",
        "    map={}\n",
        "    #если метки кластера в наличии, то случайно выбираем цвета\n",
        "    if len(labels) != 0:\n",
        "       for i in set(labels):\n",
        "         map[i]='#%06X' % randint(0, 0xFFFFFF)\n",
        "       colors = [map[i] for i in labels]\n",
        "    \n",
        "    # we reduce the dimension to 2x\n",
        "    pca = PCA(n_components=2)\n",
        "    result = pca.fit_transform(X)\n",
        "    \n",
        "\n",
        "    \n",
        "    plt.figure(figsize=(6,3))\n",
        "    # create a scatter plot of the projection\n",
        "\n",
        "    plt.scatter(result[:, 0], result[:, 1],  c=colors)\n",
        "    for i, node in enumerate(node_list):\n",
        "         if (annotate_labes[node] !='-' and annotate ==True):\n",
        "          plt.annotate(annotate_labes[node], xy=(result[i, 0], result[i, 1]))\n",
        "    \n",
        "    plt.show()\n",
        " "
      ]
    },
    {
      "cell_type": "code",
      "execution_count": null,
      "metadata": {
        "id": "cU23sRdiHZfu"
      },
      "outputs": [],
      "source": [
        "def plot_TSNE_nodes(node_list, X_embedding, labels = [], annotate = False, annotate_labes = {}):\n",
        "\n",
        "    colors = ['#6495ED' for i in node_list]\n",
        "    map={}\n",
        "    if len(labels) != 0:\n",
        "      for i in set(labels):\n",
        "         map[i]='#%06X' % randint(0, 0xFFFFFF)\n",
        "      colors = [map[i] for i in labels]\n",
        "    X = X_embedding\n",
        "\n",
        "    tsne = TSNE(n_components=2, verbose=0, perplexity=7)\n",
        "    tsne_results = tsne.fit_transform(X)\n",
        "\n",
        "    plt.figure(figsize=(9,6))\n",
        "    # create a scatter plot of the projection\n",
        "    plt.scatter(tsne_results[:, 0], tsne_results[:, 1], c = colors)\n",
        "    for i, node in enumerate(node_list):\n",
        "        if (annotate_labes[node] !='-' and annotate ==True):\n",
        "          plt.annotate(annotate_labes[node], xy=(tsne_results[i, 0], tsne_results[i, 1]))\n",
        "    plt.show()"
      ]
    },
    {
      "cell_type": "code",
      "execution_count": null,
      "metadata": {
        "id": "P4tav5iuHZim"
      },
      "outputs": [],
      "source": [
        "#### BOTH GRAPHS ARE FOR COMPARISON ---------------------------\n",
        "def plot_TSNE_PCA_nodes(node_list, X_embedding, labels = [], annotate = False, annotate_labes = {}):\n",
        "\n",
        "    colors = ['#6495ED' for i in node_list]\n",
        "    map={}\n",
        "    if len(labels) != 0:\n",
        "      for i in set(labels):\n",
        "         map[i]='#%06X' % randint(0, 0xFFFFFF)\n",
        "      colors = [map[i] for i in labels]\n",
        "    X = X_embedding\n",
        "    tsne = TSNE(n_components=2, verbose=0, perplexity=7)\n",
        "    #perpexity\tThe degree of chaos, which indicates how many neighboring points are taken into account when optimizing t-SNE,\n",
        "    # 30 by default, and the recommended value is from 5 to 50\n",
        "    tsne_results = tsne.fit_transform(X)\n",
        "\n",
        "    pca = PCA(n_components=2)\n",
        "    pca_result = pca.fit_transform(X)\n",
        "    \n",
        "    f, ax = plt.subplots(1, 2, figsize=(10, 5))\n",
        "    ax[0].scatter(pca_result[:, 0], pca_result[:, 1],  c=colors)\n",
        "    ax[0].set_title('PCA Cluster Plot')\n",
        "\n",
        "    ax[1].scatter(tsne_results[:, 0], tsne_results[:, 1], c = colors)\n",
        "    ax[1].set_title('TSNE Cluster Plot') \n",
        "    plt.show()"
      ]
    },
    {
      "cell_type": "code",
      "execution_count": null,
      "metadata": {
        "colab": {
          "base_uri": "https://localhost:8080/"
        },
        "id": "nomWrRdQHZnR",
        "outputId": "3428086d-8bf2-438d-9241-2accddd0b12f"
      },
      "outputs": [
        {
          "data": {
            "text/plain": [
              "{'0': 'Главный тренер-группа pro',\n",
              " '1': 'Тренер - группа любители, организатор 1',\n",
              " '2': 'Организатор 2',\n",
              " '3': 'Организатор 3(Дох)',\n",
              " '4': 'Спортивный врач-физиотерапевт',\n",
              " '5': 'Спортсмен-pro-1',\n",
              " '6': 'Спортсмен-pro-2',\n",
              " '7': 'Спортсмен-pro-3',\n",
              " '8': 'Спортсмен-pro-4',\n",
              " '9': 'Спортсмен-pro-5',\n",
              " '10': 'Спортсмен-pro-6',\n",
              " '11': 'Спортсмен-любитель 1',\n",
              " '12': 'Спортсмен-любитель 2',\n",
              " '13': 'Спортсмен-любитель 3',\n",
              " '14': 'Спортсмен-любитель 4',\n",
              " '15': 'Спортсмен-любитель 5',\n",
              " '16': 'Спортсмен-любитель 6',\n",
              " '17': 'Спортсмен-любитель 7',\n",
              " '18': 'Спортсмен-любитель 8',\n",
              " '19': 'Спортсмен-любитель 9',\n",
              " '20': 'Спортсмен-любитель 10',\n",
              " '21': 'Спортсмен-любитель 11',\n",
              " '22': 'Спортсмен-другой регион 1',\n",
              " '23': 'Спортсмен-другой регион 2',\n",
              " '24': 'Спортсмен-другой регион 3',\n",
              " '25': 'Спортсмен-другой регион 4',\n",
              " '26': 'Спортсмен-другой регион 5',\n",
              " '27': 'Тренер спортсменов др. регион',\n",
              " '28': 'Активный-участник 1',\n",
              " '29': 'Активный-участник 2',\n",
              " '30': 'Активный-участник 3',\n",
              " '31': 'Активный-участник 4',\n",
              " '32': 'Активный-участник 5',\n",
              " '33': 'Активный-участник 6',\n",
              " '34': 'Активный-участник 7',\n",
              " '35': 'Активный-участник 8',\n",
              " '36': 'Активный-участник 9',\n",
              " '37': 'Активный-участник 10',\n",
              " '38': 'Активный-участник 11',\n",
              " '39': 'Активный-участник 12',\n",
              " '40': 'Активный-участник 13'}"
            ]
          },
          "execution_count": 53,
          "metadata": {},
          "output_type": "execute_result"
        }
      ],
      "source": [
        "#node labels in the graph dictionary\n",
        "list_labels ={}\n",
        "for node in G.nodes:\n",
        "  list_labels[node]=G.nodes[node]['label']\n",
        "\n",
        "list_labels  \n"
      ]
    },
    {
      "cell_type": "markdown",
      "metadata": {
        "id": "_tsBKrubrd_3"
      },
      "source": [
        "The similar_by_word function allows you to find similar graph nodes based on the resulting vector representation of graph nodes. The measure of similarity is the cosine proximity between vectors. By default, it will return the 10 most similar nodes.\n",
        "\n",
        "Similarity function - returns the value of proximity between vectors (cosine similarity)"
      ]
    },
    {
      "cell_type": "code",
      "execution_count": null,
      "metadata": {
        "colab": {
          "base_uri": "https://localhost:8080/"
        },
        "id": "7odBPGWYrtBK",
        "outputId": "042e50e4-7af6-49b3-c88b-cf6d1521d8d1"
      },
      "outputs": [
        {
          "name": "stdout",
          "output_type": "stream",
          "text": [
            "Nodes similar to 0 [('16', 0.9789484143257141), ('21', 0.9788088798522949), ('12', 0.9782329797744751), ('13', 0.9745197296142578), ('15', 0.9704200625419617), ('11', 0.9674797654151917), ('17', 0.9664049744606018), ('14', 0.9657437205314636), ('19', 0.9648654460906982), ('20', 0.9625815749168396)]\n",
            "Cosine measure of similarity between nodes 0 и 27 =  0.9933231\n",
            "Nodes similar to 27 [('24', 0.9980704188346863), ('26', 0.9962289333343506), ('3', 0.9959617853164673), ('25', 0.9958141446113586), ('22', 0.9953219294548035), ('23', 0.995158851146698), ('7', 0.9934976696968079), ('0', 0.9933230876922607), ('8', 0.992276132106781), ('9', 0.9882630705833435)]\n",
            "Cosine measure of similarity between nodes 1 и 27 =  0.6773457\n"
          ]
        }
      ],
      "source": [
        "#example\n",
        "similar = model.wv.similar_by_word('1')\n",
        "print(\"Nodes similar to 0\", similar)\n",
        "print(\"Cosine measure of similarity between nodes 0 и 27 = \", model.wv.similarity('0', '27')) #the node is similar to itself, the cosine measure should be = 1\n",
        "similar1 = model.wv.similar_by_word('27')\n",
        "print(\"Nodes similar to 27\", similar1)\n",
        "print(\"Cosine measure of similarity between nodes 1 и 27 = \", model.wv.similarity('1', '27')) #the node is similar to itself, the cosine measure should be = 1"
      ]
    },
    {
      "cell_type": "code",
      "execution_count": null,
      "metadata": {
        "colab": {
          "base_uri": "https://localhost:8080/"
        },
        "id": "2IVl_DdrscPW",
        "outputId": "2b709107-27ee-4d39-a13b-5119b3ed924f"
      },
      "outputs": [
        {
          "name": "stdout",
          "output_type": "stream",
          "text": [
            "Спортсмен-любитель 6\n",
            "Спортсмен-любитель 11\n",
            "Спортсмен-любитель 2\n",
            "Спортсмен-любитель 3\n",
            "Спортсмен-любитель 5\n",
            "Спортсмен-любитель 1\n",
            "Спортсмен-любитель 7\n",
            "Спортсмен-любитель 4\n",
            "Спортсмен-любитель 9\n",
            "Спортсмен-любитель 10\n",
            "10\n",
            "--------------------\n",
            "Спортсмен-другой регион 3\n",
            "Спортсмен-другой регион 5\n",
            "Организатор 3(Дох)\n",
            "Спортсмен-другой регион 4\n",
            "Спортсмен-другой регион 1\n",
            "Спортсмен-другой регион 2\n",
            "Спортсмен-pro-3\n",
            "Главный тренер-группа pro\n",
            "Спортсмен-pro-4\n",
            "Спортсмен-pro-5\n"
          ]
        }
      ],
      "source": [
        "# how to view nodes that are similar to the given one \n",
        "# in similar - nodes similar to 1 nodes - 10 nodes by default\n",
        "for i in range(len(similar)):\n",
        "  print(G.nodes[similar[i][0]]['label'])\n",
        "print(len(similar))\n",
        "print('--------------------')\n",
        "for i in range(len(similar)):\n",
        "  print (G.nodes[similar1[i][0]]['label'])\n",
        "similar = model.wv.similar_by_word('1')"
      ]
    },
    {
      "cell_type": "code",
      "execution_count": null,
      "metadata": {
        "colab": {
          "base_uri": "https://localhost:8080/",
          "height": 531
        },
        "id": "dvaYDLS_scTq",
        "outputId": "0d4bdcc3-3043-4f02-8f01-5c4f5236c71e"
      },
      "outputs": [
        {
          "data": {
            "image/png": "[encoded data removed]",
            "text/plain": [
              "<Figure size 432x216 with 1 Axes>"
            ]
          },
          "metadata": {},
          "output_type": "display_data"
        },
        {
          "data": {
            "image/png": "[encoded data removed]",
            "text/plain": [
              "<Figure size 720x360 with 2 Axes>"
            ]
          },
          "metadata": {},
          "output_type": "display_data"
        }
      ],
      "source": [
        "#from sklearn.decomposition import PCA\n",
        "#import matplotlib.pyplot as plt\n",
        "#%matplotlib inline\n",
        "\n",
        "plot_nodes(node_list = list(model.wv.vocab), X_embedding=X, annotate=True, annotate_labes=list_labels)\n",
        "plot_TSNE_PCA_nodes(node_list = list(model.wv.vocab), X_embedding=X, annotate=True, annotate_labes=list_labels)"
      ]
    },
    {
      "cell_type": "markdown",
      "metadata": {
        "id": "1Ngys5dL3WZB"
      },
      "source": [
        "In order to form an idea of the similarity groups within the analyzed social graph, a cluster analysis will be performed **using 3 methods**. \n",
        "\n",
        "\n",
        "* DB-scan is a method that allows you to work with noise.\n",
        "* Affinity propagation - the method will allow you to detect many clusters\n",
        "* K-medoids"
      ]
    },
    {
      "cell_type": "markdown",
      "metadata": {
        "id": "n-KC-jF-3l1Y"
      },
      "source": [
        "Depending on the chosen similarity metric, it may be necessary to normalize the features of objects. For example, when using the Euclidean distance, such normalization is required so that the features have equal weight when performing cluster analysis. \n",
        "\n",
        "When using cosine similarity, such normalization is not performed. \n",
        "\n",
        "The following shows how the data is normalized if it needs to be done."
      ]
    },
    {
      "cell_type": "code",
      "execution_count": null,
      "metadata": {
        "id": "nmysYhAYscVZ"
      },
      "outputs": [],
      "source": [
        "#from sklearn import preprocessing\n",
        "#scaler  = preprocessing.StandardScaler().fit(X)\n",
        "\n",
        "#X_scaled = scaler.transform(X)"
      ]
    },
    {
      "cell_type": "markdown",
      "metadata": {
        "id": "YwSphW9h4YYi"
      },
      "source": [
        "**DB Scan**\n",
        "\n",
        "Use cosine distance, not cosine similarity, because not all clustering methods can work with negative distances (distances). Use eps = 0.09 and set min_samples: 3. (The minimum number of neighbors that a given point must have in order to be classified as a center point. It should be noted that the point itself is included in the minimum number of samples.)"
      ]
    },
    {
      "cell_type": "code",
      "execution_count": null,
      "metadata": {
        "id": "YReQYUQCsca0"
      },
      "outputs": [],
      "source": [
        "#the function outputs the composition of clusters\n",
        "#lab = cluster labels\n",
        "#G - graph\n",
        "\n",
        "def print_clusters(lab, G, list_nodes):\n",
        "  for c in list(set(lab)):\n",
        "    print('CLUSTER ', c, '-----------')\n",
        "    j=0\n",
        "    t=0\n",
        "    for i in range(len(lab)):\n",
        "      if lab[i]==c:\n",
        "        t = t +1\n",
        "        itm = list_nodes[i]\n",
        "        if G.nodes[itm]['label'] != '-':\n",
        "          print (G.nodes[itm]['label'], ', id-', itm)\n",
        "        else:\n",
        "          j = j + 1\n",
        "    print (\"Неразмеченных -\", j)\n",
        "    print (\"ВСЕГО в кластере  -\", t)       "
      ]
    },
    {
      "cell_type": "code",
      "execution_count": null,
      "metadata": {
        "colab": {
          "base_uri": "https://localhost:8080/"
        },
        "id": "E4363r8Yscd7",
        "outputId": "7e0a68a3-1ede-4223-e9c4-5679787fa671"
      },
      "outputs": [
        {
          "name": "stdout",
          "output_type": "stream",
          "text": [
            "кластеров -  3 , шум  0 , всего  41 , метки кластеров {0, 1, 2}\n",
            "CLUSTER  0 -----------\n",
            "Главный тренер-группа pro , id- 0\n",
            "Спортсмен-pro-4 , id- 8\n",
            "Спортсмен-pro-6 , id- 10\n",
            "Спортсмен-pro-3 , id- 7\n",
            "Спортсмен-pro-5 , id- 9\n",
            "Спортсмен-pro-1 , id- 5\n",
            "Спортсмен-другой регион 2 , id- 23\n",
            "Спортсмен-другой регион 5 , id- 26\n",
            "Спортсмен-другой регион 4 , id- 25\n",
            "Спортсмен-другой регион 3 , id- 24\n",
            "Тренер спортсменов др. регион , id- 27\n",
            "Спортсмен-другой регион 1 , id- 22\n",
            "Спортсмен-pro-2 , id- 6\n",
            "Спортивный врач-физиотерапевт , id- 4\n",
            "Организатор 3(Дох) , id- 3\n",
            "Неразмеченных - 0\n",
            "ВСЕГО в кластере  - 15\n",
            "CLUSTER  1 -----------\n",
            "Тренер - группа любители, организатор 1 , id- 1\n",
            "Спортсмен-любитель 7 , id- 17\n",
            "Спортсмен-любитель 11 , id- 21\n",
            "Спортсмен-любитель 8 , id- 18\n",
            "Спортсмен-любитель 10 , id- 20\n",
            "Спортсмен-любитель 9 , id- 19\n",
            "Спортсмен-любитель 4 , id- 14\n",
            "Спортсмен-любитель 3 , id- 13\n",
            "Спортсмен-любитель 5 , id- 15\n",
            "Спортсмен-любитель 2 , id- 12\n",
            "Спортсмен-любитель 6 , id- 16\n",
            "Спортсмен-любитель 1 , id- 11\n",
            "Неразмеченных - 0\n",
            "ВСЕГО в кластере  - 12\n",
            "CLUSTER  2 -----------\n",
            "Организатор 2 , id- 2\n",
            "Активный-участник 7 , id- 34\n",
            "Активный-участник 5 , id- 32\n",
            "Активный-участник 3 , id- 30\n",
            "Активный-участник 1 , id- 28\n",
            "Активный-участник 2 , id- 29\n",
            "Активный-участник 11 , id- 38\n",
            "Активный-участник 6 , id- 33\n",
            "Активный-участник 13 , id- 40\n",
            "Активный-участник 9 , id- 36\n",
            "Активный-участник 8 , id- 35\n",
            "Активный-участник 4 , id- 31\n",
            "Активный-участник 12 , id- 39\n",
            "Активный-участник 10 , id- 37\n",
            "Неразмеченных - 0\n",
            "ВСЕГО в кластере  - 14\n"
          ]
        }
      ],
      "source": [
        "## dbscan with cosine distance\n",
        "from sklearn.cluster import DBSCAN\n",
        "import numpy as np\n",
        "import sklearn\n",
        "#X = model[model.wv.vocab]\n",
        "CosDist = sklearn.metrics.pairwise.cosine_distances(X,X)\n",
        "\n",
        "#можно двумя способами сделать\n",
        "db = DBSCAN(metric=\"precomputed\", eps=0.5, min_samples=2).fit(CosDist) \n",
        "db = DBSCAN( metric='cosine', eps=0.05, min_samples=2).fit(X)\n",
        "db.labels_\n",
        "\n",
        "#оценка сколько получилось кластеров и сколько объектов отмечено как шумовых\n",
        "n_clusters_ = len(set(db.labels_)) - (1 if -1 in db.labels_ else 0)\n",
        "n_noise_ = list(db.labels_).count(-1)\n",
        "print(\"кластеров - \", n_clusters_, \", шум \", n_noise_, \", всего \", len(db.labels_) , \", метки кластеров\", set(db.labels_))\n",
        "\n",
        "print_clusters(db.labels_, G, list(model.wv.vocab)) "
      ]
    },
    {
      "cell_type": "markdown",
      "metadata": {
        "id": "auQV-9n9C72a"
      },
      "source": [
        "The elbow method allows you to determine the optimal number of clusters for the k-means method. It can be seen that even using the Euclidean distance instead of the recommended cosine by the elbow method, a successful solution is to split the source objects into 3 clusters."
      ]
    },
    {
      "cell_type": "code",
      "execution_count": null,
      "metadata": {
        "colab": {
          "background_save": true,
          "base_uri": "https://localhost:8080/",
          "height": 463
        },
        "id": "A4WbBOlDC83b",
        "outputId": "ffbb57cd-5f0e-4b88-c409-50171a43800d"
      },
      "outputs": [
        {
          "name": "stdout",
          "output_type": "stream",
          "text": [
            "Fit 2 clusters\n",
            "Fit 3 clusters\n",
            "Fit 4 clusters\n",
            "Fit 5 clusters\n",
            "Fit 6 clusters\n",
            "Fit 7 clusters\n",
            "Fit 8 clusters\n",
            "Fit 9 clusters\n",
            "Fit 10 clusters\n"
          ]
        },
        {
          "data": {
            "image/png": "[encoded data removed]",
            "text/plain": [
              "<Figure size 432x288 with 1 Axes>"
            ]
          },
          "metadata": {},
          "output_type": "display_data"
        }
      ],
      "source": [
        "#using batch processing , you can calculate optimal number of clusters\n",
        "#however, with such processing, it is not possible to calculate the distance measure yourself\n",
        "#However, we use it in this form and make an \"estimate\" to determine the optimal number of clusters by the Elbow method\n",
        "from sklearn.cluster import MiniBatchKMeans\n",
        "#optimal number of clusters\n",
        "def find_optimal_clusters(data, max_k):\n",
        "    iters = range(2, max_k+1, 1)\n",
        "    \n",
        "    sse = []\n",
        "    for k in iters:\n",
        "        sse.append(MiniBatchKMeans(n_clusters=k, init_size=1024, batch_size=2048, random_state=20).fit(data).inertia_)\n",
        "        print('Fit {} clusters'.format(k))\n",
        "        \n",
        "    f, ax = plt.subplots(1, 1)\n",
        "    ax.plot(iters, sse, marker='o')\n",
        "    ax.set_xlabel('Центры кластеров')\n",
        "    ax.set_xticks(iters)\n",
        "    ax.set_xticklabels(iters)\n",
        "    ax.set_ylabel('SSE')\n",
        "    ax.set_title('SSE by Cluster Center Plot')\n",
        "    \n",
        "find_optimal_clusters(X, 10)\n"
      ]
    },
    {
      "cell_type": "markdown",
      "metadata": {
        "id": "dwfLqHfdEI63"
      },
      "source": [
        "We perform cluster analysis using the k-means method. The implementation of k-means in the scikit-learn library does not allow working with metrics other than Euclidean because the average value is not a good estimate of cluster centers in non-Euclidean space. In this case, an alternative k-medoids method is used. \n",
        "\n",
        "In this paper, cluster analysis will be performed using the kmeans method with Euclidean distance and then k-medoids with cosine."
      ]
    },
    {
      "cell_type": "code",
      "execution_count": null,
      "metadata": {
        "colab": {
          "base_uri": "https://localhost:8080/",
          "height": 1000
        },
        "id": "4ownTdfnC86o",
        "outputId": "a5dfbbef-a84d-41ed-8412-159c066172b4"
      },
      "outputs": [
        {
          "name": "stdout",
          "output_type": "stream",
          "text": [
            "[0 0 0 0 0 0 0 0 0 0 0 0 2 2 2 2 2 2 0 0 1 1 1 1 1 1 1 2 2 2 2 2 2 1 1 0 1\n",
            " 1 1 1 1]\n",
            "CLUSTER  0 -----------\n",
            "Главный тренер-группа pro , id- 0\n",
            "Спортсмен-pro-4 , id- 8\n",
            "Спортсмен-pro-6 , id- 10\n",
            "Спортсмен-pro-3 , id- 7\n",
            "Спортсмен-pro-5 , id- 9\n",
            "Спортсмен-pro-1 , id- 5\n",
            "Спортсмен-другой регион 2 , id- 23\n",
            "Спортсмен-другой регион 5 , id- 26\n",
            "Спортсмен-другой регион 4 , id- 25\n",
            "Спортсмен-другой регион 3 , id- 24\n",
            "Тренер спортсменов др. регион , id- 27\n",
            "Спортсмен-другой регион 1 , id- 22\n",
            "Спортсмен-pro-2 , id- 6\n",
            "Спортивный врач-физиотерапевт , id- 4\n",
            "Организатор 3(Дох) , id- 3\n",
            "Неразмеченных - 0\n",
            "ВСЕГО в кластере  - 15\n",
            "CLUSTER  1 -----------\n",
            "Организатор 2 , id- 2\n",
            "Активный-участник 7 , id- 34\n",
            "Активный-участник 5 , id- 32\n",
            "Активный-участник 3 , id- 30\n",
            "Активный-участник 1 , id- 28\n",
            "Активный-участник 2 , id- 29\n",
            "Активный-участник 11 , id- 38\n",
            "Активный-участник 6 , id- 33\n",
            "Активный-участник 13 , id- 40\n",
            "Активный-участник 9 , id- 36\n",
            "Активный-участник 8 , id- 35\n",
            "Активный-участник 4 , id- 31\n",
            "Активный-участник 12 , id- 39\n",
            "Активный-участник 10 , id- 37\n",
            "Неразмеченных - 0\n",
            "ВСЕГО в кластере  - 14\n",
            "CLUSTER  2 -----------\n",
            "Тренер - группа любители, организатор 1 , id- 1\n",
            "Спортсмен-любитель 7 , id- 17\n",
            "Спортсмен-любитель 11 , id- 21\n",
            "Спортсмен-любитель 8 , id- 18\n",
            "Спортсмен-любитель 10 , id- 20\n",
            "Спортсмен-любитель 9 , id- 19\n",
            "Спортсмен-любитель 4 , id- 14\n",
            "Спортсмен-любитель 3 , id- 13\n",
            "Спортсмен-любитель 5 , id- 15\n",
            "Спортсмен-любитель 2 , id- 12\n",
            "Спортсмен-любитель 6 , id- 16\n",
            "Спортсмен-любитель 1 , id- 11\n",
            "Неразмеченных - 0\n",
            "ВСЕГО в кластере  - 12\n"
          ]
        },
        {
          "data": {
            "image/png": "[encoded data removed]",
            "text/plain": [
              "<Figure size 720x360 with 2 Axes>"
            ]
          },
          "metadata": {},
          "output_type": "display_data"
        }
      ],
      "source": [
        "from sklearn.cluster import KMeans\n",
        "kmeans_cluster = KMeans(n_clusters=3, random_state=10).fit(X)\n",
        "#, precompute_distances = True\n",
        "print(kmeans_cluster.labels_)\n",
        "print_clusters(kmeans_cluster.labels_, G, list(model.wv.vocab))\n",
        "plot_TSNE_PCA_nodes(node_list = list(model.wv.vocab), X_embedding=X, annotate=True, annotate_labes=list_labels, labels=kmeans_cluster.labels_)"
      ]
    },
    {
      "cell_type": "markdown",
      "metadata": {
        "id": "kNIL0ZYlFBj3"
      },
      "source": [
        "In Google kolab, you need to install a package for extra clustering, then the kmedoid clustering method will be used from this package, which is similar to the k-means method, but differs in the way cluster centers are selected and is suitable for all other distance metrics, including cosine distance."
      ]
    },
    {
      "cell_type": "code",
      "execution_count": null,
      "metadata": {
        "colab": {
          "background_save": true,
          "base_uri": "https://localhost:8080/"
        },
        "id": "lOzLxiMYC89G",
        "outputId": "001fbfb3-ba7e-4b91-fc15-f2cc0960b9f0"
      },
      "outputs": [
        {
          "name": "stdout",
          "output_type": "stream",
          "text": [
            "Looking in indexes: https://pypi.org/simple, https://us-python.pkg.dev/colab-wheels/public/simple/\n",
            "Collecting scikit-learn-extra\n",
            "  Downloading scikit_learn_extra-0.2.0-cp37-cp37m-manylinux2010_x86_64.whl (1.7 MB)\n",
            "\u001b[K     |████████████████████████████████| 1.7 MB 7.3 MB/s \n",
            "\u001b[?25hRequirement already satisfied: scikit-learn>=0.23.0 in /usr/local/lib/python3.7/dist-packages (from scikit-learn-extra) (1.0.2)\n",
            "Requirement already satisfied: scipy>=0.19.1 in /usr/local/lib/python3.7/dist-packages (from scikit-learn-extra) (1.7.3)\n",
            "Requirement already satisfied: numpy>=1.13.3 in /usr/local/lib/python3.7/dist-packages (from scikit-learn-extra) (1.21.6)\n",
            "Requirement already satisfied: threadpoolctl>=2.0.0 in /usr/local/lib/python3.7/dist-packages (from scikit-learn>=0.23.0->scikit-learn-extra) (3.1.0)\n",
            "Requirement already satisfied: joblib>=0.11 in /usr/local/lib/python3.7/dist-packages (from scikit-learn>=0.23.0->scikit-learn-extra) (1.1.0)\n",
            "Installing collected packages: scikit-learn-extra\n",
            "Successfully installed scikit-learn-extra-0.2.0\n"
          ]
        }
      ],
      "source": [
        "!pip install scikit-learn-extra"
      ]
    },
    {
      "cell_type": "code",
      "execution_count": null,
      "metadata": {
        "colab": {
          "base_uri": "https://localhost:8080/",
          "height": 463
        },
        "id": "0IrhuYW_Fbla",
        "outputId": "3c5c1e7a-4863-4c48-a6d1-669cc065aae3"
      },
      "outputs": [
        {
          "name": "stdout",
          "output_type": "stream",
          "text": [
            "Fit 2 clusters\n",
            "Fit 3 clusters\n",
            "Fit 4 clusters\n",
            "Fit 5 clusters\n",
            "Fit 6 clusters\n",
            "Fit 7 clusters\n",
            "Fit 8 clusters\n",
            "Fit 9 clusters\n",
            "[0.61813825, 0.9238494, 0.9151149, 0.83720547, 0.814246, 0.8312537, 0.793735, 0.63800716]\n"
          ]
        },
        {
          "data": {
            "image/png": "[encoded data removed]",
            "text/plain": [
              "<Figure size 432x288 with 1 Axes>"
            ]
          },
          "metadata": {},
          "output_type": "display_data"
        }
      ],
      "source": [
        "from sklearn_extra.cluster import KMedoids\n",
        "from sklearn import metrics\n",
        "#let's choose the optimal number of clusters by silhouette\n",
        "iters_1 = range(2, 10, 1)\n",
        "siloete_arr = []\n",
        "for k in iters_1:\n",
        "    kmedoids = KMedoids(n_clusters=k, random_state=14, metric='cosine').fit(X)\n",
        "    siloete_arr.append(metrics.silhouette_score( metric=\"precomputed\", X=CosDist,   labels=kmedoids.labels_ ))\n",
        "    \n",
        "\n",
        "    print('Fit {} clusters'.format(k))\n",
        "    \n",
        "f, ax = plt.subplots(1, 1)\n",
        "ax.plot(iters_1, siloete_arr, marker='o')\n",
        "ax.set_xlabel('Центры кластеров')\n",
        "ax.set_xticks(iters_1)\n",
        "ax.set_xticklabels(iters_1)\n",
        "ax.set_ylabel('Siloete')\n",
        "ax.set_title('Siloete by Cluster Center Plot')\n",
        "####################\n",
        "print (siloete_arr)\n"
      ]
    },
    {
      "cell_type": "code",
      "execution_count": null,
      "metadata": {
        "id": "78NhVxMJFbo3"
      },
      "outputs": [],
      "source": [
        "# Используя метод kmedoid https://scikit-learn-extra.readthedocs.io/en/stable/generated/sklearn_extra.cluster.KMedoids.html\n",
        "# получите метки кластеров и выведете результат с использованием функции print_clusters и plot_TSNE_PCA_nodes\n",
        "#kmedoids = KMedoids(n_clusters=7, random_state=14, metric='cosine').fit(X)\n",
        "#kmedoids.labels_"
      ]
    },
    {
      "cell_type": "code",
      "execution_count": null,
      "metadata": {
        "colab": {
          "base_uri": "https://localhost:8080/",
          "height": 1000
        },
        "id": "dc_-QGVBFbrS",
        "outputId": "843d2a50-37e5-41aa-c8c8-1113d7334970"
      },
      "outputs": [
        {
          "name": "stdout",
          "output_type": "stream",
          "text": [
            "[2 2 2 2 2 2 5 5 5 5 5 5 1 6 6 6 6 6 2 2 0 0 0 0 0 0 3 4 4 4 4 4 4 0 3 2 0\n",
            " 0 3 3 3]\n",
            "CLUSTER  0 -----------\n",
            "Организатор 2 , id- 2\n",
            "Активный-участник 7 , id- 34\n",
            "Активный-участник 5 , id- 32\n",
            "Активный-участник 3 , id- 30\n",
            "Активный-участник 1 , id- 28\n",
            "Активный-участник 2 , id- 29\n",
            "Активный-участник 6 , id- 33\n",
            "Активный-участник 9 , id- 36\n",
            "Активный-участник 8 , id- 35\n",
            "Неразмеченных - 0\n",
            "ВСЕГО в кластере  - 9\n",
            "CLUSTER  1 -----------\n",
            "Тренер - группа любители, организатор 1 , id- 1\n",
            "Неразмеченных - 0\n",
            "ВСЕГО в кластере  - 1\n",
            "CLUSTER  2 -----------\n",
            "Главный тренер-группа pro , id- 0\n",
            "Спортсмен-pro-4 , id- 8\n",
            "Спортсмен-pro-6 , id- 10\n",
            "Спортсмен-pro-3 , id- 7\n",
            "Спортсмен-pro-5 , id- 9\n",
            "Спортсмен-pro-1 , id- 5\n",
            "Спортсмен-pro-2 , id- 6\n",
            "Спортивный врач-физиотерапевт , id- 4\n",
            "Организатор 3(Дох) , id- 3\n",
            "Неразмеченных - 0\n",
            "ВСЕГО в кластере  - 9\n",
            "CLUSTER  3 -----------\n",
            "Активный-участник 11 , id- 38\n",
            "Активный-участник 13 , id- 40\n",
            "Активный-участник 4 , id- 31\n",
            "Активный-участник 12 , id- 39\n",
            "Активный-участник 10 , id- 37\n",
            "Неразмеченных - 0\n",
            "ВСЕГО в кластере  - 5\n",
            "CLUSTER  4 -----------\n",
            "Спортсмен-любитель 4 , id- 14\n",
            "Спортсмен-любитель 3 , id- 13\n",
            "Спортсмен-любитель 5 , id- 15\n",
            "Спортсмен-любитель 2 , id- 12\n",
            "Спортсмен-любитель 6 , id- 16\n",
            "Спортсмен-любитель 1 , id- 11\n",
            "Неразмеченных - 0\n",
            "ВСЕГО в кластере  - 6\n",
            "CLUSTER  5 -----------\n",
            "Спортсмен-другой регион 2 , id- 23\n",
            "Спортсмен-другой регион 5 , id- 26\n",
            "Спортсмен-другой регион 4 , id- 25\n",
            "Спортсмен-другой регион 3 , id- 24\n",
            "Тренер спортсменов др. регион , id- 27\n",
            "Спортсмен-другой регион 1 , id- 22\n",
            "Неразмеченных - 0\n",
            "ВСЕГО в кластере  - 6\n",
            "CLUSTER  6 -----------\n",
            "Спортсмен-любитель 7 , id- 17\n",
            "Спортсмен-любитель 11 , id- 21\n",
            "Спортсмен-любитель 8 , id- 18\n",
            "Спортсмен-любитель 10 , id- 20\n",
            "Спортсмен-любитель 9 , id- 19\n",
            "Неразмеченных - 0\n",
            "ВСЕГО в кластере  - 5\n"
          ]
        },
        {
          "data": {
            "image/png": "[encoded data removed]",
            "text/plain": [
              "<Figure size 720x360 with 2 Axes>"
            ]
          },
          "metadata": {},
          "output_type": "display_data"
        }
      ],
      "source": [
        "from sklearn.cluster import KMeans\n",
        "kmeans_cluster = KMeans(n_clusters=7, random_state=14).fit(X)\n",
        "#, precompute_distances = True\n",
        "print(kmeans_cluster.labels_)\n",
        "print_clusters(kmeans_cluster.labels_, G, list(model.wv.vocab))\n",
        "plot_TSNE_PCA_nodes(node_list = list(model.wv.vocab), X_embedding=X, annotate=True, annotate_labes=list_labels, labels=kmeans_cluster.labels_)\n"
      ]
    },
    {
      "cell_type": "code",
      "execution_count": null,
      "metadata": {
        "colab": {
          "background_save": true,
          "base_uri": "https://localhost:8080/",
          "height": 463
        },
        "id": "w_9UsSv2IIpd",
        "outputId": "bde014a5-640d-4dfa-cd2f-130f954a1e56"
      },
      "outputs": [
        {
          "name": "stdout",
          "output_type": "stream",
          "text": [
            "Fit 2 clusters\n",
            "Fit 3 clusters\n",
            "Fit 4 clusters\n",
            "Fit 5 clusters\n",
            "Fit 6 clusters\n",
            "Fit 7 clusters\n",
            "Fit 8 clusters\n",
            "Fit 9 clusters\n",
            "[0.4241915, 0.16784775, 0.78394073, 0.76816905, 0.63185424, 0.6185055, 0.59288627, 0.56056225]\n"
          ]
        },
        {
          "data": {
            "image/png": "[encoded data removed]",
            "text/plain": [
              "<Figure size 432x288 with 1 Axes>"
            ]
          },
          "metadata": {},
          "output_type": "display_data"
        }
      ],
      "source": [
        "from sklearn_extra.cluster import KMedoids\n",
        "from sklearn import metrics\n",
        "#let's choose the optimal number of clusters by silhouette\n",
        "iters_1 = range(2, 10, 1)\n",
        "siloete_arr = []\n",
        "for k in iters_1:\n",
        "    kmedoids = KMedoids(n_clusters=k, random_state=14, metric='cosine').fit(X)\n",
        "    siloete_arr.append(metrics.silhouette_score( metric=\"precomputed\", X=CosDist,   labels=kmedoids.labels_ ))\n",
        "    \n",
        "\n",
        "    print('Fit {} clusters'.format(k))\n",
        "    \n",
        "f, ax = plt.subplots(1, 1)\n",
        "ax.plot(iters_1, siloete_arr, marker='o')\n",
        "ax.set_xlabel('Cluster centers')\n",
        "ax.set_xticks(iters_1)\n",
        "ax.set_xticklabels(iters_1)\n",
        "ax.set_ylabel('Siloete')\n",
        "ax.set_title('Siloete by Cluster Center Plot')\n",
        "####################\n",
        "print (siloete_arr)\n",
        "#kmedoids.labels_"
      ]
    },
    {
      "cell_type": "code",
      "execution_count": null,
      "metadata": {
        "id": "BTDeYAlzzN3D"
      },
      "outputs": [],
      "source": [
        "#пример, как вызывать affinity \n",
        "\n",
        "\n",
        "#Affinity propagation use damping 0.7, cosine distance\n",
        "\n",
        "#the contents of the clusters and a visual image\n",
        "from sklearn.cluster import AffinityPropagation\n",
        "ap_cluster = AffinityPropagation( damping=0.7, max_iter=100, affinity='precomputed').fit(CosDist)"
      ]
    },
    {
      "cell_type": "code",
      "execution_count": null,
      "metadata": {
        "colab": {
          "base_uri": "https://localhost:8080/"
        },
        "id": "bfmPtJljII6I",
        "outputId": "ff03b90f-a8d4-483c-a31b-1a55f6bfd300"
      },
      "outputs": [
        {
          "name": "stdout",
          "output_type": "stream",
          "text": [
            "Affinity silhouette 0.3473234\n",
            "ARI dbscan vs affinity propagation  0.2667146801104309\n",
            "AMI dbscan vs affinity propagation  0.27946800731862115\n"
          ]
        }
      ],
      "source": [
        "from sklearn import metrics\n",
        "#silhouette\n",
        "print (\"Affinity silhouette\", metrics.silhouette_score( metric=\"precomputed\", X=CosDist,   labels = ap_cluster.labels_ ))\n",
        "\n",
        "\n",
        "# ARI\n",
        "print(\"ARI dbscan vs affinity propagation \", metrics.adjusted_rand_score(db.labels_, ap_cluster.labels_))\n",
        "\n",
        "#AMI\n",
        "print(\"AMI dbscan vs affinity propagation \",metrics.adjusted_mutual_info_score(db.labels_, ap_cluster.labels_))\n"
      ]
    },
    {
      "cell_type": "code",
      "execution_count": null,
      "metadata": {
        "colab": {
          "base_uri": "https://localhost:8080/",
          "height": 74
        },
        "id": "pqer7ogjLKMD",
        "outputId": "3aaf5cb1-9f8b-40ca-d214-5fcb390cf0b3"
      },
      "outputs": [
        {
          "data": {
            "text/html": [
              "\n",
              "     <input type=\"file\" id=\"files-fb51b3d8-14f0-4964-8170-36829de8ac69\" name=\"files[]\" multiple disabled\n",
              "        style=\"border:none\" />\n",
              "     <output id=\"result-fb51b3d8-14f0-4964-8170-36829de8ac69\">\n",
              "      Upload widget is only available when the cell has been executed in the\n",
              "      current browser session. Please rerun this cell to enable.\n",
              "      </output>\n",
              "      <script>// Copyright 2017 Google LLC\n",
              "//\n",
              "// Licensed under the Apache License, Version 2.0 (the \"License\");\n",
              "// you may not use this file except in compliance with the License.\n",
              "// You may obtain a copy of the License at\n",
              "//\n",
              "//      http://www.apache.org/licenses/LICENSE-2.0\n",
              "//\n",
              "// Unless required by applicable law or agreed to in writing, software\n",
              "// distributed under the License is distributed on an \"AS IS\" BASIS,\n",
              "// WITHOUT WARRANTIES OR CONDITIONS OF ANY KIND, either express or implied.\n",
              "// See the License for the specific language governing permissions and\n",
              "// limitations under the License.\n",
              "\n",
              "/**\n",
              " * @fileoverview Helpers for google.colab Python module.\n",
              " */\n",
              "(function(scope) {\n",
              "function span(text, styleAttributes = {}) {\n",
              "  const element = document.createElement('span');\n",
              "  element.textContent = text;\n",
              "  for (const key of Object.keys(styleAttributes)) {\n",
              "    element.style[key] = styleAttributes[key];\n",
              "  }\n",
              "  return element;\n",
              "}\n",
              "\n",
              "// Max number of bytes which will be uploaded at a time.\n",
              "const MAX_PAYLOAD_SIZE = 100 * 1024;\n",
              "\n",
              "function _uploadFiles(inputId, outputId) {\n",
              "  const steps = uploadFilesStep(inputId, outputId);\n",
              "  const outputElement = document.getElementById(outputId);\n",
              "  // Cache steps on the outputElement to make it available for the next call\n",
              "  // to uploadFilesContinue from Python.\n",
              "  outputElement.steps = steps;\n",
              "\n",
              "  return _uploadFilesContinue(outputId);\n",
              "}\n",
              "\n",
              "// This is roughly an async generator (not supported in the browser yet),\n",
              "// where there are multiple asynchronous steps and the Python side is going\n",
              "// to poll for completion of each step.\n",
              "// This uses a Promise to block the python side on completion of each step,\n",
              "// then passes the result of the previous step as the input to the next step.\n",
              "function _uploadFilesContinue(outputId) {\n",
              "  const outputElement = document.getElementById(outputId);\n",
              "  const steps = outputElement.steps;\n",
              "\n",
              "  const next = steps.next(outputElement.lastPromiseValue);\n",
              "  return Promise.resolve(next.value.promise).then((value) => {\n",
              "    // Cache the last promise value to make it available to the next\n",
              "    // step of the generator.\n",
              "    outputElement.lastPromiseValue = value;\n",
              "    return next.value.response;\n",
              "  });\n",
              "}\n",
              "\n",
              "/**\n",
              " * Generator function which is called between each async step of the upload\n",
              " * process.\n",
              " * @param {string} inputId Element ID of the input file picker element.\n",
              " * @param {string} outputId Element ID of the output display.\n",
              " * @return {!Iterable<!Object>} Iterable of next steps.\n",
              " */\n",
              "function* uploadFilesStep(inputId, outputId) {\n",
              "  const inputElement = document.getElementById(inputId);\n",
              "  inputElement.disabled = false;\n",
              "\n",
              "  const outputElement = document.getElementById(outputId);\n",
              "  outputElement.innerHTML = '';\n",
              "\n",
              "  const pickedPromise = new Promise((resolve) => {\n",
              "    inputElement.addEventListener('change', (e) => {\n",
              "      resolve(e.target.files);\n",
              "    });\n",
              "  });\n",
              "\n",
              "  const cancel = document.createElement('button');\n",
              "  inputElement.parentElement.appendChild(cancel);\n",
              "  cancel.textContent = 'Cancel upload';\n",
              "  const cancelPromise = new Promise((resolve) => {\n",
              "    cancel.onclick = () => {\n",
              "      resolve(null);\n",
              "    };\n",
              "  });\n",
              "\n",
              "  // Wait for the user to pick the files.\n",
              "  const files = yield {\n",
              "    promise: Promise.race([pickedPromise, cancelPromise]),\n",
              "    response: {\n",
              "      action: 'starting',\n",
              "    }\n",
              "  };\n",
              "\n",
              "  cancel.remove();\n",
              "\n",
              "  // Disable the input element since further picks are not allowed.\n",
              "  inputElement.disabled = true;\n",
              "\n",
              "  if (!files) {\n",
              "    return {\n",
              "      response: {\n",
              "        action: 'complete',\n",
              "      }\n",
              "    };\n",
              "  }\n",
              "\n",
              "  for (const file of files) {\n",
              "    const li = document.createElement('li');\n",
              "    li.append(span(file.name, {fontWeight: 'bold'}));\n",
              "    li.append(span(\n",
              "        `(${file.type || 'n/a'}) - ${file.size} bytes, ` +\n",
              "        `last modified: ${\n",
              "            file.lastModifiedDate ? file.lastModifiedDate.toLocaleDateString() :\n",
              "                                    'n/a'} - `));\n",
              "    const percent = span('0% done');\n",
              "    li.appendChild(percent);\n",
              "\n",
              "    outputElement.appendChild(li);\n",
              "\n",
              "    const fileDataPromise = new Promise((resolve) => {\n",
              "      const reader = new FileReader();\n",
              "      reader.onload = (e) => {\n",
              "        resolve(e.target.result);\n",
              "      };\n",
              "      reader.readAsArrayBuffer(file);\n",
              "    });\n",
              "    // Wait for the data to be ready.\n",
              "    let fileData = yield {\n",
              "      promise: fileDataPromise,\n",
              "      response: {\n",
              "        action: 'continue',\n",
              "      }\n",
              "    };\n",
              "\n",
              "    // Use a chunked sending to avoid message size limits. See b/62115660.\n",
              "    let position = 0;\n",
              "    do {\n",
              "      const length = Math.min(fileData.byteLength - position, MAX_PAYLOAD_SIZE);\n",
              "      const chunk = new Uint8Array(fileData, position, length);\n",
              "      position += length;\n",
              "\n",
              "      const base64 = btoa(String.fromCharCode.apply(null, chunk));\n",
              "      yield {\n",
              "        response: {\n",
              "          action: 'append',\n",
              "          file: file.name,\n",
              "          data: base64,\n",
              "        },\n",
              "      };\n",
              "\n",
              "      let percentDone = fileData.byteLength === 0 ?\n",
              "          100 :\n",
              "          Math.round((position / fileData.byteLength) * 100);\n",
              "      percent.textContent = `${percentDone}% done`;\n",
              "\n",
              "    } while (position < fileData.byteLength);\n",
              "  }\n",
              "\n",
              "  // All done.\n",
              "  yield {\n",
              "    response: {\n",
              "      action: 'complete',\n",
              "    }\n",
              "  };\n",
              "}\n",
              "\n",
              "scope.google = scope.google || {};\n",
              "scope.google.colab = scope.google.colab || {};\n",
              "scope.google.colab._files = {\n",
              "  _uploadFiles,\n",
              "  _uploadFilesContinue,\n",
              "};\n",
              "})(self);\n",
              "</script> "
            ],
            "text/plain": [
              "<IPython.core.display.HTML object>"
            ]
          },
          "metadata": {},
          "output_type": "display_data"
        },
        {
          "name": "stdout",
          "output_type": "stream",
          "text": [
            "Saving Filtered_graph.graphml to Filtered_graph (1).graphml\n"
          ]
        }
      ],
      "source": [
        "import networkx\n",
        "from google.colab import files\n",
        "#загрузка файла\n",
        "uploaded = files.upload()\n",
        "# данные из файла преобразуются в граф\n",
        "#G = networkx.readwrite.graphml.read_graphml(\"input_graph_anonimized.graphml\")\n",
        "G = networkx.readwrite.graphml.read_graphml(\"Filtered_graph.graphml\")"
      ]
    },
    {
      "cell_type": "code",
      "execution_count": null,
      "metadata": {
        "colab": {
          "base_uri": "https://localhost:8080/"
        },
        "id": "1I0jPJ8UII8c",
        "outputId": "3150ee1e-9052-492b-d119-d981715d1a57"
      },
      "outputs": [
        {
          "data": {
            "text/plain": [
              "NodeView((0, 1, 2, 3, 4, 5, 6, 7, 8, 9, 10, 11, 12, 13, 14, 15, 16, 17, 18, 19, 20, 21, 22, 23, 24, 25, 26, 27, 28, 29, 30, 31, 32, 33, 34, 35, 36, 37, 38, 39, 40))"
            ]
          },
          "execution_count": 34,
          "metadata": {},
          "output_type": "execute_result"
        }
      ],
      "source": [
        "#идентификаторы узлов должны быть целыми для использования библиотека, а тут строки, поэтому делается конвертация\n",
        "G1 = networkx.relabel.convert_node_labels_to_integers(G, first_label=0, ordering='default')\n",
        "G1.nodes"
      ]
    },
    {
      "cell_type": "code",
      "execution_count": null,
      "metadata": {
        "colab": {
          "base_uri": "https://localhost:8080/",
          "height": 908
        },
        "id": "bi-mPDDD2SH5",
        "outputId": "0918de5d-14c8-458d-a767-55e8a1022d0c"
      },
      "outputs": [
        {
          "name": "stdout",
          "output_type": "stream",
          "text": [
            "Looking in indexes: https://pypi.org/simple, https://us-python.pkg.dev/colab-wheels/public/simple/\n",
            "Collecting karateclub\n",
            "  Downloading karateclub-1.3.2.tar.gz (62 kB)\n",
            "\u001b[K     |████████████████████████████████| 62 kB 1.7 MB/s \n",
            "\u001b[?25hRequirement already satisfied: numpy<1.23.0 in /usr/local/lib/python3.7/dist-packages (from karateclub) (1.21.6)\n",
            "Requirement already satisfied: networkx<2.7 in /usr/local/lib/python3.7/dist-packages (from karateclub) (2.6.3)\n",
            "Requirement already satisfied: decorator==4.4.2 in /usr/local/lib/python3.7/dist-packages (from karateclub) (4.4.2)\n",
            "Requirement already satisfied: tqdm in /usr/local/lib/python3.7/dist-packages (from karateclub) (4.64.1)\n",
            "Requirement already satisfied: python-louvain in /usr/local/lib/python3.7/dist-packages (from karateclub) (0.16)\n",
            "Requirement already satisfied: scikit-learn in /usr/local/lib/python3.7/dist-packages (from karateclub) (1.0.2)\n",
            "Requirement already satisfied: scipy in /usr/local/lib/python3.7/dist-packages (from karateclub) (1.7.3)\n",
            "Collecting pygsp\n",
            "  Downloading PyGSP-0.5.1-py2.py3-none-any.whl (1.8 MB)\n",
            "\u001b[K     |████████████████████████████████| 1.8 MB 44.2 MB/s \n",
            "\u001b[?25hCollecting gensim>=4.0.0\n",
            "  Downloading gensim-4.2.0-cp37-cp37m-manylinux_2_12_x86_64.manylinux2010_x86_64.whl (24.1 MB)\n",
            "\u001b[K     |████████████████████████████████| 24.1 MB 1.3 MB/s \n",
            "\u001b[?25hRequirement already satisfied: pandas<=1.3.5 in /usr/local/lib/python3.7/dist-packages (from karateclub) (1.3.5)\n",
            "Requirement already satisfied: six in /usr/local/lib/python3.7/dist-packages (from karateclub) (1.15.0)\n",
            "Collecting python-Levenshtein\n",
            "  Downloading python_Levenshtein-0.20.5-py3-none-any.whl (9.4 kB)\n",
            "Requirement already satisfied: smart-open>=1.8.1 in /usr/local/lib/python3.7/dist-packages (from gensim>=4.0.0->karateclub) (5.2.1)\n",
            "Requirement already satisfied: python-dateutil>=2.7.3 in /usr/local/lib/python3.7/dist-packages (from pandas<=1.3.5->karateclub) (2.8.2)\n",
            "Requirement already satisfied: pytz>=2017.3 in /usr/local/lib/python3.7/dist-packages (from pandas<=1.3.5->karateclub) (2022.2.1)\n",
            "Collecting Levenshtein==0.20.5\n",
            "  Downloading Levenshtein-0.20.5-cp37-cp37m-manylinux_2_17_x86_64.manylinux2014_x86_64.whl (170 kB)\n",
            "\u001b[K     |████████████████████████████████| 170 kB 53.9 MB/s \n",
            "\u001b[?25hCollecting rapidfuzz<3.0.0,>=2.3.0\n",
            "  Downloading rapidfuzz-2.11.1-cp37-cp37m-manylinux_2_17_x86_64.manylinux2014_x86_64.whl (2.2 MB)\n",
            "\u001b[K     |████████████████████████████████| 2.2 MB 44.4 MB/s \n",
            "\u001b[?25hRequirement already satisfied: joblib>=0.11 in /usr/local/lib/python3.7/dist-packages (from scikit-learn->karateclub) (1.1.0)\n",
            "Requirement already satisfied: threadpoolctl>=2.0.0 in /usr/local/lib/python3.7/dist-packages (from scikit-learn->karateclub) (3.1.0)\n",
            "Building wheels for collected packages: karateclub\n",
            "  Building wheel for karateclub (setup.py) ... \u001b[?25l\u001b[?25hdone\n",
            "  Created wheel for karateclub: filename=karateclub-1.3.2-py3-none-any.whl size=99091 sha256=762cdd10f7266c449fdf2d77931a32a66084c22dc397bfe49ac1c53dd33f7003\n",
            "  Stored in directory: /root/.cache/pip/wheels/6c/56/60/90b1d642c510370d800bb81d4883e92023c45e3b7ca19cf1af\n",
            "Successfully built karateclub\n",
            "Installing collected packages: rapidfuzz, Levenshtein, python-Levenshtein, pygsp, gensim, karateclub\n",
            "  Attempting uninstall: gensim\n",
            "    Found existing installation: gensim 3.6.0\n",
            "    Uninstalling gensim-3.6.0:\n",
            "      Successfully uninstalled gensim-3.6.0\n",
            "Successfully installed Levenshtein-0.20.5 gensim-4.2.0 karateclub-1.3.2 pygsp-0.5.1 python-Levenshtein-0.20.5 rapidfuzz-2.11.1\n"
          ]
        },
        {
          "data": {
            "application/vnd.colab-display-data+json": {
              "pip_warning": {
                "packages": [
                  "gensim"
                ]
              }
            }
          },
          "metadata": {},
          "output_type": "display_data"
        }
      ],
      "source": [
        "!pip install karateclub"
      ]
    },
    {
      "cell_type": "code",
      "execution_count": null,
      "metadata": {
        "colab": {
          "base_uri": "https://localhost:8080/",
          "height": 378
        },
        "id": "qpfvwDvhLKTK",
        "outputId": "03624f8f-e952-43d6-da1c-93d0cbf2a458"
      },
      "outputs": [
        {
          "ename": "TypeError",
          "evalue": "ignored",
          "output_type": "error",
          "traceback": [
            "\u001b[0;31m---------------------------------------------------------------------------\u001b[0m",
            "\u001b[0;31mTypeError\u001b[0m                                 Traceback (most recent call last)",
            "\u001b[0;32m<ipython-input-40-9221ecd55adb>\u001b[0m in \u001b[0;36m<module>\u001b[0;34m\u001b[0m\n\u001b[1;32m      3\u001b[0m \u001b[0;31m#дип валк - эмбединг с рекомендованными параметрами\u001b[0m\u001b[0;34m\u001b[0m\u001b[0;34m\u001b[0m\u001b[0;34m\u001b[0m\u001b[0m\n\u001b[1;32m      4\u001b[0m \u001b[0mmodel\u001b[0m \u001b[0;34m=\u001b[0m \u001b[0mDeepWalk\u001b[0m\u001b[0;34m(\u001b[0m\u001b[0mwalk_length\u001b[0m\u001b[0;34m=\u001b[0m\u001b[0;36m80\u001b[0m\u001b[0;34m,\u001b[0m \u001b[0mdimensions\u001b[0m\u001b[0;34m=\u001b[0m\u001b[0;36m100\u001b[0m\u001b[0;34m,\u001b[0m \u001b[0mwindow_size\u001b[0m\u001b[0;34m=\u001b[0m\u001b[0;36m10\u001b[0m\u001b[0;34m)\u001b[0m\u001b[0;34m\u001b[0m\u001b[0;34m\u001b[0m\u001b[0m\n\u001b[0;32m----> 5\u001b[0;31m \u001b[0mmodel\u001b[0m\u001b[0;34m.\u001b[0m\u001b[0mfit\u001b[0m\u001b[0;34m(\u001b[0m\u001b[0mG1\u001b[0m\u001b[0;34m)\u001b[0m\u001b[0;34m\u001b[0m\u001b[0;34m\u001b[0m\u001b[0m\n\u001b[0m\u001b[1;32m      6\u001b[0m \u001b[0membed\u001b[0m \u001b[0;34m=\u001b[0m \u001b[0mmodel\u001b[0m\u001b[0;34m.\u001b[0m\u001b[0mget_embedding\u001b[0m\u001b[0;34m(\u001b[0m\u001b[0;34m)\u001b[0m\u001b[0;34m\u001b[0m\u001b[0;34m\u001b[0m\u001b[0m\n\u001b[1;32m      7\u001b[0m \u001b[0mprint\u001b[0m\u001b[0;34m(\u001b[0m\u001b[0;34m'векторное представление узлов'\u001b[0m\u001b[0;34m,\u001b[0m \u001b[0membed\u001b[0m\u001b[0;34m)\u001b[0m \u001b[0;31m# вывод векторов\u001b[0m\u001b[0;34m\u001b[0m\u001b[0;34m\u001b[0m\u001b[0m\n",
            "\u001b[0;32m/usr/local/lib/python3.7/dist-packages/karateclub/node_embedding/neighbourhood/deepwalk.py\u001b[0m in \u001b[0;36mfit\u001b[0;34m(self, graph)\u001b[0m\n\u001b[1;32m     69\u001b[0m             \u001b[0mmin_count\u001b[0m\u001b[0;34m=\u001b[0m\u001b[0mself\u001b[0m\u001b[0;34m.\u001b[0m\u001b[0mmin_count\u001b[0m\u001b[0;34m,\u001b[0m\u001b[0;34m\u001b[0m\u001b[0;34m\u001b[0m\u001b[0m\n\u001b[1;32m     70\u001b[0m             \u001b[0mworkers\u001b[0m\u001b[0;34m=\u001b[0m\u001b[0mself\u001b[0m\u001b[0;34m.\u001b[0m\u001b[0mworkers\u001b[0m\u001b[0;34m,\u001b[0m\u001b[0;34m\u001b[0m\u001b[0;34m\u001b[0m\u001b[0m\n\u001b[0;32m---> 71\u001b[0;31m             \u001b[0mseed\u001b[0m\u001b[0;34m=\u001b[0m\u001b[0mself\u001b[0m\u001b[0;34m.\u001b[0m\u001b[0mseed\u001b[0m\u001b[0;34m,\u001b[0m\u001b[0;34m\u001b[0m\u001b[0;34m\u001b[0m\u001b[0m\n\u001b[0m\u001b[1;32m     72\u001b[0m         )\n\u001b[1;32m     73\u001b[0m \u001b[0;34m\u001b[0m\u001b[0m\n",
            "\u001b[0;31mTypeError\u001b[0m: __init__() got an unexpected keyword argument 'epochs'"
          ]
        }
      ],
      "source": [
        "from karateclub import DeepWalk\n",
        "\n",
        "#дип валк - эмбединг с рекомендованными параметрами\n",
        "model = DeepWalk(walk_length=80, dimensions=100, window_size=10)\n",
        "model.fit(G1)\n",
        "embed = model.get_embedding()\n",
        "print('векторное представление узлов', embed) # вывод векторов\n",
        "print('весь список узлов', list(G1.nodes)) #сами узлы"
      ]
    },
    {
      "cell_type": "code",
      "execution_count": null,
      "metadata": {
        "colab": {
          "base_uri": "https://localhost:8080/",
          "height": 248
        },
        "id": "-WdNwpGALhic",
        "outputId": "e161827a-f477-4c45-a3e3-3a987aac4401"
      },
      "outputs": [
        {
          "ename": "NameError",
          "evalue": "ignored",
          "output_type": "error",
          "traceback": [
            "\u001b[0;31m---------------------------------------------------------------------------\u001b[0m",
            "\u001b[0;31mNameError\u001b[0m                                 Traceback (most recent call last)",
            "\u001b[0;32m<ipython-input-36-475c3e245db9>\u001b[0m in \u001b[0;36m<module>\u001b[0;34m\u001b[0m\n\u001b[1;32m      2\u001b[0m \u001b[0;32mimport\u001b[0m \u001b[0mnumpy\u001b[0m \u001b[0;32mas\u001b[0m \u001b[0mnp\u001b[0m\u001b[0;34m\u001b[0m\u001b[0;34m\u001b[0m\u001b[0m\n\u001b[1;32m      3\u001b[0m \u001b[0;34m\u001b[0m\u001b[0m\n\u001b[0;32m----> 4\u001b[0;31m \u001b[0mM\u001b[0m \u001b[0;34m=\u001b[0m \u001b[0;36m1\u001b[0m \u001b[0;34m-\u001b[0m \u001b[0mcdist\u001b[0m\u001b[0;34m(\u001b[0m\u001b[0membed\u001b[0m\u001b[0;34m,\u001b[0m \u001b[0membed\u001b[0m\u001b[0;34m,\u001b[0m \u001b[0mmetric\u001b[0m\u001b[0;34m=\u001b[0m\u001b[0;34m'cosine'\u001b[0m\u001b[0;34m)\u001b[0m\u001b[0;34m\u001b[0m\u001b[0;34m\u001b[0m\u001b[0m\n\u001b[0m\u001b[1;32m      5\u001b[0m \u001b[0mprint\u001b[0m \u001b[0;34m(\u001b[0m\u001b[0mM\u001b[0m\u001b[0;34m.\u001b[0m\u001b[0mshape\u001b[0m\u001b[0;34m)\u001b[0m\u001b[0;34m\u001b[0m\u001b[0;34m\u001b[0m\u001b[0m\n\u001b[1;32m      6\u001b[0m \u001b[0;31m# это матрица схожести.\u001b[0m\u001b[0;34m\u001b[0m\u001b[0;34m\u001b[0m\u001b[0;34m\u001b[0m\u001b[0m\n",
            "\u001b[0;31mNameError\u001b[0m: name 'embed' is not defined"
          ]
        }
      ],
      "source": [
        "from scipy.spatial.distance import cdist\n",
        "import numpy as np\n",
        "\n",
        "M = 1 - cdist(embed, embed, metric='cosine')\n",
        "print (M.shape)\n",
        "# это матрица схожести.\n",
        "# Теперь для того, чтобы найти 10 наиболее похожих на 1ый узел нужно найти 10 самых больших значений. Чем ближе к 1 тем больше схожесть, чем меньше, тем меньше.\n",
        "\n",
        "# выбираем 1ую строку - это схожесть всех узлов с 1ым.\n",
        "print (M[0,:])\n",
        "\n",
        "# смотрим 4 самых похожих\n",
        "temp = np.argpartition(-M[0,:], 10)\n",
        "result_args = temp[:10]\n",
        "print (result_args)\n"
      ]
    },
    {
      "cell_type": "code",
      "execution_count": null,
      "metadata": {
        "colab": {
          "base_uri": "https://localhost:8080/"
        },
        "id": "xpRSXjlJLhmH",
        "outputId": "993a8570-8e98-4945-fd5b-a67b0970e5e1"
      },
      "outputs": [
        {
          "name": "stdout",
          "output_type": "stream",
          "text": [
            "[0 4 8 5]\n",
            "[9 8 6 7]\n"
          ]
        }
      ],
      "source": [
        "#пример, чтобы понять как работает то, что выше\n",
        "\n",
        "import numpy as np\n",
        "\n",
        "test = np.array([9,1,3,4,8,7,2,5,6,0])\n",
        "\n",
        "temp = np.argpartition(-test, 4)\n",
        "result_args = temp[:4]\n",
        "print (result_args)\n",
        "\n",
        "temp = np.partition(-test, 4)\n",
        "result = -temp[:4]\n",
        "print (result)"
      ]
    },
    {
      "cell_type": "code",
      "execution_count": null,
      "metadata": {
        "id": "OB18r8wwLhpj"
      },
      "outputs": [],
      "source": [
        "# это функции для визуализации . \n",
        "\n",
        "from random import randint\n",
        "from sklearn.manifold import TSNE\n",
        "from sklearn.decomposition import PCA\n",
        "import numpy as np\n",
        "import matplotlib.pyplot as plt\n",
        "%matplotlib inline\n",
        "#labels - метки кластера\n",
        "#word_list - идентификаторы узлов графа\n",
        "#annotate - выводить ли подписи названий узлов на график\n",
        "def plot_PCA_nodes(G1, X_scaled, nodes_list,  labels = [],annotate = False , random_st=10):\n",
        "    \n",
        "    X = X_scaled\n",
        "    colors = ['#6495ED' for i in nodes_list]\n",
        "    map={}\n",
        "    if len(labels) != 0:\n",
        "       for i in set(labels):\n",
        "         map[i]='#%06X' % randint(0, 0xFFFFFF)\n",
        "       colors = [map[i] for i in labels]\n",
        "    \n",
        "    # reduce dimensions to 2\n",
        "    pca = PCA(n_components=2)\n",
        "    result = pca.fit_transform(X)\n",
        "    \n",
        "    plt.figure(figsize=(12,9))\n",
        "    # create a scatter plot of the projection\n",
        "    plt.scatter(result[:, 0], result[:, 1],  c=colors)\n",
        "    for i, node in enumerate(nodes_list):\n",
        "        if (G1.nodes[ node ]['label'] !='-' and annotate==True):\n",
        "           plt.annotate(G1.nodes[ node ]['label'], xy=(result[i, 0], result[i, 1]))\n",
        "    \n",
        "    plt.show()\n",
        "   \n",
        "\n",
        "\n",
        "    \n",
        "    \n",
        "\n",
        "def plot_TSNE_nodes(G1, X_scaled, nodes_list, labels = [], annotate = False, random_st=10):\n",
        "\n",
        "    colors = ['#6495ED' for i in nodes_list]\n",
        "    map={}\n",
        "    if len(labels) != 0:\n",
        "      for i in set(labels):\n",
        "         map[i]='#%06X' % randint(0, 0xFFFFFF)\n",
        "      colors = [map[i] for i in labels]\n",
        "\n",
        "    X = X_scaled\n",
        "\n",
        "\n",
        "    tsne = TSNE(n_components=2, verbose=0, perplexity=7, n_iter=150,  init='random', random_state=random_st)\n",
        "    tsne_results = tsne.fit_transform(X)\n",
        "    plt.figure(figsize=(12,9))\n",
        "    # create a scatter plot of the projection\n",
        "    plt.scatter(tsne_results[:, 0], tsne_results[:, 1], c = colors)\n",
        "    for i, node in enumerate(nodes_list):\n",
        "        if (G1.nodes[node]['label'] !='-' and annotate ==True):\n",
        "          plt.annotate(G1.nodes[node]['label'], xy=(tsne_results[i, 0], tsne_results[i, 1]))\n",
        "    plt.show()\n",
        "\n",
        "\n",
        "def plot_TSNE_PCA_nodes(G1, x_scaled, nodes_list, labels = [], annotate = False, random_st=10):\n",
        "\n",
        "    colors = ['#6495ED' for i in nodes_list]\n",
        "    map={}\n",
        "    if len(labels) != 0:\n",
        "      for i in set(labels):\n",
        "         map[i]='#%06X' % randint(0, 0xFFFFFF)\n",
        "      colors = [map[i] for i in labels]\n",
        "\n",
        "\n",
        "    X = X_scaled\n",
        "\n",
        "    tsne = TSNE(n_components=2, verbose=0, perplexity=7,   learning_rate=\"auto\",  init='pca', random_state=random_st)\n",
        "    tsne_results = tsne.fit_transform(X)\n",
        "\n",
        "    pca = PCA(n_components=2)\n",
        "    pca_results = pca.fit_transform(X)\n",
        "    \n",
        "    f, ax = plt.subplots(1, 2, figsize=(40, 20))\n",
        "    ax[0].scatter(pca_results[:, 0], pca_results[:, 1],  c=colors)\n",
        "    ax[0].set_title('PCA Cluster Plot')\n",
        "    \n",
        "    \n",
        "  \n",
        "\n",
        "    ax[1].scatter(tsne_results[:, 0], tsne_results[:, 1], c = colors)\n",
        "    ax[1].set_title('TSNE Cluster Plot')\n",
        "\n",
        "    for i, node in enumerate(nodes_list):\n",
        "        if (G1.nodes[node]['label'] !='-' and annotate ==True):\n",
        "          ax[0].annotate(G1.nodes[node]['label'], xy=(pca_results[i, 0], pca_results[i, 1]))\n",
        "          ax[1].annotate(G1.nodes[node]['label'], xy=(tsne_results[i, 0], tsne_results[i, 1]))\n",
        "    plt.show()"
      ]
    },
    {
      "cell_type": "code",
      "execution_count": null,
      "metadata": {
        "colab": {
          "base_uri": "https://localhost:8080/",
          "height": 914
        },
        "id": "4Bh4UyHpL6l-",
        "outputId": "67f70f4c-b850-4be3-88e1-2ae1c491ebbb"
      },
      "outputs": [
        {
          "name": "stderr",
          "output_type": "stream",
          "text": [
            "/usr/local/lib/python3.7/dist-packages/sklearn/manifold/_t_sne.py:986: FutureWarning: The PCA initialization in TSNE will change to have the standard deviation of PC1 equal to 1e-4 in 1.2. This will ensure better convergence.\n",
            "  FutureWarning,\n"
          ]
        },
        {
          "data": {
            "image/png": "[encoded data removed]",
            "text/plain": [
              "<Figure size 2880x1440 with 2 Axes>"
            ]
          },
          "metadata": {},
          "output_type": "display_data"
        }
      ],
      "source": [
        "X = embed\n",
        "\n",
        "X_scaled = X\n",
        "\n",
        "\n",
        "#plot_PCA_nodes(G1, X_scaled, list(G1.nodes), labels = [], annotate = False, random_st=15)\n",
        "\n",
        "plot_TSNE_PCA_nodes(G1,X_scaled, list(G1.nodes), labels = [], annotate = False, random_st=15)"
      ]
    }
  ],
  "metadata": {
    "colab": {
      "provenance": []
    },
    "kernelspec": {
      "display_name": "Python 3",
      "name": "python3"
    },
    "language_info": {
      "name": "python"
    }
  },
  "nbformat": 4,
  "nbformat_minor": 0
}